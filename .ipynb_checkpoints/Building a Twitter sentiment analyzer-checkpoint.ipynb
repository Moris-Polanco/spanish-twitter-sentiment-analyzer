{
 "cells": [
  {
   "cell_type": "markdown",
   "metadata": {},
   "source": [
    "# Building a Twitter Sentiment Analyzer"
   ]
  },
  {
   "cell_type": "markdown",
   "metadata": {},
   "source": [
    "## 0. Descripción"
   ]
  },
  {
   "cell_type": "markdown",
   "metadata": {},
   "source": [
    "El propósito de este notebook es crear una herramienta que sirva como predictora del sentimiento de tweets en Español basándonos en un algoritmo de machine learning entrenado.\n",
    "\n",
    "Para el entrenamiento, se ha empleado un dataset con más de 70.000 tweets labelizados en sentimiento negativo, neutro y positivo proporcionado por SEPLN (Spanish Society for Natural Language Processing). También se ha añadido otro set de datos clasificados del que han sido empleados aproximadamente 45.000 tweets.\n",
    "\n",
    "Para el tratamiento de los datos se han elaborado script que reducen al mínimo el contenido de los tweets intentando preservar el máximo de información. Las transformaciones que se han realizado han sido:\n",
    "- Eliminación de signos de puntuación\n",
    "- Supresión de emojis por las etiquetas {emoji_neg}, {emoji_neu}, {emoji_pos}\n",
    "- Normalización de expresiones que indicasen risa por 'jajaja', 'jejeje', 'jijiji', 'jojojo', 'jujuju'. No han sido revertidas todas a la misma expresión porque el significado de cada una puede ser completamente distinto.\n",
    "- Eliminación de stopwords, haciendo cambios en las stopwords predefinidas y dejando intactas las negaciones y algunos pronombres personales que pueden indicar cercanía.\n",
    "- Supresión de hashtags, links y menciones por {hash}, {link} y {menc}.\n",
    "- Lematización de todas las palabras con la librería Spacy.\n",
    "\n",
    "En la construcción de modelos se han optado por redes neuronales de capas GRU, RNN con capas LSTM, RNN bidireccionales y un modelo de red neuronal convolucional 1D. También se han valorado mediante la técnica de CountVectorizer e TFIFD la regresión logística, random forest y SVM como clasificadores. El algoritmo que mejor accuracy ha obtenido ha sido la regresión logística mediante Count Vectorizer, con más del 76% de acierto.\n",
    "\n",
    "Finalmente, el modelo funciona bien sin tener que haber recurrido a la hiperparametrización, lo que indica que el rendimiento podría ser incluso mejor. Aun así, dada la baja calidad del dataset, el modelo llega a confundir con frecuencia entre negativo-neutro y positivo-neutro, no así entre tweets negativo-positivo. Estas limitaciones intentarán solventarse en próximas iteraciones del modelo."
   ]
  },
  {
   "cell_type": "markdown",
   "metadata": {},
   "source": [
    "## 1. Tratando el dataset"
   ]
  },
  {
   "cell_type": "code",
   "execution_count": 558,
   "metadata": {},
   "outputs": [],
   "source": [
    "#!python -m spacy download es_core_news_md"
   ]
  },
  {
   "cell_type": "code",
   "execution_count": 559,
   "metadata": {},
   "outputs": [],
   "source": [
    "import tensorflow as tf\n",
    "physical_devices = tf.config.list_physical_devices('GPU')\n",
    "tf.config.experimental.set_memory_growth(physical_devices[0], enable=True)\n"
   ]
  },
  {
   "cell_type": "code",
   "execution_count": 560,
   "metadata": {},
   "outputs": [],
   "source": [
    "# Importamos librerías\n",
    "\n",
    "import pandas as pd\n",
    "import numpy as np\n",
    "import matplotlib.pyplot as plt\n",
    "%matplotlib inline\n",
    "import seaborn as sns\n",
    "import warnings\n",
    "from sklearn.utils import shuffle\n",
    "from keras.models import load_model\n",
    "from sklearn.metrics import confusion_matrix, classification_report\n",
    "from sklearn.ensemble import RandomForestClassifier\n",
    "from sklearn.model_selection import GridSearchCV\n",
    "\n",
    "warnings.filterwarnings('ignore')"
   ]
  },
  {
   "cell_type": "markdown",
   "metadata": {},
   "source": [
    "#### Dataset: Caracteres"
   ]
  },
  {
   "cell_type": "code",
   "execution_count": 561,
   "metadata": {},
   "outputs": [
    {
     "data": {
      "text/plain": [
       "(60003, 2)"
      ]
     },
     "execution_count": 561,
     "metadata": {},
     "output_type": "execute_result"
    }
   ],
   "source": [
    "# Cargamos más datos\n",
    "df_pos = pd.read_csv('data\\\\tweets_pos.txt', sep='delimiter', encoding='utf-8', names=['content'])\n",
    "df_neu = pd.read_csv('data\\\\tweets_neu.txt', sep='delimiter', encoding='utf-8', names=['content'])\n",
    "df_neg = pd.read_csv('data\\\\tweets_neg.txt', sep='delimiter', encoding='utf-8', names=['content'])\n",
    "\n",
    "# Añadimos columna sentiment\n",
    "df_pos['sentiment'] = 'P'\n",
    "df_neu['sentiment'] = 'NEU'\n",
    "df_neg['sentiment'] = 'N'\n",
    "\n",
    "# Seleccionamos 15000 de cada uno\n",
    "df_pos = df_pos.loc[:20000]\n",
    "df_neu = df_neu.loc[:20000]\n",
    "df_neg = df_neg.loc[:20000]\n",
    "\n",
    "# Concatenamos en un único df\n",
    "df_extra = pd.concat([df_pos, df_neu, df_neg]).reset_index(drop=True)\n",
    "\n",
    "# Imprimimos tamaño\n",
    "df_extra.shape"
   ]
  },
  {
   "cell_type": "code",
   "execution_count": 562,
   "metadata": {},
   "outputs": [],
   "source": [
    "# Eliminamos los duplicados\n",
    "df_extra.drop_duplicates(inplace = True)"
   ]
  },
  {
   "cell_type": "code",
   "execution_count": 563,
   "metadata": {},
   "outputs": [
    {
     "data": {
      "text/plain": [
       "<seaborn.axisgrid.FacetGrid at 0x2d11ed5ef08>"
      ]
     },
     "execution_count": 563,
     "metadata": {},
     "output_type": "execute_result"
    },
    {
     "data": {
      "image/png": "[encoded data removed]",
      "text/plain": [
       "<Figure size 360x360 with 1 Axes>"
      ]
     },
     "metadata": {
      "needs_background": "light"
     },
     "output_type": "display_data"
    }
   ],
   "source": [
    "sns.displot(df_extra.sentiment)"
   ]
  },
  {
   "cell_type": "markdown",
   "metadata": {},
   "source": [
    "#### Dataset: AWS"
   ]
  },
  {
   "cell_type": "code",
   "execution_count": 564,
   "metadata": {},
   "outputs": [],
   "source": [
    "df_aws = pd.read_csv('data/data_aws_3stars.csv', sep=';')[['review_body', 'label']]"
   ]
  },
  {
   "cell_type": "code",
   "execution_count": 565,
   "metadata": {},
   "outputs": [],
   "source": [
    "df_aws.replace({'label': {'NEG': 'N', 'POS': 'P'}}, inplace = True)\n",
    "df_aws.rename(columns = {'review_body': 'content', 'label': 'sentiment'},\n",
    "              inplace = True)"
   ]
  },
  {
   "cell_type": "code",
   "execution_count": 566,
   "metadata": {},
   "outputs": [
    {
     "name": "stdout",
     "output_type": "stream",
     "text": [
      "Número de duplicados: 349\n"
     ]
    }
   ],
   "source": [
    "print('Número de duplicados:', df_aws['content'].duplicated().sum())"
   ]
  },
  {
   "cell_type": "code",
   "execution_count": 567,
   "metadata": {},
   "outputs": [
    {
     "name": "stdout",
     "output_type": "stream",
     "text": [
      "Número de duplicados: 0\n"
     ]
    }
   ],
   "source": [
    "# Eliminamos duplicados\n",
    "df_aws.drop_duplicates(subset='content', inplace=True)\n",
    "print('Número de duplicados:', df_aws['content'].duplicated().sum())"
   ]
  },
  {
   "cell_type": "code",
   "execution_count": 568,
   "metadata": {},
   "outputs": [
    {
     "data": {
      "text/html": [
       "<div>\n",
       "<style scoped>\n",
       "    .dataframe tbody tr th:only-of-type {\n",
       "        vertical-align: middle;\n",
       "    }\n",
       "\n",
       "    .dataframe tbody tr th {\n",
       "        vertical-align: top;\n",
       "    }\n",
       "\n",
       "    .dataframe thead th {\n",
       "        text-align: right;\n",
       "    }\n",
       "</style>\n",
       "<table border=\"1\" class=\"dataframe\">\n",
       "  <thead>\n",
       "    <tr style=\"text-align: right;\">\n",
       "      <th></th>\n",
       "      <th>content</th>\n",
       "      <th>sentiment</th>\n",
       "    </tr>\n",
       "  </thead>\n",
       "  <tbody>\n",
       "    <tr>\n",
       "      <th>0</th>\n",
       "      <td>No logre hacerla funcionar en mi S9+</td>\n",
       "      <td>N</td>\n",
       "    </tr>\n",
       "    <tr>\n",
       "      <th>1</th>\n",
       "      <td>no se ajustan a tu cuerpo, y de mala calidad</td>\n",
       "      <td>N</td>\n",
       "    </tr>\n",
       "    <tr>\n",
       "      <th>2</th>\n",
       "      <td>No se puede pedir mas por ese precio</td>\n",
       "      <td>N</td>\n",
       "    </tr>\n",
       "    <tr>\n",
       "      <th>3</th>\n",
       "      <td>nunca llego y me marearon cosa mala...</td>\n",
       "      <td>N</td>\n",
       "    </tr>\n",
       "    <tr>\n",
       "      <th>4</th>\n",
       "      <td>Malísimo. No pega difícil</td>\n",
       "      <td>N</td>\n",
       "    </tr>\n",
       "  </tbody>\n",
       "</table>\n",
       "</div>"
      ],
      "text/plain": [
       "                                        content sentiment\n",
       "0          No logre hacerla funcionar en mi S9+         N\n",
       "1  no se ajustan a tu cuerpo, y de mala calidad         N\n",
       "2          No se puede pedir mas por ese precio         N\n",
       "3        nunca llego y me marearon cosa mala...         N\n",
       "4                     Malísimo. No pega difícil         N"
      ]
     },
     "execution_count": 568,
     "metadata": {},
     "output_type": "execute_result"
    }
   ],
   "source": [
    "df_aws.head()"
   ]
  },
  {
   "cell_type": "code",
   "execution_count": 569,
   "metadata": {},
   "outputs": [
    {
     "name": "stdout",
     "output_type": "stream",
     "text": [
      "Tamaño: 56651\n"
     ]
    },
    {
     "data": {
      "image/png": "[encoded data removed]",
      "text/plain": [
       "<Figure size 360x360 with 1 Axes>"
      ]
     },
     "metadata": {
      "needs_background": "light"
     },
     "output_type": "display_data"
    }
   ],
   "source": [
    "print('Tamaño:', df_aws.shape[0])\n",
    "sns.displot(df_aws['sentiment'])\n",
    "plt.title('Número de tweets por etiqueta');"
   ]
  },
  {
   "cell_type": "markdown",
   "metadata": {},
   "source": [
    "#### Dataset: Sintético"
   ]
  },
  {
   "cell_type": "code",
   "execution_count": 570,
   "metadata": {},
   "outputs": [
    {
     "name": "stdout",
     "output_type": "stream",
     "text": [
      "Número de duplicados: 4924\n",
      "Tamaño: 60000\n"
     ]
    },
    {
     "data": {
      "text/html": [
       "<div>\n",
       "<style scoped>\n",
       "    .dataframe tbody tr th:only-of-type {\n",
       "        vertical-align: middle;\n",
       "    }\n",
       "\n",
       "    .dataframe tbody tr th {\n",
       "        vertical-align: top;\n",
       "    }\n",
       "\n",
       "    .dataframe thead th {\n",
       "        text-align: right;\n",
       "    }\n",
       "</style>\n",
       "<table border=\"1\" class=\"dataframe\">\n",
       "  <thead>\n",
       "    <tr style=\"text-align: right;\">\n",
       "      <th></th>\n",
       "      <th>Label</th>\n",
       "      <th>stars</th>\n",
       "    </tr>\n",
       "  </thead>\n",
       "  <tbody>\n",
       "    <tr>\n",
       "      <th>0</th>\n",
       "      <td>Barry es la mejor serie que vi en el año. La r...</td>\n",
       "      <td>POS</td>\n",
       "    </tr>\n",
       "    <tr>\n",
       "      <th>1</th>\n",
       "      <td>@ESPNmx El mejor futbolista de todos los tiempos.</td>\n",
       "      <td>POS</td>\n",
       "    </tr>\n",
       "    <tr>\n",
       "      <th>2</th>\n",
       "      <td>Wena, capo!\\nGran libro.\\nMejor persona!</td>\n",
       "      <td>POS</td>\n",
       "    </tr>\n",
       "    <tr>\n",
       "      <th>3</th>\n",
       "      <td>Tengo la mejor jefa del mundo! No puedo pedir más</td>\n",
       "      <td>POS</td>\n",
       "    </tr>\n",
       "    <tr>\n",
       "      <th>4</th>\n",
       "      <td>@miriamrojas0301 @amelia74698445 @mine_2133 @B...</td>\n",
       "      <td>POS</td>\n",
       "    </tr>\n",
       "  </tbody>\n",
       "</table>\n",
       "</div>"
      ],
      "text/plain": [
       "                                               Label stars\n",
       "0  Barry es la mejor serie que vi en el año. La r...   POS\n",
       "1  @ESPNmx El mejor futbolista de todos los tiempos.   POS\n",
       "2           Wena, capo!\\nGran libro.\\nMejor persona!   POS\n",
       "3  Tengo la mejor jefa del mundo! No puedo pedir más   POS\n",
       "4  @miriamrojas0301 @amelia74698445 @mine_2133 @B...   POS"
      ]
     },
     "execution_count": 570,
     "metadata": {},
     "output_type": "execute_result"
    }
   ],
   "source": [
    "df_sin = pd.read_csv('data/data_sintetica_3stars.csv', sep=';')[['Label', 'stars']]\n",
    "print('Número de duplicados:', df_sin['Label'].duplicated().sum())\n",
    "print('Tamaño:', df_sin.shape[0])\n",
    "\n",
    "df_sin.head()"
   ]
  },
  {
   "cell_type": "code",
   "execution_count": 571,
   "metadata": {},
   "outputs": [],
   "source": [
    "# Normalizamos nombre de columnas y etiquetas\n",
    "df_sin.replace({'stars': {'NEG': 'N', 'POS': 'P'}}, inplace = True)\n",
    "df_sin.rename(columns = {'Label': 'content', 'stars': 'sentiment'},\n",
    "              inplace = True)"
   ]
  },
  {
   "cell_type": "code",
   "execution_count": 572,
   "metadata": {},
   "outputs": [
    {
     "name": "stdout",
     "output_type": "stream",
     "text": [
      "Número de duplicados: 0\n"
     ]
    }
   ],
   "source": [
    "# Eliminamos duplicados\n",
    "df_sin.drop_duplicates(subset='content', inplace=True)\n",
    "print('Número de duplicados:', df_sin['content'].duplicated().sum())"
   ]
  },
  {
   "cell_type": "code",
   "execution_count": 573,
   "metadata": {},
   "outputs": [
    {
     "name": "stdout",
     "output_type": "stream",
     "text": [
      "Tamaño: 55076\n"
     ]
    },
    {
     "data": {
      "image/png": "[encoded data removed]",
      "text/plain": [
       "<Figure size 360x360 with 1 Axes>"
      ]
     },
     "metadata": {
      "needs_background": "light"
     },
     "output_type": "display_data"
    }
   ],
   "source": [
    "print('Tamaño:', df_sin.shape[0])\n",
    "\n",
    "sns.displot(df_sin['sentiment'])\n",
    "plt.title('Número de tweets por etiqueta');"
   ]
  },
  {
   "cell_type": "markdown",
   "metadata": {},
   "source": [
    "#### Dataset: TASS"
   ]
  },
  {
   "cell_type": "code",
   "execution_count": 574,
   "metadata": {},
   "outputs": [
    {
     "name": "stdout",
     "output_type": "stream",
     "text": [
      "df_1 shape: (20837, 2)\n",
      "df_2 shape: (57181, 2)\n"
     ]
    }
   ],
   "source": [
    "# Cargamos los dos datasets con tweets categorizados\n",
    "df_1 = pd.read_csv('data\\\\df_combined.csv', sep=';', index_col = 0)[['content', 'sentiment']]\n",
    "df_2 = pd.read_csv('data\\\\df_tweets_by_id.csv', sep=';', index_col = 0)[['text', 'sentiment']]\n",
    "\n",
    "print('df_1 shape:', df_1.shape)\n",
    "print('df_2 shape:', df_2.shape)"
   ]
  },
  {
   "cell_type": "markdown",
   "metadata": {},
   "source": [
    "##### DF_1"
   ]
  },
  {
   "cell_type": "code",
   "execution_count": 575,
   "metadata": {},
   "outputs": [
    {
     "name": "stdout",
     "output_type": "stream",
     "text": [
      "Número de duplicados: 2820\n"
     ]
    },
    {
     "data": {
      "text/html": [
       "<div>\n",
       "<style scoped>\n",
       "    .dataframe tbody tr th:only-of-type {\n",
       "        vertical-align: middle;\n",
       "    }\n",
       "\n",
       "    .dataframe tbody tr th {\n",
       "        vertical-align: top;\n",
       "    }\n",
       "\n",
       "    .dataframe thead th {\n",
       "        text-align: right;\n",
       "    }\n",
       "</style>\n",
       "<table border=\"1\" class=\"dataframe\">\n",
       "  <thead>\n",
       "    <tr style=\"text-align: right;\">\n",
       "      <th></th>\n",
       "      <th>content</th>\n",
       "      <th>sentiment</th>\n",
       "    </tr>\n",
       "  </thead>\n",
       "  <tbody>\n",
       "    <tr>\n",
       "      <th>0</th>\n",
       "      <td>En el templo del SPD, Willy-Brandt-Haus en Ber...</td>\n",
       "      <td>NONE</td>\n",
       "    </tr>\n",
       "    <tr>\n",
       "      <th>1</th>\n",
       "      <td>Grabado hace 4 meses con algo d polemica, el m...</td>\n",
       "      <td>N</td>\n",
       "    </tr>\n",
       "    <tr>\n",
       "      <th>2</th>\n",
       "      <td>“@eatonvidal: @Edurnity mi segundo apellido es...</td>\n",
       "      <td>P</td>\n",
       "    </tr>\n",
       "    <tr>\n",
       "      <th>3</th>\n",
       "      <td>“@AnaGaMoral: @Edurnity Mi terecer apellido es...</td>\n",
       "      <td>NONE</td>\n",
       "    </tr>\n",
       "    <tr>\n",
       "      <th>4</th>\n",
       "      <td>“@AnaGaMoral: @Edurnity mi sexto apellido es c...</td>\n",
       "      <td>NONE</td>\n",
       "    </tr>\n",
       "  </tbody>\n",
       "</table>\n",
       "</div>"
      ],
      "text/plain": [
       "                                             content sentiment\n",
       "0  En el templo del SPD, Willy-Brandt-Haus en Ber...      NONE\n",
       "1  Grabado hace 4 meses con algo d polemica, el m...         N\n",
       "2  “@eatonvidal: @Edurnity mi segundo apellido es...         P\n",
       "3  “@AnaGaMoral: @Edurnity Mi terecer apellido es...      NONE\n",
       "4  “@AnaGaMoral: @Edurnity mi sexto apellido es c...      NONE"
      ]
     },
     "execution_count": 575,
     "metadata": {},
     "output_type": "execute_result"
    }
   ],
   "source": [
    "print('Número de duplicados:', df_1['content'].duplicated().sum())\n",
    "df_1.head()"
   ]
  },
  {
   "cell_type": "code",
   "execution_count": 576,
   "metadata": {},
   "outputs": [
    {
     "name": "stdout",
     "output_type": "stream",
     "text": [
      "Número de duplicados: 0\n"
     ]
    }
   ],
   "source": [
    "# Eliminamos duplicados\n",
    "df_1.drop_duplicates(subset='content', inplace=True)\n",
    "print('Número de duplicados:', df_1['content'].duplicated().sum())"
   ]
  },
  {
   "cell_type": "code",
   "execution_count": 577,
   "metadata": {},
   "outputs": [
    {
     "data": {
      "image/png": "[encoded data removed]",
      "text/plain": [
       "<Figure size 360x360 with 1 Axes>"
      ]
     },
     "metadata": {
      "needs_background": "light"
     },
     "output_type": "display_data"
    }
   ],
   "source": [
    "sns.displot(df_1.sentiment);\n",
    "plt.title('Número de tweets por etiqueta');"
   ]
  },
  {
   "cell_type": "code",
   "execution_count": 578,
   "metadata": {},
   "outputs": [],
   "source": [
    "# Combinamos NONE con NEU\n",
    "df_1.replace({'sentiment': {'NONE': 'NEU'}}, inplace = True)"
   ]
  },
  {
   "cell_type": "code",
   "execution_count": 579,
   "metadata": {},
   "outputs": [
    {
     "data": {
      "text/plain": [
       "P      6328\n",
       "N      6117\n",
       "NEU    5572\n",
       "Name: sentiment, dtype: int64"
      ]
     },
     "execution_count": 579,
     "metadata": {},
     "output_type": "execute_result"
    }
   ],
   "source": [
    "df_1.sentiment.value_counts()"
   ]
  },
  {
   "cell_type": "markdown",
   "metadata": {},
   "source": [
    "##### DF_1"
   ]
  },
  {
   "cell_type": "code",
   "execution_count": 580,
   "metadata": {},
   "outputs": [],
   "source": [
    "# Normalizamos nombre de columnas y etiquetas\n",
    "df_2.rename(columns = {'text': 'content'}, inplace = True)"
   ]
  },
  {
   "cell_type": "code",
   "execution_count": 581,
   "metadata": {},
   "outputs": [
    {
     "name": "stdout",
     "output_type": "stream",
     "text": [
      "Número de duplicados: 376\n"
     ]
    },
    {
     "data": {
      "text/html": [
       "<div>\n",
       "<style scoped>\n",
       "    .dataframe tbody tr th:only-of-type {\n",
       "        vertical-align: middle;\n",
       "    }\n",
       "\n",
       "    .dataframe tbody tr th {\n",
       "        vertical-align: top;\n",
       "    }\n",
       "\n",
       "    .dataframe thead th {\n",
       "        text-align: right;\n",
       "    }\n",
       "</style>\n",
       "<table border=\"1\" class=\"dataframe\">\n",
       "  <thead>\n",
       "    <tr style=\"text-align: right;\">\n",
       "      <th></th>\n",
       "      <th>content</th>\n",
       "      <th>sentiment</th>\n",
       "    </tr>\n",
       "  </thead>\n",
       "  <tbody>\n",
       "    <tr>\n",
       "      <th>0</th>\n",
       "      <td>Desastre en agricultura... http://t.co/nHTb2Sxc</td>\n",
       "      <td>N</td>\n",
       "    </tr>\n",
       "    <tr>\n",
       "      <th>1</th>\n",
       "      <td>Nunca pensé que una nota de prensa costase tan...</td>\n",
       "      <td>NONE</td>\n",
       "    </tr>\n",
       "    <tr>\n",
       "      <th>2</th>\n",
       "      <td>oeoeoeoeoeoe, 2,1% de Share ayer el @Telediari...</td>\n",
       "      <td>P</td>\n",
       "    </tr>\n",
       "    <tr>\n",
       "      <th>3</th>\n",
       "      <td>Un hombre fallece tras sufrir una parada cardi...</td>\n",
       "      <td>N</td>\n",
       "    </tr>\n",
       "    <tr>\n",
       "      <th>4</th>\n",
       "      <td>Mi intervención en el pleno hablando de las pr...</td>\n",
       "      <td>P</td>\n",
       "    </tr>\n",
       "  </tbody>\n",
       "</table>\n",
       "</div>"
      ],
      "text/plain": [
       "                                             content sentiment\n",
       "0    Desastre en agricultura... http://t.co/nHTb2Sxc         N\n",
       "1  Nunca pensé que una nota de prensa costase tan...      NONE\n",
       "2  oeoeoeoeoeoe, 2,1% de Share ayer el @Telediari...         P\n",
       "3  Un hombre fallece tras sufrir una parada cardi...         N\n",
       "4  Mi intervención en el pleno hablando de las pr...         P"
      ]
     },
     "execution_count": 581,
     "metadata": {},
     "output_type": "execute_result"
    }
   ],
   "source": [
    "print('Número de duplicados:', df_2['content'].duplicated().sum())\n",
    "\n",
    "df_2.head()"
   ]
  },
  {
   "cell_type": "code",
   "execution_count": 582,
   "metadata": {},
   "outputs": [
    {
     "name": "stdout",
     "output_type": "stream",
     "text": [
      "Número de duplicados: 0\n"
     ]
    }
   ],
   "source": [
    "# Eliminamos duplicados\n",
    "df_2.drop_duplicates(subset='content', inplace=True)\n",
    "print('Número de duplicados:', df_2['content'].duplicated().sum())"
   ]
  },
  {
   "cell_type": "code",
   "execution_count": 583,
   "metadata": {},
   "outputs": [
    {
     "data": {
      "image/png": "[encoded data removed]",
      "text/plain": [
       "<Figure size 360x360 with 1 Axes>"
      ]
     },
     "metadata": {
      "needs_background": "light"
     },
     "output_type": "display_data"
    }
   ],
   "source": [
    "sns.displot(df_2.sentiment);\n",
    "plt.title('Número de tweets por etiqueta');"
   ]
  },
  {
   "cell_type": "code",
   "execution_count": 584,
   "metadata": {},
   "outputs": [
    {
     "data": {
      "text/plain": [
       "NEU    21063\n",
       "P      20601\n",
       "N      15141\n",
       "Name: sentiment, dtype: int64"
      ]
     },
     "execution_count": 584,
     "metadata": {},
     "output_type": "execute_result"
    }
   ],
   "source": [
    "# Combinamos NONE con NEU\n",
    "df_2.replace({'sentiment': {'NONE': 'NEU'}}, inplace = True)\n",
    "df_2.sentiment.value_counts()"
   ]
  },
  {
   "cell_type": "markdown",
   "metadata": {},
   "source": [
    "#### Unimos datasets"
   ]
  },
  {
   "cell_type": "code",
   "execution_count": 585,
   "metadata": {},
   "outputs": [
    {
     "name": "stdout",
     "output_type": "stream",
     "text": [
      "<class 'pandas.core.frame.DataFrame'>\n",
      "RangeIndex: 246552 entries, 0 to 246551\n",
      "Data columns (total 2 columns):\n",
      " #   Column     Non-Null Count   Dtype \n",
      "---  ------     --------------   ----- \n",
      " 0   content    246551 non-null  object\n",
      " 1   sentiment  246552 non-null  object\n",
      "dtypes: object(2)\n",
      "memory usage: 3.8+ MB\n"
     ]
    }
   ],
   "source": [
    "# Convergemos en un único dataset\n",
    "df = pd.concat([df_1, df_2, df_extra, df_aws, df_sin]).reset_index(drop=True)\n",
    "df.info()"
   ]
  },
  {
   "cell_type": "code",
   "execution_count": 586,
   "metadata": {},
   "outputs": [
    {
     "data": {
      "text/plain": [
       "1976"
      ]
     },
     "execution_count": 586,
     "metadata": {},
     "output_type": "execute_result"
    }
   ],
   "source": [
    "# Comprobamos duplicados\n",
    "df.content.duplicated().sum()"
   ]
  },
  {
   "cell_type": "code",
   "execution_count": 587,
   "metadata": {},
   "outputs": [],
   "source": [
    "# Eliminamos los duplicados\n",
    "df.drop_duplicates(subset = 'content', inplace = True)"
   ]
  },
  {
   "cell_type": "code",
   "execution_count": 588,
   "metadata": {},
   "outputs": [
    {
     "name": "stdout",
     "output_type": "stream",
     "text": [
      "P      83303\n",
      "NEU    83205\n",
      "N      78068\n",
      "Name: sentiment, dtype: int64\n",
      "Tamaño del dataset: (244576, 2)\n"
     ]
    },
    {
     "data": {
      "image/png": "[encoded data removed]",
      "text/plain": [
       "<Figure size 360x360 with 1 Axes>"
      ]
     },
     "metadata": {
      "needs_background": "light"
     },
     "output_type": "display_data"
    }
   ],
   "source": [
    "# Comprobamos distribución de la etiqueta 'sentiment'\n",
    "sns.displot(df.sentiment)\n",
    "plt.title('Volumen de tweets por etiqueta');\n",
    "\n",
    "print(df.sentiment.value_counts())\n",
    "print('Tamaño del dataset:', df.shape)"
   ]
  },
  {
   "cell_type": "code",
   "execution_count": 589,
   "metadata": {},
   "outputs": [
    {
     "name": "stdout",
     "output_type": "stream",
     "text": [
      "content      1\n",
      "sentiment    0\n",
      "dtype: int64\n"
     ]
    }
   ],
   "source": [
    "# Comprobamos nulls\n",
    "print(df.isnull().sum())"
   ]
  },
  {
   "cell_type": "code",
   "execution_count": 590,
   "metadata": {},
   "outputs": [],
   "source": [
    "# ELiminamos nulls\n",
    "df.dropna(inplace = True)\n",
    "df.reset_index(drop = True, inplace = True)"
   ]
  },
  {
   "cell_type": "code",
   "execution_count": 591,
   "metadata": {},
   "outputs": [
    {
     "name": "stdout",
     "output_type": "stream",
     "text": [
      "content      0\n",
      "sentiment    0\n",
      "dtype: int64\n"
     ]
    }
   ],
   "source": [
    "# Comprobamos nulls\n",
    "print(df.isnull().sum())"
   ]
  },
  {
   "cell_type": "code",
   "execution_count": 592,
   "metadata": {},
   "outputs": [
    {
     "data": {
      "text/html": [
       "<div>\n",
       "<style scoped>\n",
       "    .dataframe tbody tr th:only-of-type {\n",
       "        vertical-align: middle;\n",
       "    }\n",
       "\n",
       "    .dataframe tbody tr th {\n",
       "        vertical-align: top;\n",
       "    }\n",
       "\n",
       "    .dataframe thead th {\n",
       "        text-align: right;\n",
       "    }\n",
       "</style>\n",
       "<table border=\"1\" class=\"dataframe\">\n",
       "  <thead>\n",
       "    <tr style=\"text-align: right;\">\n",
       "      <th></th>\n",
       "      <th>content</th>\n",
       "      <th>sentiment</th>\n",
       "    </tr>\n",
       "  </thead>\n",
       "  <tbody>\n",
       "    <tr>\n",
       "      <th>0</th>\n",
       "      <td>En el templo del SPD, Willy-Brandt-Haus en Ber...</td>\n",
       "      <td>NEU</td>\n",
       "    </tr>\n",
       "    <tr>\n",
       "      <th>1</th>\n",
       "      <td>Grabado hace 4 meses con algo d polemica, el m...</td>\n",
       "      <td>N</td>\n",
       "    </tr>\n",
       "    <tr>\n",
       "      <th>2</th>\n",
       "      <td>“@eatonvidal: @Edurnity mi segundo apellido es...</td>\n",
       "      <td>P</td>\n",
       "    </tr>\n",
       "    <tr>\n",
       "      <th>3</th>\n",
       "      <td>“@AnaGaMoral: @Edurnity Mi terecer apellido es...</td>\n",
       "      <td>NEU</td>\n",
       "    </tr>\n",
       "    <tr>\n",
       "      <th>4</th>\n",
       "      <td>“@AnaGaMoral: @Edurnity mi sexto apellido es c...</td>\n",
       "      <td>NEU</td>\n",
       "    </tr>\n",
       "  </tbody>\n",
       "</table>\n",
       "</div>"
      ],
      "text/plain": [
       "                                             content sentiment\n",
       "0  En el templo del SPD, Willy-Brandt-Haus en Ber...       NEU\n",
       "1  Grabado hace 4 meses con algo d polemica, el m...         N\n",
       "2  “@eatonvidal: @Edurnity mi segundo apellido es...         P\n",
       "3  “@AnaGaMoral: @Edurnity Mi terecer apellido es...       NEU\n",
       "4  “@AnaGaMoral: @Edurnity mi sexto apellido es c...       NEU"
      ]
     },
     "execution_count": 592,
     "metadata": {},
     "output_type": "execute_result"
    }
   ],
   "source": [
    "df.head()"
   ]
  },
  {
   "cell_type": "code",
   "execution_count": 593,
   "metadata": {},
   "outputs": [
    {
     "data": {
      "image/png": "[encoded data removed]",
      "text/plain": [
       "<Figure size 360x360 with 1 Axes>"
      ]
     },
     "metadata": {
      "needs_background": "light"
     },
     "output_type": "display_data"
    }
   ],
   "source": [
    "def count_words(df):\n",
    "    count = 0\n",
    "    for word in df.split():\n",
    "        count += 1\n",
    "    return count\n",
    "\n",
    "sns.displot(df['content'].apply(count_words), bins = 15)\n",
    "plt.title('Distribución del número de palabras por tweet');"
   ]
  },
  {
   "cell_type": "code",
   "execution_count": 594,
   "metadata": {},
   "outputs": [
    {
     "data": {
      "image/png": "[encoded data removed]",
      "text/plain": [
       "<Figure size 432x288 with 1 Axes>"
      ]
     },
     "metadata": {
      "needs_background": "light"
     },
     "output_type": "display_data"
    }
   ],
   "source": [
    "sns.boxplot(df['content'].apply(count_words))\n",
    "plt.title('Distribución del número de palabras por tweet');"
   ]
  },
  {
   "cell_type": "markdown",
   "metadata": {},
   "source": [
    "## 2. Tratando el contenido"
   ]
  },
  {
   "cell_type": "markdown",
   "metadata": {},
   "source": [
    "Aplicamos las siguientes transformaciones:\n",
    "- Tokenizamos tweets\n",
    "- Sustituir enlaces por {link} y emojis por su significado/valor\n",
    "- Eliminamos signos de puntuación\n",
    "- Transformar a minúscula\n",
    "- Corregir abreviacion de palabras\n",
    "- Eliminar letras repetidas\n",
    "- Eliminamos stop words\n",
    "- Eliminamos todo lo que no sean palabras\n",
    "- Eliminar acentos"
   ]
  },
  {
   "cell_type": "code",
   "execution_count": 595,
   "metadata": {},
   "outputs": [],
   "source": [
    "# Sustituimos menciones, link y emojis\n",
    "# Normalizamos risas\n",
    "# Eliminamos letras repetidas\n",
    "# Sustituimos signos de puntuacion\n",
    "# Corregimos abreviaciones\n",
    "# Eliminamos stopwords\n",
    "# Lematizamos"
   ]
  },
  {
   "cell_type": "code",
   "execution_count": 596,
   "metadata": {},
   "outputs": [
    {
     "data": {
      "text/plain": [
       "0     en el templo del spd, willy-brandt-haus en ber...\n",
       "1     grabado hace 4 meses con algo d polemica, el m...\n",
       "2     “@eatonvidal: @edurnity mi segundo apellido es...\n",
       "3     “@anagamoral: @edurnity mi terecer apellido es...\n",
       "4     “@anagamoral: @edurnity mi sexto apellido es c...\n",
       "5          esta mañana navegaba. ahora voy en autobús .\n",
       "6     rafa nos ha vuelto a hacer vibrar. sin duda, e...\n",
       "7     gran cobertura del compañero francisco herranz...\n",
       "8     hoy prefiero no contaros la portada. es mejor ...\n",
       "9     las dos argentinas del #corralito http://t o/k...\n",
       "10    camino a @lavozmexico   no se pierdan las actu...\n",
       "11    sra. rushmore estrena la peineta http://t o/sw...\n",
       "12    jeje  iii!! rt @dalearden_ @tonicanto1 :))) te...\n",
       "13                            @carlosecue un comunicado\n",
       "14    tenemos enormes dudas sobre la proposición de ...\n",
       "15    que gran verdad! “@sonya_back: @federicoqueved...\n",
       "16    con mis hermanos wisin & yandel en el coliseo ...\n",
       "17    a dos minutos de que @pacorengel me haga la pr...\n",
       "18    @carlos__alsina está claro. harán falta años d...\n",
       "19    helmut schmidt: \"los excedentes de exportación...\n",
       "20    en el día de la constitución vamos a recordar ...\n",
       "21    un euro, 257 pesetas, por @nuno_rodrigo5 http:...\n",
       "22    #rajoy recibe con rostro serio y circunspecto ...\n",
       "23    . @pacodelatorrep interviene junto a la portad...\n",
       "24    hoy he asistido a la fiesta de la constitución...\n",
       "25    una vez que hemos dedicado este hermoso día a ...\n",
       "26    la crisis también atemoriza a la mujer trabaja...\n",
       "27    sembrar dudas sobre la autoría del 11m, para n...\n",
       "28    @elenavalenciano @pauladelasheras @pepegrinan ...\n",
       "29    crónica de ' el declive del bipartidismo 2 ': ...\n",
       "30    rajoy ya ha visto a durao barroso. ahora con d...\n",
       "31    bien! “@fede_dejuan: hoy haymerkel y jabón d m...\n",
       "32         portada la vanguardia http://t o/opehwgfr  .\n",
       "33    croacia firma adhesión ue. no olvidemos a serb...\n",
       "34    #ff a @miquelsubiaseva porque es lo contrario ...\n",
       "35    zapatero se muda a la casa donde se rodó torre...\n",
       "36    entre conceder cien días de gracia a un nuevo ...\n",
       "37    ¿no estaba todo consensuado? rt:“@basteiro: se...\n",
       "38    #ff para @sergijasanada por el currazo que le ...\n",
       "39    de donde es? rt @mundosanzero_ec: nos robamos ...\n",
       "40    a un lado de la calle actúa hugh jackman . htt...\n",
       "41    s&p podría rebajar la nota de las aseguradoras...\n",
       "42                ¿una porrita madrid-barcelona? yo 3-1\n",
       "43    agua bulgari, y yo con estos pelos. http://t o...\n",
       "44    @pedroj_ramirez expectante x tu carta,en lo d ...\n",
       "45    cabalgamos juntos. morimos juntos. madridistas...\n",
       "46    apuesto por una victoria blanca y a poder ser ...\n",
       "47    para los que alucinais con que soy del barca. ...\n",
       "48    y este es el cuera que -interrumpiendo el deba...\n",
       "49    quinielas presidencia del congreso. en cabeza,...\n",
       "Name: content, dtype: object"
      ]
     },
     "execution_count": 596,
     "metadata": {},
     "output_type": "execute_result"
    }
   ],
   "source": [
    "# Eliminamos signos de puntuación\n",
    "import re\n",
    "\n",
    "def remove_punctuation_space(df):\n",
    "    PUNCTUATION = re.compile(\"\"\"(\\..)|(\\...)|(\\....)|(\\.....)|(\\......)|(\\.......)\"\"\")\n",
    "    \n",
    "    return \" \".join([PUNCTUATION.sub(\" \", word.lower()) for word in df.split()])\n",
    "\n",
    "df.content[:50].apply(remove_punctuation_space)\n"
   ]
  },
  {
   "cell_type": "code",
   "execution_count": 597,
   "metadata": {},
   "outputs": [
    {
     "data": {
      "text/plain": [
       "0     en el templo del spd willybrandthaus en berlín...\n",
       "1     grabado hace  meses con algo d polemica el mié...\n",
       "2     @eatonvidal @edurnity mi segundo apellido es v...\n",
       "3     @anagamoral @edurnity mi terecer apellido es v...\n",
       "4     @anagamoral @edurnity mi sexto apellido es cab...\n",
       "5             esta mañana navegaba ahora voy en autobús\n",
       "6     rafa nos ha vuelto a hacer vibrar sin duda el ...\n",
       "7     gran cobertura del compañero francisco herranz...\n",
       "8     hoy prefiero no contaros la portada es mejor q...\n",
       "9        las dos argentinas del #corralito httptcokzyel\n",
       "10    camino a @lavozmexico  no se pierdan las actua...\n",
       "11    sra rushmore estrena la peineta httptcoswrwlyn...\n",
       "12    jejesiii rt @dalearden_ @tonicanto  te puedo s...\n",
       "13                            @carlosecue un comunicado\n",
       "14    tenemos enormes dudas sobre la proposición de ...\n",
       "15    que gran verdad @sonya_back @federicoquevedo j...\n",
       "16    con mis hermanos wisin & yandel en el coliseo ...\n",
       "17    a dos minutos de que @pacorengel me haga la pr...\n",
       "18    @carlos__alsina está claro harán falta años de...\n",
       "19    helmut schmidt los excedentes de exportación d...\n",
       "20    en el día de la constitución vamos a recordar ...\n",
       "21    un euro  pesetas por @nuno_rodrigo httptcozkyoemh\n",
       "22    #rajoy recibe con rostro serio y circunspecto ...\n",
       "23     @pacodelatorrep interviene junto a la portada...\n",
       "24    hoy he asistido a la fiesta de la constitución...\n",
       "25    una vez que hemos dedicado este hermoso día a ...\n",
       "26    la crisis también atemoriza a la mujer trabaja...\n",
       "27    sembrar dudas sobre la autoría del m para nega...\n",
       "28    @elenavalenciano @pauladelasheras @pepegrinan ...\n",
       "29    crónica de  el declive del bipartidismo   ambo...\n",
       "30    rajoy ya ha visto a durao barroso ahora con do...\n",
       "31    bien @fede_dejuan hoy haymerkel y jabón d mars...\n",
       "32               portada la vanguardia httptcoopehwgfr \n",
       "33    croacia firma adhesión ue no olvidemos a serbi...\n",
       "34    #ff a @miquelsubiaseva porque es lo contrario ...\n",
       "35    zapatero se muda a la casa donde se rodó torre...\n",
       "36    entre conceder cien días de gracia a un nuevo ...\n",
       "37    no estaba todo consensuado rt@basteiro según z...\n",
       "38    #ff para @sergijasanada por el currazo que le ...\n",
       "39    de donde es rt @mundosanzero_ec nos robamos es...\n",
       "40    a un lado de la calle actúa hugh jackman httpt...\n",
       "41    s&p podría rebajar la nota de las aseguradoras...\n",
       "42                      una porrita madridbarcelona yo \n",
       "43     agua bulgari y yo con estos pelos httptcohreqfkk\n",
       "44    @pedroj_ramirez expectante x tu cartaen lo d u...\n",
       "45    cabalgamos juntos morimos juntos madridistas p...\n",
       "46    apuesto por una victoria blanca y a poder ser ...\n",
       "47    para los que alucinais con que soy del barca s...\n",
       "48    y este es el cuera que interrumpiendo el debat...\n",
       "49    quinielas presidencia del congreso en cabeza p...\n",
       "Name: content, dtype: object"
      ]
     },
     "execution_count": 597,
     "metadata": {},
     "output_type": "execute_result"
    }
   ],
   "source": [
    "# Eliminamos signos de puntuación\n",
    "import re\n",
    "\n",
    "def remove_punctuation(df):\n",
    "    PUNCTUATION = re.compile(\"\"\"(\\.)|(\\;)|(\\:)|(\\!)|(\\?)|(\\,)|(\\¡)|(\\¿)| \\\n",
    "    (\\\")|(\\()|(\\))|(\\[)|(\\])|(\\d+)|(\\/)|(\\“)|(\\”)|(\\')|(\\-)|(\\\")|(\\*)\"\"\")\n",
    "    \n",
    "    return \" \".join([PUNCTUATION.sub(\"\", word.lower()) for word in df.split()])\n",
    "\n",
    "df.content[:50].apply(remove_punctuation)\n"
   ]
  },
  {
   "cell_type": "code",
   "execution_count": 598,
   "metadata": {},
   "outputs": [
    {
     "data": {
      "text/plain": [
       "0         En el templo del SPD, Willy-Brandt-Haus en Ber...\n",
       "1         Grabado hace 4 meses con algo de polemica, el ...\n",
       "2         “@eatonvidal: @Edurnity mi segundo apellido es...\n",
       "3         “@AnaGaMoral: @Edurnity Mi terecer apellido es...\n",
       "4         “@AnaGaMoral: @Edurnity mi sexto apellido es c...\n",
       "                                ...                        \n",
       "244570    Díganme ¿Qué tipo de tat* tienen estas? Necesi...\n",
       "244571    @infobae: En un intento de robo, dos motochorr...\n",
       "244572    @WolffWaldo: Hemos pedido la interpelación de ...\n",
       "244573    -Entonces no han logrado controlar ni su egoís...\n",
       "244574    *se va el internet por 0.00001 segundos* mi pa...\n",
       "Name: content, Length: 244575, dtype: object"
      ]
     },
     "execution_count": 598,
     "metadata": {},
     "output_type": "execute_result"
    }
   ],
   "source": [
    "# Corregimos abreviaciones\n",
    "def fix_abbr(x):\n",
    "    if type(x) == list:\n",
    "        words = x\n",
    "    elif type(x) == str:\n",
    "        words = x.split()\n",
    "    else:\n",
    "        raise TypeError('El formato no es válido, debe ser lista o str')\n",
    "\n",
    "    abbrevs = {'d': 'de',\n",
    "               'x': 'por',\n",
    "               'xa': 'para',\n",
    "               'as': 'has',\n",
    "               'q': 'que',\n",
    "               'k': 'que',\n",
    "               'dl': 'del',\n",
    "               'xq': 'porqué',\n",
    "               'dr': 'doctor',\n",
    "               'dra': 'doctora',\n",
    "               'sr': 'señor',\n",
    "               'sra': 'señora',\n",
    "               'm': 'me'}\n",
    "    return \" \".join([abbrevs[word] if word in abbrevs.keys() else word for word in words])\n",
    "\n",
    "df.content.apply(fix_abbr)"
   ]
  },
  {
   "cell_type": "code",
   "execution_count": 599,
   "metadata": {},
   "outputs": [
    {
     "data": {
      "text/plain": [
       "0     En el templo del SPD, Willy-Brandt-Haus en Ber...\n",
       "1     Grabado hace 4 meses con algo d polemica, el m...\n",
       "2     “@eatonvidal: @Edurnity mi segundo apellido es...\n",
       "3     “@AnaGaMoral: @Edurnity Mi terecer apellido es...\n",
       "4     “@AnaGaMoral: @Edurnity mi sexto apellido es c...\n",
       "5         Esta mañana navegaba. Ahora voy en autobús...\n",
       "6     Rafa nos ha vuelto a hacer vibrar. Sin duda, e...\n",
       "7     gran cobertura del compañero francisco herranz...\n",
       "8     Hoy prefiero no contaros la portada. Es mejor ...\n",
       "9              Las dos Argentinas del #corralito {link}\n",
       "10    Camino a @LaVozMexico .. No se pierdan las act...\n",
       "11    Sra. Rushmore estrena La Peineta {link} vía @e...\n",
       "12    Jeje...siii!! RT @Dalearden_ @Tonicanto1 :))) ...\n",
       "13                            @carlosecue un comunicado\n",
       "14    Tenemos enormes dudas sobre la proposición de ...\n",
       "15    Que gran verdad! “@Sonya_Back: @Federicoqueved...\n",
       "16    Con mis hermanos Wisin & Yandel en el Coliseo ...\n",
       "17    A dos minutos de que @pacorengel me haga la pr...\n",
       "18    @carlos__alsina Está claro. Harán falta años d...\n",
       "19    Helmut Schmidt: \"los excedentes de exportación...\n",
       "Name: content, dtype: object"
      ]
     },
     "execution_count": 599,
     "metadata": {},
     "output_type": "execute_result"
    }
   ],
   "source": [
    "# Sustituimos links por {link}\n",
    "def remove_links(df):\n",
    "    return \" \".join(['{link}' if ('http') in word else word for word in df.split()])\n",
    "\n",
    "df.content[:20].apply(remove_links)"
   ]
  },
  {
   "cell_type": "code",
   "execution_count": 600,
   "metadata": {},
   "outputs": [
    {
     "data": {
      "text/plain": [
       "0    En el templo del SPD, Willy-Brandt-Haus en Ber...\n",
       "1    Grabado hace 4 meses con algo d polemica, el m...\n",
       "2    “@eatonvidal: @Edurnity mi segundo apellido es...\n",
       "3    “@AnaGaMoral: @Edurnity Mi terecer apellido es...\n",
       "4    “@AnaGaMoral: @Edurnity mi sexto apellido es c...\n",
       "5        Esta mañana navegaba. Ahora voy en autobús...\n",
       "6    Rafa nos ha vuelto a hacer vibrar. Sin duda, e...\n",
       "7    gran cobertura del compañero francisco herranz...\n",
       "8    Hoy prefiero no contaros la portada. Es mejor ...\n",
       "9    Las dos Argentinas del #corralito http://t.co/...\n",
       "Name: content, dtype: object"
      ]
     },
     "execution_count": 600,
     "metadata": {},
     "output_type": "execute_result"
    }
   ],
   "source": [
    "# Eliminamos vocales repetidas\n",
    "#for tweet in ['vamos a leer unas cosas bieeeen', 'vaaamos, tenemos que comer']:\n",
    "    \n",
    "def remove_repeated_vocals(df):\n",
    "    \n",
    "    list_new_word = []\n",
    "\n",
    "    for word in df.split(): #separamos en palabras\n",
    "        new_word = []\n",
    "        pos = 0\n",
    "        \n",
    "        for letra in word: #separamos cada palabra en letras\n",
    "            #print(word, letra, pos, '-', new_word)\n",
    "            if pos>0:\n",
    "                if letra in ('a', 'e', 'i', 'o', 'u') and letra == new_word[pos-1]:\n",
    "                    None\n",
    "                else:\n",
    "                    new_word.append(letra)\n",
    "                    pos +=1\n",
    "            else:\n",
    "                new_word.append(letra)\n",
    "            \n",
    "                pos += 1\n",
    "        else:\n",
    "            list_new_word.append(\"\".join(new_word))\n",
    "                \n",
    "    return \" \".join(list_new_word)\n",
    "\n",
    "df.content[:10].apply(remove_repeated_vocals)"
   ]
  },
  {
   "cell_type": "code",
   "execution_count": 601,
   "metadata": {},
   "outputs": [
    {
     "data": {
      "text/plain": [
       "0     En el templo del SPD, Willy-Brandt-Haus en Ber...\n",
       "1     Grabado hace 4 meses con algo d polemica, el m...\n",
       "2     “@eatonvidal: @Edurnity mi segundo apellido es...\n",
       "3     “@AnaGaMoral: @Edurnity Mi terecer apellido es...\n",
       "4     “@AnaGaMoral: @Edurnity mi sexto apellido es c...\n",
       "5         Esta mañana navegaba. Ahora voy en autobús...\n",
       "6     Rafa nos ha vuelto a hacer vibrar. Sin duda, e...\n",
       "7     gran cobertura del compañero francisco herranz...\n",
       "8     Hoy prefiero no contaros la portada. Es mejor ...\n",
       "9     Las dos Argentinas del #corralito http://t.co/...\n",
       "10    Camino a @LaVozMexico .. No se pierdan las act...\n",
       "11    Sra. Rushmore estrena La Peineta http://t.co/S...\n",
       "12    Jeje...siii!! RT @Dalearden_ @Tonicanto1 :))) ...\n",
       "13                            @carlosecue un comunicado\n",
       "14    Tenemos enormes dudas sobre la proposición de ...\n",
       "15    Que gran verdad! “@Sonya_Back: @Federicoqueved...\n",
       "16    Con mis hermanos Wisin & Yandel en el Coliseo ...\n",
       "17    A dos minutos de que @pacorengel me haga la pr...\n",
       "18    @carlos__alsina Está claro. Harán falta años d...\n",
       "19    Helmut Schmidt: \"los excedentes de exportación...\n",
       "Name: content, dtype: object"
      ]
     },
     "execution_count": 601,
     "metadata": {},
     "output_type": "execute_result"
    }
   ],
   "source": [
    "# Normalizamos risas 'jajaja', 'jejeje', 'jojojo'\n",
    "    \n",
    "def normalize_laughts(df):\n",
    "    \n",
    "    list_new_words = []\n",
    "    for word in df.split(): #separamos en palabras\n",
    "        count = 0\n",
    "        vocals_dicc = {'a': 0, 'e': 0, 'i': 0, 'o':0, 'u':0}\n",
    "        \n",
    "        for letra in word:\n",
    "            #print(word)\n",
    "            if letra == 'j':\n",
    "                count+=1\n",
    "            if letra in vocals_dicc.keys():\n",
    "                vocals_dicc[letra] += 1\n",
    "        else:\n",
    "            if count>3:\n",
    "                dicc_risa = {'a': 'jaja', 'e': 'jeje', 'i': 'jiji', 'o': 'jojo', 'u': 'juju'}\n",
    "                risa_type = max(vocals_dicc, key= lambda x: vocals_dicc[x]) #Indica si es a,e,i,o,u\n",
    "                list_new_words.append(dicc_risa[risa_type])\n",
    "            else:\n",
    "                list_new_words.append(word)\n",
    "    \n",
    "    return \" \".join(list_new_words)\n",
    "\n",
    "df.content[:20].apply(normalize_laughts)"
   ]
  },
  {
   "cell_type": "code",
   "execution_count": 602,
   "metadata": {},
   "outputs": [
    {
     "data": {
      "text/plain": [
       "0     En el templo del SPD, Willy-Brandt-Haus en Ber...\n",
       "1     Grabado hace 4 meses con algo d polemica, el m...\n",
       "2     “@eatonvidal: @Edurnity mi segundo apellido es...\n",
       "3     “@AnaGaMoral: @Edurnity Mi terecer apellido es...\n",
       "4     “@AnaGaMoral: @Edurnity mi sexto apellido es c...\n",
       "5         Esta mañana navegaba. Ahora voy en autobús...\n",
       "6     Rafa nos ha vuelto a hacer vibrar. Sin duda, e...\n",
       "7     gran cobertura del compañero francisco herranz...\n",
       "8     Hoy prefiero no contaros la portada. Es mejor ...\n",
       "9     Las dos Argentinas del {hash} http://t.co/kzY1...\n",
       "10    Camino a @LaVozMexico .. No se pierdan las act...\n",
       "11    Sra. Rushmore estrena La Peineta http://t.co/S...\n",
       "12    Jeje...siii!! RT @Dalearden_ @Tonicanto1 :))) ...\n",
       "13                            @carlosecue un comunicado\n",
       "14    Tenemos enormes dudas sobre la proposición de ...\n",
       "15    Que gran verdad! “@Sonya_Back: @Federicoqueved...\n",
       "16    Con mis hermanos Wisin & Yandel en el Coliseo ...\n",
       "17    A dos minutos de que @pacorengel me haga la pr...\n",
       "18    @carlos__alsina Está claro. Harán falta años d...\n",
       "19    Helmut Schmidt: \"los excedentes de exportación...\n",
       "Name: content, dtype: object"
      ]
     },
     "execution_count": 602,
     "metadata": {},
     "output_type": "execute_result"
    }
   ],
   "source": [
    "# Sustituimos hashtag por {hash}\n",
    "def remove_hashtags(df):\n",
    "    return \" \".join(['{hash}' if word.startswith('#') else word for word in df.split()])\n",
    "\n",
    "df.content[:20].apply(remove_hashtags)"
   ]
  },
  {
   "cell_type": "code",
   "execution_count": 603,
   "metadata": {},
   "outputs": [
    {
     "data": {
      "text/plain": [
       "0     En el templo del SPD, Willy-Brandt-Haus en Ber...\n",
       "1     Grabado hace 4 meses con algo d polemica, el m...\n",
       "2     {menc} {menc} mi segundo apellido es Vidal... ...\n",
       "3     {menc} {menc} Mi terecer apellido es Velasco.....\n",
       "4     {menc} {menc} mi sexto apellido es cabrejas......\n",
       "5         Esta mañana navegaba. Ahora voy en autobús...\n",
       "6     Rafa nos ha vuelto a hacer vibrar. Sin duda, e...\n",
       "7     gran cobertura del compañero francisco herranz...\n",
       "8     Hoy prefiero no contaros la portada. Es mejor ...\n",
       "9     Las dos Argentinas del #corralito http://t.co/...\n",
       "10    Camino a {menc} .. No se pierdan las actuacion...\n",
       "11    Sra. Rushmore estrena La Peineta http://t.co/S...\n",
       "12    Jeje...siii!! RT {menc} {menc} :))) te puedo s...\n",
       "13                                 {menc} un comunicado\n",
       "14    Tenemos enormes dudas sobre la proposición de ...\n",
       "15    Que gran verdad! {menc} {menc} Jajajaja si es ...\n",
       "16    Con mis hermanos Wisin & Yandel en el Coliseo ...\n",
       "17    A dos minutos de que {menc} me haga la primera...\n",
       "18    {menc} Está claro. Harán falta años de mujeres...\n",
       "19    Helmut Schmidt: \"los excedentes de exportación...\n",
       "Name: content, dtype: object"
      ]
     },
     "execution_count": 603,
     "metadata": {},
     "output_type": "execute_result"
    }
   ],
   "source": [
    "# Sustituimos menciones por {mencion}\n",
    "def remove_mentions(df):\n",
    "    return \" \".join(['{menc}' if word.startswith('“@') or word.startswith('@') else word for word in df.split()])\n",
    "\n",
    "df.content[:20].apply(remove_mentions)"
   ]
  },
  {
   "cell_type": "code",
   "execution_count": 604,
   "metadata": {},
   "outputs": [
    {
     "data": {
      "text/plain": [
       "0    En el templo del SPD, Willy-Brandt-Haus en Ber...\n",
       "1    Grabado hace 4 meses con algo d polemica, el m...\n",
       "2    “@eatonvidal: @Edurnity mi segundo apellido es...\n",
       "3    “@AnaGaMoral: @Edurnity Mi terecer apellido es...\n",
       "4    “@AnaGaMoral: @Edurnity mi sexto apellido es c...\n",
       "5        Esta mañana navegaba. Ahora voy en autobús...\n",
       "6    Rafa nos ha vuelto a hacer vibrar. Sin duda, e...\n",
       "7    gran cobertura del compañero francisco herranz...\n",
       "8    Hoy prefiero no contaros la portada. Es mejor ...\n",
       "9    Las dos Argentinas del #corralito http://t.co/...\n",
       "Name: content, dtype: object"
      ]
     },
     "execution_count": 604,
     "metadata": {},
     "output_type": "execute_result"
    }
   ],
   "source": [
    "# Función para identificar los 'emojis' tradicionales\n",
    "\n",
    "def transform_icons(df):\n",
    "    word_list = []\n",
    "    pos_emojis = [':)', ':D', ':))', ':)))', 'xD', 'xd', 'XD']\n",
    "    neg_emojis = [':(', \":'(\", '>:(', ':,(', \":((\"]\n",
    "    for word in df.split():\n",
    "        if word in neg_emojis:\n",
    "            word = '{emoji_neg}'\n",
    "            word_list.append(word)\n",
    "        elif word in pos_emojis:\n",
    "            word = '{emoji_pos}'\n",
    "            word_list.append(word)\n",
    "        elif ':O' in word:\n",
    "            word = '{emoji_neu}'\n",
    "            word_list.append(word)\n",
    "        else:\n",
    "            word_list.append(word)\n",
    "    return \" \".join(word_list)\n",
    "\n",
    "df.content[:10].apply(transform_icons)"
   ]
  },
  {
   "cell_type": "code",
   "execution_count": 605,
   "metadata": {},
   "outputs": [
    {
     "data": {
      "text/plain": [
       "0     En el templo del SPD, Willy-Brandt-Haus en Ber...\n",
       "1     Grabado hace 4 meses con algo d polemica, el m...\n",
       "2     “@eatonvidal: @Edurnity mi segundo apellido es...\n",
       "3     “@AnaGaMoral: @Edurnity Mi terecer apellido es...\n",
       "4     “@AnaGaMoral: @Edurnity mi sexto apellido es c...\n",
       "5         Esta mañana navegaba. Ahora voy en autobús...\n",
       "6     Rafa nos ha vuelto a hacer vibrar. Sin duda, e...\n",
       "7     gran cobertura del compañero francisco herranz...\n",
       "8     Hoy prefiero no contaros la portada. Es mejor ...\n",
       "9     Las dos Argentinas del #corralito http://t.co/...\n",
       "10    Camino a @LaVozMexico .. No se pierdan las act...\n",
       "11    Sra. Rushmore estrena La Peineta http://t.co/S...\n",
       "12    Jeje...siii!! RT @Dalearden_ @Tonicanto1 :))) ...\n",
       "13                            @carlosecue un comunicado\n",
       "14    Tenemos enormes dudas sobre la proposición de ...\n",
       "15    Que gran verdad! “@Sonya_Back: @Federicoqueved...\n",
       "16    Con mis hermanos Wisin & Yandel en el Coliseo ...\n",
       "17    A dos minutos de que @pacorengel me haga la pr...\n",
       "18    @carlos__alsina Está claro. Harán falta años d...\n",
       "19    Helmut Schmidt: \"los excedentes de exportación...\n",
       "Name: content, dtype: object"
      ]
     },
     "execution_count": 605,
     "metadata": {},
     "output_type": "execute_result"
    }
   ],
   "source": [
    "# Separamos emojis que vengan juntos\n",
    "def sep_emojis(df):\n",
    "    words_list = []\n",
    "    for token in df.split():\n",
    "        new_word = []\n",
    "        for letra in token:\n",
    "            if letra in emoji.UNICODE_EMOJI['es']:\n",
    "                words_list.append(letra)\n",
    "            else:\n",
    "                new_word.append(letra)\n",
    "        else:\n",
    "            words_list.append(\"\".join(new_word))\n",
    "\n",
    "    return (\" \".join(word for word in words_list if word != ''))\n",
    "            \n",
    "df.content[:20].apply(sep_emojis)"
   ]
  },
  {
   "cell_type": "code",
   "execution_count": 606,
   "metadata": {},
   "outputs": [],
   "source": [
    "# Creamos diccionario de emojis\n",
    "import csv\n",
    "\n",
    "def _build_dict_from_csv(csv_path):\n",
    "    \"\"\" Fork basado en emosent-py de Fintel Labs Inc. \"\"\"\n",
    "\n",
    "    emoji_sentiment_rankings = {}\n",
    "\n",
    "    with open(csv_path, newline='', encoding='utf-8') as csv_file:\n",
    "        csv_reader = csv.reader(csv_file)\n",
    "        _header_row = next(csv_reader)\n",
    "        for row in csv_reader:\n",
    "            emoji = row[0]\n",
    "            unicode_codepoint = row[1]\n",
    "            occurrences = int(row[2])\n",
    "            negative = float(row[4])\n",
    "            neutral = float(row[5])\n",
    "            positive = float(row[6])\n",
    "\n",
    "            emoji_sentiment_rankings[unicode_codepoint] = {\n",
    "                'emoji': emoji,\n",
    "                'occurrences': occurrences,\n",
    "                'sentiment': [negative, neutral, positive]\n",
    "            }\n",
    "\n",
    "    return emoji_sentiment_rankings\n",
    "\n",
    "EMOJI_SENTIMENT_DICT = _build_dict_from_csv('data\\Emoji_Sentiment_Data_v1.0.csv')"
   ]
  },
  {
   "cell_type": "code",
   "execution_count": 607,
   "metadata": {},
   "outputs": [
    {
     "data": {
      "text/plain": [
       "'Hola que pasa. Aquí 👍🏼😀💪🏾 andamos'"
      ]
     },
     "execution_count": 607,
     "metadata": {},
     "output_type": "execute_result"
    }
   ],
   "source": [
    "# Definimos función para identificar sentimiento del emoji\n",
    "from emosent import get_emoji_sentiment_rank\n",
    "import emoji\n",
    "\n",
    "# Devuelve true/false si es emoji\n",
    "def char_is_emoji(character):\n",
    "    return character in emoji.UNICODE_EMOJI['es']\n",
    "\n",
    "# DEPRECATED - Devuelve si un emoji es neg/pos/neutro o no identificado\n",
    "def sentiment_emoji(emoji):\n",
    "    try:\n",
    "        sentiment = get_emoji_sentiment_rank(emoji)['sentiment_score']\n",
    "        if sentiment < -0.3:\n",
    "            return '{emoji_neg}'\n",
    "        elif sentiment < 0.3:\n",
    "            return '{emoji_neu}'\n",
    "        elif sentiment >= 0.3:\n",
    "            return '{emoji_pos}'\n",
    "    except:\n",
    "        return '{emoji_na}'\n",
    "    \n",
    "# Devuelve si un emoji es neg/pos/neutro o no identificado\n",
    "def get_emoji_rank(emoji):\n",
    "    \n",
    "    emoji = f'0x{ord(emoji[0]):X}'.lower()\n",
    "    \n",
    "    if emoji in EMOJI_SENTIMENT_DICT.keys():\n",
    "        if EMOJI_SENTIMENT_DICT[emoji]['occurrences'] > 80:\n",
    "            if np.argmax(EMOJI_SENTIMENT_DICT[emoji]['sentiment']) == 0:\n",
    "                return '{emoji_neg}'\n",
    "            elif np.argmax(EMOJI_SENTIMENT_DICT[emoji]['sentiment']) == 1:\n",
    "                return '{emoji_neu}'\n",
    "            else:\n",
    "                return '{emoji_pos}'\n",
    "        else:\n",
    "            return '{emoji_neu}'\n",
    "    else:\n",
    "        return '{emoji_neu}'\n",
    "\n",
    "def transform_emoji(df):\n",
    "    return \" \".join([get_emoji_rank(word) if char_is_emoji(word) else word for word in df.split()])\n",
    "\n",
    "transform_emoji('Hola que pasa. Aquí 👍🏼😀💪🏾 andamos ')"
   ]
  },
  {
   "cell_type": "code",
   "execution_count": 608,
   "metadata": {},
   "outputs": [
    {
     "data": {
      "text/plain": [
       "'{emoji_neg} {emoji_pos} {emoji_pos} {emoji_neu}'"
      ]
     },
     "execution_count": 608,
     "metadata": {},
     "output_type": "execute_result"
    }
   ],
   "source": [
    "transform_emoji(sep_emojis('😭😀💪🏾'))"
   ]
  },
  {
   "cell_type": "code",
   "execution_count": 609,
   "metadata": {},
   "outputs": [],
   "source": [
    "# Eliminamos stopwords\n",
    "from nltk.corpus import stopwords\n",
    "\n",
    "#nltk.download('stopwords')\n",
    "spanish_stopwords = stopwords.words('spanish')\n",
    "non_stopwords = ['no', 'ni', 'poco', 'mucho', 'nada', 'muchos', 'muy', 'nosotros',\n",
    "                 'nosotras', 'vosotros', 'vosotras', 'ellos', 'ellas', 'ella', 'él', 'tu', 'tú', 'yo',\n",
    "                 'pero', 'hasta', 'contra', 'por']\n",
    "spanish_stopwords = [word for word in stopwords.words('spanish') if word not in non_stopwords]\n",
    "\n",
    "def remove_stopwords(df):\n",
    "    return \" \".join([word for word in df.split() if word not in spanish_stopwords])"
   ]
  },
  {
   "cell_type": "code",
   "execution_count": 610,
   "metadata": {},
   "outputs": [
    {
     "name": "stdout",
     "output_type": "stream",
     "text": [
      "['de', 'la', 'que', 'el', 'en', 'y', 'a', 'los', 'del', 'se', 'las', 'por', 'un', 'para', 'con', 'una', 'su', 'al', 'lo', 'como', 'más', 'pero', 'sus', 'le', 'ya', 'o', 'este', 'sí', 'porque', 'esta', 'entre', 'cuando', 'sin', 'sobre', 'también', 'me', 'hasta', 'hay', 'donde', 'quien', 'desde', 'todo', 'nos', 'durante', 'todos', 'uno', 'les', 'contra', 'otros', 'ese', 'eso', 'ante', 'e', 'esto', 'mí', 'antes', 'algunos', 'qué', 'unos', 'otro', 'otras', 'otra', 'tanto', 'esa', 'estos', 'quienes', 'cual', 'estar', 'estas', 'algunas', 'algo', 'mi', 'mis', 'te', 'ti', 'tus', 'os', 'mío', 'mía', 'míos', 'mías', 'tuyo', 'tuya', 'tuyos', 'tuyas', 'suyo', 'suya', 'suyos', 'suyas', 'nuestro', 'nuestra', 'nuestros', 'nuestras', 'vuestro', 'vuestra', 'vuestros', 'vuestras', 'esos', 'esas', 'estoy', 'estás', 'está', 'estamos', 'estáis', 'están', 'esté', 'estés', 'estemos', 'estéis', 'estén', 'estaré', 'estarás', 'estará', 'estaremos', 'estaréis', 'estarán', 'estaría', 'estarías', 'estaríamos', 'estaríais', 'estarían', 'estaba', 'estabas', 'estábamos', 'estabais', 'estaban', 'estuve', 'estuviste', 'estuvo', 'estuvimos', 'estuvisteis', 'estuvieron', 'estuviera', 'estuvieras', 'estuviéramos', 'estuvierais', 'estuvieran', 'estuviese', 'estuvieses', 'estuviésemos', 'estuvieseis', 'estuviesen', 'estando', 'estado', 'estada', 'estados', 'estadas', 'estad', 'he', 'has', 'ha', 'hemos', 'habéis', 'han', 'haya', 'hayas', 'hayamos', 'hayáis', 'hayan', 'habré', 'habrás', 'habrá', 'habremos', 'habréis', 'habrán', 'habría', 'habrías', 'habríamos', 'habríais', 'habrían', 'había', 'habías', 'habíamos', 'habíais', 'habían', 'hube', 'hubiste', 'hubo', 'hubimos', 'hubisteis', 'hubieron', 'hubiera', 'hubieras', 'hubiéramos', 'hubierais', 'hubieran', 'hubiese', 'hubieses', 'hubiésemos', 'hubieseis', 'hubiesen', 'habiendo', 'habido', 'habida', 'habidos', 'habidas', 'soy', 'eres', 'es', 'somos', 'sois', 'son', 'sea', 'seas', 'seamos', 'seáis', 'sean', 'seré', 'serás', 'será', 'seremos', 'seréis', 'serán', 'sería', 'serías', 'seríamos', 'seríais', 'serían', 'era', 'eras', 'éramos', 'erais', 'eran', 'fui', 'fuiste', 'fue', 'fuimos', 'fuisteis', 'fueron', 'fuera', 'fueras', 'fuéramos', 'fuerais', 'fueran', 'fuese', 'fueses', 'fuésemos', 'fueseis', 'fuesen', 'sintiendo', 'sentido', 'sentida', 'sentidos', 'sentidas', 'siente', 'sentid', 'tengo', 'tienes', 'tiene', 'tenemos', 'tenéis', 'tienen', 'tenga', 'tengas', 'tengamos', 'tengáis', 'tengan', 'tendré', 'tendrás', 'tendrá', 'tendremos', 'tendréis', 'tendrán', 'tendría', 'tendrías', 'tendríamos', 'tendríais', 'tendrían', 'tenía', 'tenías', 'teníamos', 'teníais', 'tenían', 'tuve', 'tuviste', 'tuvo', 'tuvimos', 'tuvisteis', 'tuvieron', 'tuviera', 'tuvieras', 'tuviéramos', 'tuvierais', 'tuvieran', 'tuviese', 'tuvieses', 'tuviésemos', 'tuvieseis', 'tuviesen', 'teniendo', 'tenido', 'tenida', 'tenidos', 'tenidas', 'tened']\n"
     ]
    }
   ],
   "source": [
    "print([word for word in stopwords.words('spanish') if word not in non_stopwords])"
   ]
  },
  {
   "cell_type": "code",
   "execution_count": 611,
   "metadata": {},
   "outputs": [
    {
     "data": {
      "text/plain": [
       "0    en el templ del spd, willy-brandt-haus en berl...\n",
       "1    grab hac 4 mes con algo d polemica, el miercol...\n",
       "2    “@eatonvidal: @edurnity mi segund apell es vid...\n",
       "3    “@anagamoral: @edurnity mi terec apell es vela...\n",
       "4    “@anagamoral: @edurnity mi sext apell es cabre...\n",
       "5          esta mañan navegaba. ahor voy en autobus...\n",
       "6    raf nos ha vuelt a hac vibrar. sin duda, el me...\n",
       "7    gran cobertur del compañer francisc herranz en...\n",
       "8    hoy prefier no contar la portada. es mejor que...\n",
       "9    las dos argentin del #corralit http://t.co/kzy...\n",
       "Name: content, dtype: object"
      ]
     },
     "execution_count": 611,
     "metadata": {},
     "output_type": "execute_result"
    }
   ],
   "source": [
    "# Stemmizamos\n",
    "from nltk.stem.snowball import SnowballStemmer\n",
    "\n",
    "def stem(df):\n",
    "    stemmer = SnowballStemmer('spanish')\n",
    "    return \" \".join([stemmer.stem(word) for word in df.split()])\n",
    "\n",
    "df.content[:10].apply(stem)"
   ]
  },
  {
   "cell_type": "code",
   "execution_count": 612,
   "metadata": {},
   "outputs": [],
   "source": [
    "# Lematizamos\n",
    "\n",
    "# Creamos el objeto\n",
    "import spacy\n",
    "import es_core_news_md\n",
    "#spacy.prefer_gpu() # or spacy.require_gpu()\n",
    "spacy.require_gpu()\n",
    "nlp = es_core_news_md.load()\n",
    "\n",
    "# Definimos función\n",
    "def lemmatizer(df):\n",
    "    word_list = []\n",
    "    doc = nlp(df)\n",
    "    for tok in doc:\n",
    "        if str(tok) == 'menc':\n",
    "              word_list.append('{menc}')\n",
    "        elif str(tok) == 'hash':\n",
    "              word_list.append('{hash}')\n",
    "        elif str(tok) == 'link':\n",
    "              word_list.append('{link}')\n",
    "        elif str(tok) == 'emoji_pos':\n",
    "              word_list.append('{emoji_pos}')\n",
    "        elif str(tok) == 'emoji_neu':\n",
    "              word_list.append('{emoji_neu}')\n",
    "        elif str(tok) == 'emoji_neg':\n",
    "              word_list.append('{emoji_neg}')\n",
    "        else:\n",
    "          #if str(tok) != '{' or str(tok) != '}':\n",
    "          word_list.append(tok.lemma_.lower())\n",
    "\n",
    "    return \" \".join([word for word in word_list if (word != '{') and (word!='}')])\n",
    "\n",
    "    "
   ]
  },
  {
   "cell_type": "code",
   "execution_count": 613,
   "metadata": {},
   "outputs": [
    {
     "name": "stdout",
     "output_type": "stream",
     "text": [
      "Wall time: 274 ms\n"
     ]
    },
    {
     "data": {
      "text/plain": [
       "0     templar spd willybrandthaus berlín {hash} soci...\n",
       "1     grabar hacer mesar polemica miércoles salir in...\n",
       "2     {menc} {menc} segundar apellidar vidal ahí que...\n",
       "3     {menc} {menc} terecer apellidar velasco endre ...\n",
       "4     {menc} {menc} 6 apellidar cabrejas i antepasad...\n",
       "5                       mañana navegar ahora ir autobús\n",
       "6     rafa volver hacer vibrar dudar mejor deportist...\n",
       "7     gran cobertura compañero francisco herranz mun...\n",
       "8     hoy preferir no contaros portar mejor ver opin...\n",
       "9                            do argentino {hash} {link}\n",
       "10    caminar {menc} no perder actuación tres gallo ...\n",
       "11    señor rushmore estrenar peineta {link} vía {menc}\n",
       "12    jeje i rt {menc} {menc} {emoji_pos} poder segu...\n",
       "13                                     {menc} comunicar\n",
       "14    enorme dudar proposición ley psoea delegar com...\n",
       "15    gran verdad {menc} {menc} jaja si ser responsa...\n",
       "16    hermano wisin & yandel coliseo puerto rico {link}\n",
       "17    do minuto {menc} hacer primero entrevistar dir...\n",
       "18    {menc} claro hacer falto año mujer poder llant...\n",
       "19    helmut schmidt excedente exportación alemania ...\n",
       "Name: content, dtype: object"
      ]
     },
     "execution_count": 613,
     "metadata": {},
     "output_type": "execute_result"
    }
   ],
   "source": [
    "%%time\n",
    "# Put it all together\n",
    "\n",
    "# Sustituimos menciones, hashtags, link y emojis\n",
    "# Normalizamos risas\n",
    "# Eliminamos letras repetidas\n",
    "# Sustituimos signos de puntuacion\n",
    "# Corregimos abreviaciones\n",
    "# Eliminamos stopwords\n",
    "# Lematizamos\n",
    "def transform_tweets(df):\n",
    "    \n",
    "    df = remove_links(df)\n",
    "    df = remove_punctuation_space(df)\n",
    "    df = remove_mentions(df)    \n",
    "    df = remove_hashtags(df)\n",
    "    df = transform_icons(df)\n",
    "    df = sep_emojis(df)\n",
    "    df = transform_emoji(df)\n",
    "    df = normalize_laughts(df)\n",
    "    df = remove_punctuation(df)\n",
    "    df = remove_repeated_vocals(df)\n",
    "    df = fix_abbr(df)\n",
    "    df = remove_stopwords(df)\n",
    "    #df = stem(df) #Opción para stemizar\n",
    "    df = lemmatizer(df)\n",
    "    \n",
    "    return df\n",
    "\n",
    "df.content[:20].apply(transform_tweets)"
   ]
  },
  {
   "cell_type": "markdown",
   "metadata": {},
   "source": [
    "##### En producción: Pruebas para la corrección automática del texto."
   ]
  },
  {
   "cell_type": "code",
   "execution_count": 24,
   "metadata": {},
   "outputs": [
    {
     "name": "stdout",
     "output_type": "stream",
     "text": [
      "Wall time: 146 ms\n"
     ]
    },
    {
     "data": {
      "text/plain": [
       "'la calefacción consume energia'"
      ]
     },
     "execution_count": 24,
     "metadata": {},
     "output_type": "execute_result"
    }
   ],
   "source": [
    "%%time\n",
    "# Función para corregir las palabras\n",
    "\n",
    "from spellchecker import SpellChecker\n",
    "\n",
    "spell = SpellChecker(language='es', distance=1)\n",
    "\n",
    "def correcting_words(df):\n",
    "    misspelled = spell.unknown(df.split())\n",
    "    return \" \".join([spell.correction(word) if word in misspelled else word for word in sentence.split()])\n",
    "\n",
    "correcting_words('la calefaccion conzume energia')"
   ]
  },
  {
   "cell_type": "markdown",
   "metadata": {},
   "source": [
    "##### En producción: Pruebas para la detección de divisas"
   ]
  },
  {
   "cell_type": "code",
   "execution_count": 28,
   "metadata": {},
   "outputs": [
    {
     "data": {
      "text/plain": [
       "['me',\n",
       " 'he',\n",
       " 'gastado',\n",
       " '{eur}',\n",
       " 'en',\n",
       " 'comer.',\n",
       " '30',\n",
       " '{eur}',\n",
       " 'sabes.',\n",
       " '30',\n",
       " '{eur}']"
      ]
     },
     "execution_count": 28,
     "metadata": {},
     "output_type": "execute_result"
    }
   ],
   "source": [
    "frase = 'me he gastado 30€ en comer. 30 € sabes. 30 euros'\n",
    "def get_eur()\n",
    "['{eur}' if '€' in word or 'euro' in word else word for word in frase.split()]"
   ]
  },
  {
   "cell_type": "code",
   "execution_count": 614,
   "metadata": {},
   "outputs": [
    {
     "name": "stdout",
     "output_type": "stream",
     "text": [
      "@Stalkertw__ Gracias por seguirme, en breve te devuelvo follow :) #TuitUtil http://t.co/er9Q532cs8\n"
     ]
    }
   ],
   "source": [
    "print(str(df.loc[92526, 'content']))"
   ]
  },
  {
   "cell_type": "code",
   "execution_count": 615,
   "metadata": {},
   "outputs": [
    {
     "name": "stdout",
     "output_type": "stream",
     "text": [
      "@perrona1410 En este inicio de semana voto por #MueroDeFrio de @diabloslocosmx en el Top #LaRazaManda :)\n"
     ]
    }
   ],
   "source": [
    "print(str(df.loc[91109, 'content']))"
   ]
  },
  {
   "cell_type": "code",
   "execution_count": 616,
   "metadata": {},
   "outputs": [
    {
     "name": "stdout",
     "output_type": "stream",
     "text": [
      "{menc} gracia seguirme breve devolver follow {emoji_pos} {hash} {link}\n"
     ]
    }
   ],
   "source": [
    "print(str(df.loc[92526].apply(transform_tweets)[0]))"
   ]
  },
  {
   "cell_type": "code",
   "execution_count": 617,
   "metadata": {},
   "outputs": [
    {
     "data": {
      "text/plain": [
       "'templar spd willybrandthaus berlín {hash} socialdemocracia {link}'"
      ]
     },
     "execution_count": 617,
     "metadata": {},
     "output_type": "execute_result"
    }
   ],
   "source": [
    "df.content[:1].apply(transform_tweets)[0]"
   ]
  },
  {
   "cell_type": "code",
   "execution_count": 618,
   "metadata": {},
   "outputs": [
    {
     "name": "stdout",
     "output_type": "stream",
     "text": [
      "Wall time: 53min 15s\n"
     ]
    }
   ],
   "source": [
    "%%time\n",
    "# Aplicamos\n",
    "df.content = df.content.apply(transform_tweets)"
   ]
  },
  {
   "cell_type": "code",
   "execution_count": 65,
   "metadata": {},
   "outputs": [],
   "source": [
    "##########################\n",
    "##########################"
   ]
  },
  {
   "cell_type": "code",
   "execution_count": 43,
   "metadata": {},
   "outputs": [
    {
     "data": {
      "text/html": [
       "<div>\n",
       "<style scoped>\n",
       "    .dataframe tbody tr th:only-of-type {\n",
       "        vertical-align: middle;\n",
       "    }\n",
       "\n",
       "    .dataframe tbody tr th {\n",
       "        vertical-align: top;\n",
       "    }\n",
       "\n",
       "    .dataframe thead th {\n",
       "        text-align: right;\n",
       "    }\n",
       "</style>\n",
       "<table border=\"1\" class=\"dataframe\">\n",
       "  <thead>\n",
       "    <tr style=\"text-align: right;\">\n",
       "      <th></th>\n",
       "      <th>content</th>\n",
       "      <th>sentiment</th>\n",
       "    </tr>\n",
       "  </thead>\n",
       "  <tbody>\n",
       "    <tr>\n",
       "      <th>0</th>\n",
       "      <td>templar spd willybrandthaus berlín {hash socia...</td>\n",
       "      <td>NEU</td>\n",
       "    </tr>\n",
       "    <tr>\n",
       "      <th>1</th>\n",
       "      <td>grabar hacer mesar polemica miércoles salir in...</td>\n",
       "      <td>N</td>\n",
       "    </tr>\n",
       "    <tr>\n",
       "      <th>2</th>\n",
       "      <td>{menc} {menc} segundar apellidar vidal ahí que...</td>\n",
       "      <td>P</td>\n",
       "    </tr>\n",
       "    <tr>\n",
       "      <th>3</th>\n",
       "      <td>{menc} {menc} terecer apellidar velasco endre ...</td>\n",
       "      <td>NEU</td>\n",
       "    </tr>\n",
       "    <tr>\n",
       "      <th>4</th>\n",
       "      <td>{menc} {menc} 6 apellidar jaja i antepasado jaja</td>\n",
       "      <td>NEU</td>\n",
       "    </tr>\n",
       "    <tr>\n",
       "      <th>...</th>\n",
       "      <td>...</td>\n",
       "      <td>...</td>\n",
       "    </tr>\n",
       "    <tr>\n",
       "      <th>117845</th>\n",
       "      <td>{menc} hola jeje</td>\n",
       "      <td>N</td>\n",
       "    </tr>\n",
       "    <tr>\n",
       "      <th>117846</th>\n",
       "      <td>hoy grabar render reto callar sentir tan padre...</td>\n",
       "      <td>N</td>\n",
       "    </tr>\n",
       "    <tr>\n",
       "      <th>117847</th>\n",
       "      <td>hacer semana fuerza tonear mas ganar forzar ha...</td>\n",
       "      <td>N</td>\n",
       "    </tr>\n",
       "    <tr>\n",
       "      <th>117848</th>\n",
       "      <td>{menc} tendre nadie remplazar jeje</td>\n",
       "      <td>N</td>\n",
       "    </tr>\n",
       "    <tr>\n",
       "      <th>117849</th>\n",
       "      <td>jeje cargador jeje</td>\n",
       "      <td>N</td>\n",
       "    </tr>\n",
       "  </tbody>\n",
       "</table>\n",
       "<p>117832 rows × 2 columns</p>\n",
       "</div>"
      ],
      "text/plain": [
       "                                                  content sentiment\n",
       "0       templar spd willybrandthaus berlín {hash socia...       NEU\n",
       "1       grabar hacer mesar polemica miércoles salir in...         N\n",
       "2       {menc} {menc} segundar apellidar vidal ahí que...         P\n",
       "3       {menc} {menc} terecer apellidar velasco endre ...       NEU\n",
       "4        {menc} {menc} 6 apellidar jaja i antepasado jaja       NEU\n",
       "...                                                   ...       ...\n",
       "117845                                   {menc} hola jeje         N\n",
       "117846  hoy grabar render reto callar sentir tan padre...         N\n",
       "117847  hacer semana fuerza tonear mas ganar forzar ha...         N\n",
       "117848                 {menc} tendre nadie remplazar jeje         N\n",
       "117849                                 jeje cargador jeje         N\n",
       "\n",
       "[117832 rows x 2 columns]"
      ]
     },
     "execution_count": 43,
     "metadata": {},
     "output_type": "execute_result"
    }
   ],
   "source": [
    "# Cargamos el dataframe lematizado\n",
    "df_lem = pd.read_csv('df_lema.csv', index_col=0)\n",
    "df_lem.dropna(inplace=True)\n",
    "df_lem"
   ]
  },
  {
   "cell_type": "code",
   "execution_count": 40,
   "metadata": {},
   "outputs": [
    {
     "data": {
      "text/plain": [
       "'{menc} {menc} 6 apellidar jaja i antepasado jaja'"
      ]
     },
     "execution_count": 40,
     "metadata": {},
     "output_type": "execute_result"
    }
   ],
   "source": [
    "df_lem.loc[4][0]"
   ]
  },
  {
   "cell_type": "code",
   "execution_count": 41,
   "metadata": {},
   "outputs": [
    {
     "data": {
      "text/plain": [
       "'“@AnaGaMoral: @Edurnity mi sexto apellido es cabrejas...Mi antepasado era una cabra?”jaaajjajaja'"
      ]
     },
     "execution_count": 41,
     "metadata": {},
     "output_type": "execute_result"
    }
   ],
   "source": [
    "df.loc[4][0]"
   ]
  },
  {
   "cell_type": "markdown",
   "metadata": {},
   "source": [
    "## 3. Creando el modelo"
   ]
  },
  {
   "cell_type": "markdown",
   "metadata": {},
   "source": [
    "### 1. Deep learning models"
   ]
  },
  {
   "cell_type": "markdown",
   "metadata": {},
   "source": [
    "#### 1.1. GRU"
   ]
  },
  {
   "cell_type": "code",
   "execution_count": 624,
   "metadata": {},
   "outputs": [],
   "source": [
    "from tensorflow import keras"
   ]
  },
  {
   "cell_type": "code",
   "execution_count": 625,
   "metadata": {},
   "outputs": [
    {
     "name": "stdout",
     "output_type": "stream",
     "text": [
      "Número total de palabras: 94238\n"
     ]
    }
   ],
   "source": [
    "# Número de palabras del modelo\n",
    "tokens = set()\n",
    "for tweet in df.content:\n",
    "    for word in tweet.split():\n",
    "        tokens.add(word)\n",
    "dim = len(tokens)        \n",
    "print('Número total de palabras:', dim)\n",
    "        "
   ]
  },
  {
   "cell_type": "code",
   "execution_count": 626,
   "metadata": {},
   "outputs": [],
   "source": [
    "INPUT_LENGTH = 25\n",
    "EMBED_DIM = 128\n",
    "#MAX_WORDS = dim\n",
    "MAX_LEN = 200\n",
    "\n",
    "# Creamos tokenizador\n",
    "tokenizer = keras.preprocessing.text.Tokenizer(num_words = dim)\n",
    "tokenizer.fit_on_texts(df.content)\n",
    "sequences = tokenizer.texts_to_sequences(df.content)\n",
    "X = keras.preprocessing.sequence.pad_sequences(\n",
    "    sequences,\n",
    "    maxlen = INPUT_LENGTH\n",
    ")\n",
    "y = pd.get_dummies(df.sentiment).values"
   ]
  },
  {
   "cell_type": "code",
   "execution_count": 198,
   "metadata": {},
   "outputs": [
    {
     "name": "stdout",
     "output_type": "stream",
     "text": [
      "Shape X: (117850, 25)\n",
      "Shape y: (117850, 3)\n"
     ]
    }
   ],
   "source": [
    "print('Shape X:', X.shape)\n",
    "print('Shape y:', y.shape)"
   ]
  },
  {
   "cell_type": "code",
   "execution_count": 627,
   "metadata": {},
   "outputs": [],
   "source": [
    "# Separamos train/test\n",
    "from sklearn.model_selection import train_test_split\n",
    "X_train, X_test, y_train, y_test = train_test_split(X, y,\n",
    "                                                    random_state = 42,\n",
    "                                                    test_size = 0.15)"
   ]
  },
  {
   "cell_type": "code",
   "execution_count": 628,
   "metadata": {},
   "outputs": [],
   "source": [
    "# Definimos parámetros para el modelo\n",
    "DROPOUT_VAL = 0.6\n",
    "BATCH_SIZE = 16\n",
    "DENSE_DIM = 3\n",
    "UNITS = 700\n",
    "EPOCHS = 20\n",
    "\n",
    "# Creamos el modelo\n",
    "layers = [\n",
    "    keras.layers.Embedding(dim,\n",
    "                           EMBED_DIM,\n",
    "                           input_length=INPUT_LENGTH),\n",
    "    keras.layers.SpatialDropout1D(DROPOUT_VAL),\n",
    "    keras.layers.GRU(UNITS,\n",
    "                     dropout=DROPOUT_VAL,\n",
    "                     recurrent_dropout=0),\n",
    "    keras.layers.Dense(DENSE_DIM,\n",
    "                       activation='softmax')\n",
    "\n",
    "]\n",
    "\n",
    "model = keras.models.Sequential(layers)\n",
    "\n",
    "# Compilamos modelo\n",
    "history = model.compile(optimizer = 'adam',\n",
    "                        loss = 'categorical_crossentropy',\n",
    "                        metrics = ['accuracy'])\n",
    "\n",
    "# Añadimos faststopping\n",
    "\n",
    "callback = keras.callbacks.EarlyStopping(monitor = 'val_loss',\n",
    "                                         mode = 'min',\n",
    "                                         verbose = 0,\n",
    "                                         patience = 3)\n",
    "\n",
    "checkpoint_1 = keras.callbacks.ModelCheckpoint(\"best_model1.hdf5\",\n",
    "                               monitor='val_accuracy',\n",
    "                               verbose=1,\n",
    "                               save_best_only=True,\n",
    "                               mode='auto',\n",
    "                               save_weights_only=False)"
   ]
  },
  {
   "cell_type": "code",
   "execution_count": 176,
   "metadata": {},
   "outputs": [
    {
     "name": "stdout",
     "output_type": "stream",
     "text": [
      "Epoch 1/20\n",
      "6261/6261 [==============================] - ETA: 0s - loss: 0.7064 - accuracy: 0.6787\n",
      "Epoch 00001: val_accuracy improved from -inf to 0.72774, saving model to best_model1.hdf5\n",
      "6261/6261 [==============================] - 567s 91ms/step - loss: 0.7064 - accuracy: 0.6787 - val_loss: 0.6147 - val_accuracy: 0.7277\n",
      "Epoch 2/20\n",
      "6261/6261 [==============================] - ETA: 0s - loss: 0.6061 - accuracy: 0.7366\n",
      "Epoch 00002: val_accuracy improved from 0.72774 to 0.72921, saving model to best_model1.hdf5\n",
      "6261/6261 [==============================] - 578s 92ms/step - loss: 0.6061 - accuracy: 0.7366 - val_loss: 0.6281 - val_accuracy: 0.7292\n",
      "Epoch 3/20\n",
      "6261/6261 [==============================] - ETA: 0s - loss: 0.5587 - accuracy: 0.7632\n",
      "Epoch 00003: val_accuracy improved from 0.72921 to 0.75133, saving model to best_model1.hdf5\n",
      "6261/6261 [==============================] - 568s 91ms/step - loss: 0.5587 - accuracy: 0.7632 - val_loss: 0.5861 - val_accuracy: 0.7513\n",
      "Epoch 4/20\n",
      "6261/6261 [==============================] - ETA: 0s - loss: 0.4932 - accuracy: 0.7973\n",
      "Epoch 00004: val_accuracy did not improve from 0.75133\n",
      "6261/6261 [==============================] - 564s 90ms/step - loss: 0.4932 - accuracy: 0.7973 - val_loss: 0.5909 - val_accuracy: 0.7511\n",
      "Epoch 5/20\n",
      "6261/6261 [==============================] - ETA: 0s - loss: 0.4372 - accuracy: 0.8231\n",
      "Epoch 00005: val_accuracy did not improve from 0.75133\n",
      "6261/6261 [==============================] - 560s 90ms/step - loss: 0.4372 - accuracy: 0.8231 - val_loss: 0.6621 - val_accuracy: 0.7332\n",
      "Epoch 6/20\n",
      "6261/6261 [==============================] - ETA: 0s - loss: 0.4452 - accuracy: 0.8227\n",
      "Epoch 00006: val_accuracy did not improve from 0.75133\n",
      "6261/6261 [==============================] - 561s 90ms/step - loss: 0.4452 - accuracy: 0.8227 - val_loss: 0.6538 - val_accuracy: 0.7355\n"
     ]
    }
   ],
   "source": [
    "# Entrenamos\n",
    "history = model.fit(X_train,\n",
    "                    y_train,\n",
    "                    epochs = EPOCHS,\n",
    "                    validation_data = (X_test, y_test),\n",
    "                    batch_size = BATCH_SIZE,\n",
    "                    callbacks = [callback, checkpoint_1])"
   ]
  },
  {
   "cell_type": "code",
   "execution_count": 177,
   "metadata": {},
   "outputs": [
    {
     "name": "stdout",
     "output_type": "stream",
     "text": [
      "553/553 [==============================] - 2s 4ms/step - loss: 0.6538 - accuracy: 0.7355\n"
     ]
    },
    {
     "data": {
      "text/plain": [
       "[0.6538240909576416, 0.7354904413223267]"
      ]
     },
     "execution_count": 177,
     "metadata": {},
     "output_type": "execute_result"
    }
   ],
   "source": [
    "accuracy_dl_gru = model.evaluate(X_test, y_test)\n",
    "accuracy_dl_gru"
   ]
  },
  {
   "cell_type": "code",
   "execution_count": 178,
   "metadata": {},
   "outputs": [
    {
     "name": "stdout",
     "output_type": "stream",
     "text": [
      "              precision    recall  f1-score   support\n",
      "\n",
      "           0       0.80      0.77      0.78      5322\n",
      "           1       0.62      0.78      0.69      6141\n",
      "           2       0.86      0.67      0.75      6215\n",
      "\n",
      "    accuracy                           0.74     17678\n",
      "   macro avg       0.76      0.74      0.74     17678\n",
      "weighted avg       0.76      0.74      0.74     17678\n",
      "\n"
     ]
    }
   ],
   "source": [
    "from sklearn.metrics import classification_report\n",
    "y_pred_1 = model.predict(X_test)\n",
    "print(classification_report(np.argmax(y_test, axis=1), np.argmax(y_pred_1, axis=1)))"
   ]
  },
  {
   "cell_type": "code",
   "execution_count": 634,
   "metadata": {},
   "outputs": [],
   "source": [
    "from sklearn.metrics import confusion_matrix\n",
    "\n",
    "def display_cm(y_test, y_pred):    \n",
    "    sns.heatmap(confusion_matrix(np.argmax(y_test, axis=1), np.argmax(y_pred, axis=1), normalize = 'true'),\n",
    "                annot = True, cmap = 'Blues', fmt='g', cbar=False)\n",
    "    plt.title('Real vs pred')\n",
    "    plt.xlabel('Predicted values')\n",
    "    plt.ylabel('Real values');\n",
    "    \n",
    "    plt.show()"
   ]
  },
  {
   "cell_type": "code",
   "execution_count": 179,
   "metadata": {},
   "outputs": [
    {
     "data": {
      "image/png": "[encoded data removed]",
      "text/plain": [
       "<Figure size 432x288 with 1 Axes>"
      ]
     },
     "metadata": {
      "needs_background": "light"
     },
     "output_type": "display_data"
    }
   ],
   "source": [
    "display_cm(y_test, y_pred_1)"
   ]
  },
  {
   "cell_type": "markdown",
   "metadata": {},
   "source": [
    "#### 1.2. RNN - LSTM layers"
   ]
  },
  {
   "cell_type": "code",
   "execution_count": 200,
   "metadata": {},
   "outputs": [],
   "source": [
    "from keras.models import Sequential\n",
    "from keras import layers\n",
    "from keras import regularizers\n",
    "from keras import backend as K\n",
    "from keras.callbacks import ModelCheckpoint\n",
    "\n",
    "# Definimos parámetros para el modelo\n",
    "DROPOUT_VAL = 0.5\n",
    "BATCH_SIZE = 16\n",
    "#DENSE_DIM = 3\n",
    "EPOCHS = 20\n",
    "\n",
    "# Creamos capas\n",
    "\n",
    "layers = [\n",
    "    keras.layers.Embedding(dim, 20, input_length = INPUT_LENGTH),\n",
    "    keras.layers.LSTM(15,dropout = DROPOUT_VAL, return_sequences=True),\n",
    "    keras.layers.LSTM(15,dropout = DROPOUT_VAL),\n",
    "    keras.layers.Dense(3, activation = 'softmax')   \n",
    "]\n",
    "\n",
    "model2 = keras.models.Sequential(layers)\n",
    "\n",
    "# Compilamos\n",
    "\n",
    "model2.compile(optimizer='rmsprop',\n",
    "               loss='categorical_crossentropy',\n",
    "               metrics=['accuracy'])\n",
    "\n",
    "# Añadimos faststopping\n",
    "callback = keras.callbacks.EarlyStopping(monitor = 'val_loss',\n",
    "                                         mode = 'min',\n",
    "                                         verbose = 0,\n",
    "                                         patience = 3)\n",
    "\n",
    "# Añadimos checkpoint\n",
    "metric = 'val_accuracy'\n",
    "\n",
    "checkpoint_2 = keras.callbacks.ModelCheckpoint(\"best_model2.hdf5\",\n",
    "                                    monitor = metric,\n",
    "                                    verbose=1,\n",
    "                                    save_best_only=True,\n",
    "                                    mode='auto',\n",
    "                                    save_weights_only=False)"
   ]
  },
  {
   "cell_type": "code",
   "execution_count": 201,
   "metadata": {},
   "outputs": [
    {
     "name": "stdout",
     "output_type": "stream",
     "text": [
      "Epoch 1/20\n",
      "6258/6261 [============================>.] - ETA: 0s - loss: 0.6656 - accuracy: 0.7026\n",
      "Epoch 00001: val_accuracy improved from -inf to 0.74352, saving model to best_model2.hdf5\n",
      "6261/6261 [==============================] - 59s 9ms/step - loss: 0.6656 - accuracy: 0.7026 - val_loss: 0.5933 - val_accuracy: 0.7435\n",
      "Epoch 2/20\n",
      "6260/6261 [============================>.] - ETA: 0s - loss: 0.5795 - accuracy: 0.7528\n",
      "Epoch 00002: val_accuracy improved from 0.74352 to 0.74748, saving model to best_model2.hdf5\n",
      "6261/6261 [==============================] - 59s 10ms/step - loss: 0.5795 - accuracy: 0.7528 - val_loss: 0.5876 - val_accuracy: 0.7475\n",
      "Epoch 3/20\n",
      "6261/6261 [==============================] - ETA: 0s - loss: 0.5573 - accuracy: 0.7647\n",
      "Epoch 00003: val_accuracy improved from 0.74748 to 0.75552, saving model to best_model2.hdf5\n",
      "6261/6261 [==============================] - 58s 9ms/step - loss: 0.5573 - accuracy: 0.7647 - val_loss: 0.5669 - val_accuracy: 0.7555\n",
      "Epoch 4/20\n",
      "6256/6261 [============================>.] - ETA: 0s - loss: 0.5432 - accuracy: 0.7715\n",
      "Epoch 00004: val_accuracy improved from 0.75552 to 0.75766, saving model to best_model2.hdf5\n",
      "6261/6261 [==============================] - 59s 9ms/step - loss: 0.5433 - accuracy: 0.7714 - val_loss: 0.5673 - val_accuracy: 0.7577\n",
      "Epoch 5/20\n",
      "6259/6261 [============================>.] - ETA: 0s - loss: 0.5317 - accuracy: 0.7796\n",
      "Epoch 00005: val_accuracy did not improve from 0.75766\n",
      "6261/6261 [==============================] - 59s 9ms/step - loss: 0.5318 - accuracy: 0.7796 - val_loss: 0.5638 - val_accuracy: 0.7569\n",
      "Epoch 6/20\n",
      "6261/6261 [==============================] - ETA: 0s - loss: 0.5170 - accuracy: 0.7867\n",
      "Epoch 00006: val_accuracy did not improve from 0.75766\n",
      "6261/6261 [==============================] - 60s 10ms/step - loss: 0.5170 - accuracy: 0.7867 - val_loss: 0.5786 - val_accuracy: 0.7560\n",
      "Epoch 7/20\n",
      "6259/6261 [============================>.] - ETA: 0s - loss: 0.5014 - accuracy: 0.7953\n",
      "Epoch 00007: val_accuracy did not improve from 0.75766\n",
      "6261/6261 [==============================] - 60s 10ms/step - loss: 0.5013 - accuracy: 0.7953 - val_loss: 0.5744 - val_accuracy: 0.7534\n",
      "Epoch 8/20\n",
      "6259/6261 [============================>.] - ETA: 0s - loss: 0.4843 - accuracy: 0.8033\n",
      "Epoch 00008: val_accuracy did not improve from 0.75766\n",
      "6261/6261 [==============================] - 63s 10ms/step - loss: 0.4843 - accuracy: 0.8033 - val_loss: 0.5922 - val_accuracy: 0.7487\n"
     ]
    }
   ],
   "source": [
    "# Entrenamos\n",
    "\n",
    "history_2 = model2.fit(X_train,\n",
    "                       y_train,\n",
    "                       epochs = EPOCHS,\n",
    "                       #validation_split = 0.1,\n",
    "                       validation_data = (X_test, y_test),\n",
    "                       batch_size = 16,\n",
    "                       callbacks=[checkpoint_2, callback])"
   ]
  },
  {
   "cell_type": "code",
   "execution_count": 202,
   "metadata": {},
   "outputs": [
    {
     "name": "stdout",
     "output_type": "stream",
     "text": [
      "553/553 [==============================] - 1s 3ms/step - loss: 0.5922 - accuracy: 0.7487\n"
     ]
    },
    {
     "data": {
      "text/plain": [
       "[0.5922040939331055, 0.7487272024154663]"
      ]
     },
     "execution_count": 202,
     "metadata": {},
     "output_type": "execute_result"
    }
   ],
   "source": [
    "# Evaluamos\n",
    "accuracy_dl_lstm = model2.evaluate(X_test, y_test)\n",
    "accuracy_dl_lstm"
   ]
  },
  {
   "cell_type": "code",
   "execution_count": 203,
   "metadata": {},
   "outputs": [
    {
     "name": "stdout",
     "output_type": "stream",
     "text": [
      "              precision    recall  f1-score   support\n",
      "\n",
      "           0       0.79      0.79      0.79      5322\n",
      "           1       0.68      0.66      0.67      6141\n",
      "           2       0.78      0.80      0.79      6215\n",
      "\n",
      "    accuracy                           0.75     17678\n",
      "   macro avg       0.75      0.75      0.75     17678\n",
      "weighted avg       0.75      0.75      0.75     17678\n",
      "\n"
     ]
    }
   ],
   "source": [
    "# Sacamos classification report\n",
    "y_pred_2 = model2.predict(X_test)\n",
    "print(classification_report(np.argmax(y_test, axis=1), np.argmax(y_pred_2, axis=1)))"
   ]
  },
  {
   "cell_type": "code",
   "execution_count": 204,
   "metadata": {},
   "outputs": [
    {
     "data": {
      "image/png": "[encoded data removed]",
      "text/plain": [
       "<Figure size 432x288 with 1 Axes>"
      ]
     },
     "metadata": {
      "needs_background": "light"
     },
     "output_type": "display_data"
    }
   ],
   "source": [
    "display_cm(y_test, y_pred_2)"
   ]
  },
  {
   "cell_type": "markdown",
   "metadata": {},
   "source": [
    "#### 1.3. RNN - Bidirectional layers"
   ]
  },
  {
   "cell_type": "code",
   "execution_count": 629,
   "metadata": {},
   "outputs": [],
   "source": [
    "DROPOUT_VAL = 0.6\n",
    "\n",
    "layers = [\n",
    "    keras.layers.Embedding(dim, 40, input_length = INPUT_LENGTH),\n",
    "    keras.layers.Bidirectional(keras.layers.LSTM(20, dropout = DROPOUT_VAL)),\n",
    "    keras.layers.Dense(3, activation = 'softmax')\n",
    "]\n",
    "\n",
    "model3 = keras.models.Sequential(layers)\n",
    "\n",
    "# Compilamos modelo\n",
    "model3.compile(optimizer = 'rmsprop',\n",
    "                        loss = 'categorical_crossentropy',\n",
    "                        metrics = ['accuracy'])\n",
    "\n",
    "# Creamos faststopping\n",
    "callback = keras.callbacks.EarlyStopping(monitor = 'val_loss',\n",
    "                                         mode = 'min',\n",
    "                                         verbose = 0,\n",
    "                                         patience = 3)\n",
    "# Creamos checkpoint\n",
    "checkpoint_3 = keras.callbacks.ModelCheckpoint('best_model3.hdf5',\n",
    "                                     monitor = 'val_accuracy',\n",
    "                                     verbose = 1,\n",
    "                                     save_best_only = True,\n",
    "                                     mode = 'auto',\n",
    "                                     save_weigths_only = False)\n"
   ]
  },
  {
   "cell_type": "code",
   "execution_count": 630,
   "metadata": {},
   "outputs": [
    {
     "name": "stdout",
     "output_type": "stream",
     "text": [
      "Epoch 1/20\n",
      "WARNING:tensorflow:AutoGraph could not transform <function Model.make_train_function.<locals>.train_function at 0x000002D14BD20F78> and will run it as-is.\n",
      "Please report this to the TensorFlow team. When filing the bug, set the verbosity to 10 (on Linux, `export AUTOGRAPH_VERBOSITY=10`) and attach the full output.\n",
      "Cause: Bad argument number for Name: 4, expecting 3\n",
      "To silence this warning, decorate the function with @tf.autograph.experimental.do_not_convert\n"
     ]
    },
    {
     "name": "stderr",
     "output_type": "stream",
     "text": [
      "8496 | WARNING | AutoGraph could not transform <function Model.make_train_function.<locals>.train_function at 0x000002D14BD20F78> and will run it as-is.\n",
      "Please report this to the TensorFlow team. When filing the bug, set the verbosity to 10 (on Linux, `export AUTOGRAPH_VERBOSITY=10`) and attach the full output.\n",
      "Cause: Bad argument number for Name: 4, expecting 3\n",
      "To silence this warning, decorate the function with @tf.autograph.experimental.do_not_convert\n"
     ]
    },
    {
     "name": "stdout",
     "output_type": "stream",
     "text": [
      "WARNING: AutoGraph could not transform <function Model.make_train_function.<locals>.train_function at 0x000002D14BD20F78> and will run it as-is.\n",
      "Please report this to the TensorFlow team. When filing the bug, set the verbosity to 10 (on Linux, `export AUTOGRAPH_VERBOSITY=10`) and attach the full output.\n",
      "Cause: Bad argument number for Name: 4, expecting 3\n",
      "To silence this warning, decorate the function with @tf.autograph.experimental.do_not_convert\n",
      "12992/12993 [============================>.] - ETA: 0s - loss: 0.7123 - accuracy: 0.6860WARNING:tensorflow:AutoGraph could not transform <function Model.make_test_function.<locals>.test_function at 0x000002D15685DF78> and will run it as-is.\n",
      "Please report this to the TensorFlow team. When filing the bug, set the verbosity to 10 (on Linux, `export AUTOGRAPH_VERBOSITY=10`) and attach the full output.\n",
      "Cause: Bad argument number for Name: 4, expecting 3\n",
      "To silence this warning, decorate the function with @tf.autograph.experimental.do_not_convert\n"
     ]
    },
    {
     "name": "stderr",
     "output_type": "stream",
     "text": [
      "8496 | WARNING | AutoGraph could not transform <function Model.make_test_function.<locals>.test_function at 0x000002D15685DF78> and will run it as-is.\n",
      "Please report this to the TensorFlow team. When filing the bug, set the verbosity to 10 (on Linux, `export AUTOGRAPH_VERBOSITY=10`) and attach the full output.\n",
      "Cause: Bad argument number for Name: 4, expecting 3\n",
      "To silence this warning, decorate the function with @tf.autograph.experimental.do_not_convert\n"
     ]
    },
    {
     "name": "stdout",
     "output_type": "stream",
     "text": [
      "WARNING: AutoGraph could not transform <function Model.make_test_function.<locals>.test_function at 0x000002D15685DF78> and will run it as-is.\n",
      "Please report this to the TensorFlow team. When filing the bug, set the verbosity to 10 (on Linux, `export AUTOGRAPH_VERBOSITY=10`) and attach the full output.\n",
      "Cause: Bad argument number for Name: 4, expecting 3\n",
      "To silence this warning, decorate the function with @tf.autograph.experimental.do_not_convert\n",
      "\n",
      "Epoch 00001: val_accuracy improved from -inf to 0.71420, saving model to best_model3.hdf5\n",
      "12993/12993 [==============================] - 233s 18ms/step - loss: 0.7123 - accuracy: 0.6860 - val_loss: 0.6601 - val_accuracy: 0.7142\n",
      "Epoch 2/20\n",
      "12993/12993 [==============================] - ETA: 0s - loss: 0.6496 - accuracy: 0.7210\n",
      "Epoch 00002: val_accuracy improved from 0.71420 to 0.72203, saving model to best_model3.hdf5\n",
      "12993/12993 [==============================] - 227s 17ms/step - loss: 0.6496 - accuracy: 0.7210 - val_loss: 0.6425 - val_accuracy: 0.7220\n",
      "Epoch 3/20\n",
      "12991/12993 [============================>.] - ETA: 0s - loss: 0.6288 - accuracy: 0.7334\n",
      "Epoch 00003: val_accuracy improved from 0.72203 to 0.72595, saving model to best_model3.hdf5\n",
      "12993/12993 [==============================] - 238s 18ms/step - loss: 0.6288 - accuracy: 0.7334 - val_loss: 0.6357 - val_accuracy: 0.7260\n",
      "Epoch 4/20\n",
      "12991/12993 [============================>.] - ETA: 0s - loss: 0.6128 - accuracy: 0.7425\n",
      "Epoch 00004: val_accuracy improved from 0.72595 to 0.73018, saving model to best_model3.hdf5\n",
      "12993/12993 [==============================] - 236s 18ms/step - loss: 0.6129 - accuracy: 0.7425 - val_loss: 0.6299 - val_accuracy: 0.7302\n",
      "Epoch 5/20\n",
      "12993/12993 [==============================] - ETA: 0s - loss: 0.6004 - accuracy: 0.7491\n",
      "Epoch 00005: val_accuracy improved from 0.73018 to 0.73078, saving model to best_model3.hdf5\n",
      "12993/12993 [==============================] - 232s 18ms/step - loss: 0.6004 - accuracy: 0.7491 - val_loss: 0.6358 - val_accuracy: 0.7308\n",
      "Epoch 6/20\n",
      "12990/12993 [============================>.] - ETA: 0s - loss: 0.5885 - accuracy: 0.7549\n",
      "Epoch 00006: val_accuracy did not improve from 0.73078\n",
      "12993/12993 [==============================] - 227s 17ms/step - loss: 0.5885 - accuracy: 0.7549 - val_loss: 0.6585 - val_accuracy: 0.7260\n",
      "Epoch 7/20\n",
      "12993/12993 [==============================] - ETA: 0s - loss: 0.5789 - accuracy: 0.7602\n",
      "Epoch 00007: val_accuracy did not improve from 0.73078\n",
      "12993/12993 [==============================] - 234s 18ms/step - loss: 0.5789 - accuracy: 0.7602 - val_loss: 0.6439 - val_accuracy: 0.7296\n"
     ]
    }
   ],
   "source": [
    "# Entrenamos\n",
    "history_3 = model3.fit(X_train,\n",
    "                       y_train,\n",
    "                       epochs = EPOCHS,\n",
    "                       validation_data = (X_test, y_test),\n",
    "                       batch_size = 16,\n",
    "                       callbacks = [callback, checkpoint_3])"
   ]
  },
  {
   "cell_type": "code",
   "execution_count": 631,
   "metadata": {},
   "outputs": [
    {
     "name": "stdout",
     "output_type": "stream",
     "text": [
      "1147/1147 [==============================] - 3s 3ms/step - loss: 0.6439 - accuracy: 0.7296\n"
     ]
    },
    {
     "data": {
      "text/plain": [
       "[0.6438702940940857, 0.7296317219734192]"
      ]
     },
     "execution_count": 631,
     "metadata": {},
     "output_type": "execute_result"
    }
   ],
   "source": [
    "# Evaluamos\n",
    "accuracy_dl_bi = model3.evaluate(X_test, y_test)\n",
    "accuracy_dl_bi"
   ]
  },
  {
   "cell_type": "code",
   "execution_count": 632,
   "metadata": {},
   "outputs": [
    {
     "name": "stdout",
     "output_type": "stream",
     "text": [
      "WARNING:tensorflow:AutoGraph could not transform <function Model.make_predict_function.<locals>.predict_function at 0x000002D159DD1048> and will run it as-is.\n",
      "Please report this to the TensorFlow team. When filing the bug, set the verbosity to 10 (on Linux, `export AUTOGRAPH_VERBOSITY=10`) and attach the full output.\n",
      "Cause: Bad argument number for Name: 4, expecting 3\n",
      "To silence this warning, decorate the function with @tf.autograph.experimental.do_not_convert\n"
     ]
    },
    {
     "name": "stderr",
     "output_type": "stream",
     "text": [
      "8496 | WARNING | AutoGraph could not transform <function Model.make_predict_function.<locals>.predict_function at 0x000002D159DD1048> and will run it as-is.\n",
      "Please report this to the TensorFlow team. When filing the bug, set the verbosity to 10 (on Linux, `export AUTOGRAPH_VERBOSITY=10`) and attach the full output.\n",
      "Cause: Bad argument number for Name: 4, expecting 3\n",
      "To silence this warning, decorate the function with @tf.autograph.experimental.do_not_convert\n"
     ]
    },
    {
     "name": "stdout",
     "output_type": "stream",
     "text": [
      "WARNING: AutoGraph could not transform <function Model.make_predict_function.<locals>.predict_function at 0x000002D159DD1048> and will run it as-is.\n",
      "Please report this to the TensorFlow team. When filing the bug, set the verbosity to 10 (on Linux, `export AUTOGRAPH_VERBOSITY=10`) and attach the full output.\n",
      "Cause: Bad argument number for Name: 4, expecting 3\n",
      "To silence this warning, decorate the function with @tf.autograph.experimental.do_not_convert\n",
      "              precision    recall  f1-score   support\n",
      "\n",
      "           0       0.77      0.78      0.77     11743\n",
      "           1       0.64      0.66      0.65     12426\n",
      "           2       0.79      0.75      0.77     12518\n",
      "\n",
      "    accuracy                           0.73     36687\n",
      "   macro avg       0.73      0.73      0.73     36687\n",
      "weighted avg       0.73      0.73      0.73     36687\n",
      "\n"
     ]
    }
   ],
   "source": [
    "# Sacamos classification report\n",
    "y_pred_3 = model3.predict(X_test)\n",
    "print(classification_report(np.argmax(y_test, axis=1), np.argmax(y_pred_3, axis=1)))"
   ]
  },
  {
   "cell_type": "code",
   "execution_count": 635,
   "metadata": {},
   "outputs": [
    {
     "data": {
      "image/png": "[encoded data removed]",
      "text/plain": [
       "<Figure size 432x288 with 1 Axes>"
      ]
     },
     "metadata": {
      "needs_background": "light"
     },
     "output_type": "display_data"
    }
   ],
   "source": [
    "display_cm(y_test, y_pred_3)"
   ]
  },
  {
   "cell_type": "code",
   "execution_count": 164,
   "metadata": {},
   "outputs": [
    {
     "name": "stdout",
     "output_type": "stream",
     "text": [
      "              precision    recall  f1-score   support\n",
      "\n",
      "           0       0.81      0.77      0.79      5322\n",
      "           1       0.65      0.73      0.69      6141\n",
      "           2       0.81      0.76      0.79      6215\n",
      "\n",
      "    accuracy                           0.75     17678\n",
      "   macro avg       0.76      0.75      0.75     17678\n",
      "weighted avg       0.76      0.75      0.75     17678\n",
      "\n"
     ]
    }
   ],
   "source": [
    "# Sacamos classification report\n",
    "y_pred_3 = model3.predict(X_test)\n",
    "print(classification_report(np.argmax(y_test, axis=1), np.argmax(y_pred_3, axis=1)))"
   ]
  },
  {
   "cell_type": "code",
   "execution_count": 167,
   "metadata": {},
   "outputs": [
    {
     "data": {
      "image/png": "[encoded data removed]",
      "text/plain": [
       "<Figure size 432x288 with 1 Axes>"
      ]
     },
     "metadata": {
      "needs_background": "light"
     },
     "output_type": "display_data"
    }
   ],
   "source": [
    "display_cm(y_test, y_pred_3)"
   ]
  },
  {
   "cell_type": "markdown",
   "metadata": {},
   "source": [
    "#### 1.4. Conv1 layers"
   ]
  },
  {
   "cell_type": "code",
   "execution_count": 168,
   "metadata": {},
   "outputs": [],
   "source": [
    "# Creamos capas\n",
    "\n",
    "layers = [\n",
    "    keras.layers.Embedding(dim, 40, input_length = INPUT_LENGTH),\n",
    "    keras.layers.Conv1D(20,\n",
    "                        3,\n",
    "                        activation = 'relu',\n",
    "                        kernel_regularizer = regularizers.l1_l2(l1 = 2e-3, l2 = 2e-3),\n",
    "                        bias_regularizer = regularizers.l2(2e-3)),\n",
    "    keras.layers.MaxPooling1D(5),\n",
    "    keras.layers.Conv1D(20,\n",
    "                        3,\n",
    "                        activation = 'relu',\n",
    "                        kernel_regularizer = regularizers.l1_l2(l1 = 2e-3, l2 = 2e-3),\n",
    "                        bias_regularizer = regularizers.l2(2e-3)),\n",
    "    keras.layers.GlobalMaxPooling1D(),\n",
    "    keras.layers.Dense(3, activation = 'softmax')\n",
    "]\n",
    "\n",
    "model4 = keras.models.Sequential(layers)\n",
    "\n",
    "# Compilamos\n",
    "model4.compile(optimizer = 'rmsprop',\n",
    "               loss = 'categorical_crossentropy',\n",
    "               metrics = ['accuracy'])\n",
    "\n",
    "# Creamos faststopping\n",
    "callback = keras.callbacks.EarlyStopping(monitor = 'val_loss',\n",
    "                                         mode = 'min',\n",
    "                                         verbose = 0,\n",
    "                                         patience = 3)\n",
    "# Creamos checkpoint\n",
    "checkpoint_4 = keras.callbacks.ModelCheckpoint('best_model4.hdf5',\n",
    "                                     monitor = 'val_accuracy',\n",
    "                                     verbose = 1,\n",
    "                                     save_best_only = True,\n",
    "                                     mode = 'auto',\n",
    "                                     save_weigths_only = False)"
   ]
  },
  {
   "cell_type": "code",
   "execution_count": 169,
   "metadata": {},
   "outputs": [
    {
     "name": "stdout",
     "output_type": "stream",
     "text": [
      "Epoch 1/20\n",
      "6261/6261 [==============================] - ETA: 0s - loss: 1.1087 - accuracy: 0.3489\n",
      "Epoch 00001: val_accuracy improved from -inf to 0.34738, saving model to best_model4.hdf5\n",
      "6261/6261 [==============================] - 116s 19ms/step - loss: 1.1087 - accuracy: 0.3489 - val_loss: 1.0999 - val_accuracy: 0.3474\n",
      "Epoch 2/20\n",
      "6261/6261 [==============================] - ETA: 0s - loss: 1.1008 - accuracy: 0.3456\n",
      "Epoch 00002: val_accuracy improved from 0.34738 to 0.35157, saving model to best_model4.hdf5\n",
      "6261/6261 [==============================] - 105s 17ms/step - loss: 1.1008 - accuracy: 0.3456 - val_loss: 1.0999 - val_accuracy: 0.3516\n",
      "Epoch 3/20\n",
      "6259/6261 [============================>.] - ETA: 0s - loss: 1.1007 - accuracy: 0.3473\n",
      "Epoch 00003: val_accuracy did not improve from 0.35157\n",
      "6261/6261 [==============================] - 107s 17ms/step - loss: 1.1007 - accuracy: 0.3473 - val_loss: 1.0999 - val_accuracy: 0.3516\n",
      "Epoch 4/20\n",
      "6259/6261 [============================>.] - ETA: 0s - loss: 1.1008 - accuracy: 0.3475\n",
      "Epoch 00004: val_accuracy did not improve from 0.35157\n",
      "6261/6261 [==============================] - 104s 17ms/step - loss: 1.1008 - accuracy: 0.3475 - val_loss: 1.1005 - val_accuracy: 0.3474\n"
     ]
    }
   ],
   "source": [
    "# Entrenamos\n",
    "history_4 = model4.fit(X_train,\n",
    "                       y_train,\n",
    "                       epochs = EPOCHS,\n",
    "                       validation_data = (X_test, y_test),\n",
    "                       batch_size = 16,\n",
    "                       callbacks = [callback, checkpoint_4])"
   ]
  },
  {
   "cell_type": "code",
   "execution_count": 170,
   "metadata": {},
   "outputs": [
    {
     "name": "stdout",
     "output_type": "stream",
     "text": [
      "553/553 [==============================] - 1s 2ms/step - loss: 1.1005 - accuracy: 0.3474\n"
     ]
    },
    {
     "data": {
      "text/plain": [
       "[1.1005362272262573, 0.34738093614578247]"
      ]
     },
     "execution_count": 170,
     "metadata": {},
     "output_type": "execute_result"
    }
   ],
   "source": [
    "# Evaluamos\n",
    "accuracy_dl_conv1d = model4.evaluate(X_test, y_test)\n",
    "accuracy_dl_conv1d"
   ]
  },
  {
   "cell_type": "code",
   "execution_count": 171,
   "metadata": {},
   "outputs": [
    {
     "name": "stdout",
     "output_type": "stream",
     "text": [
      "              precision    recall  f1-score   support\n",
      "\n",
      "           0       0.00      0.00      0.00      5322\n",
      "           1       0.35      1.00      0.52      6141\n",
      "           2       0.00      0.00      0.00      6215\n",
      "\n",
      "    accuracy                           0.35     17678\n",
      "   macro avg       0.12      0.33      0.17     17678\n",
      "weighted avg       0.12      0.35      0.18     17678\n",
      "\n"
     ]
    }
   ],
   "source": [
    "# Sacamos classification report\n",
    "y_pred_4 = model4.predict(X_test)\n",
    "print(classification_report(np.argmax(y_test, axis=1), np.argmax(y_pred_4, axis=1)))"
   ]
  },
  {
   "cell_type": "code",
   "execution_count": 172,
   "metadata": {},
   "outputs": [
    {
     "data": {
      "image/png": "[encoded data removed]",
      "text/plain": [
       "<Figure size 432x288 with 1 Axes>"
      ]
     },
     "metadata": {
      "needs_background": "light"
     },
     "output_type": "display_data"
    }
   ],
   "source": [
    "display_cm(y_test, y_pred_4)"
   ]
  },
  {
   "cell_type": "markdown",
   "metadata": {},
   "source": [
    "### 2. CountVectorizer models"
   ]
  },
  {
   "cell_type": "code",
   "execution_count": 712,
   "metadata": {},
   "outputs": [],
   "source": [
    "# Creamos X,y\n",
    "\n",
    "X = df['content']\n",
    "y = df.replace({'sentiment': {'N': -1, 'NEU': 0, 'P': 1}})['sentiment']\n",
    "\n",
    "# Creamos train/test\n",
    "from sklearn.model_selection import train_test_split\n",
    "X_train, X_test, y_train, y_test = train_test_split(X, y,\n",
    "                                                    random_state = 42,\n",
    "                                                    test_size = 0.15)"
   ]
  },
  {
   "cell_type": "code",
   "execution_count": 713,
   "metadata": {},
   "outputs": [
    {
     "name": "stdout",
     "output_type": "stream",
     "text": [
      "Wall time: 10.2 s\n"
     ]
    }
   ],
   "source": [
    "%%time\n",
    "# Vectorizamos\n",
    "from sklearn.feature_extraction.text import CountVectorizer\n",
    "\n",
    "# Creamos objeto y entrenamos\n",
    "baseline_vectorizer = CountVectorizer(binary = True, ngram_range=(1, 2))\n",
    "baseline_vectorizer.fit(X_train)\n",
    "\n",
    "# Transformamos X en sparse vector\n",
    "X_train_baseline = baseline_vectorizer.transform(X_train)\n",
    "X_test_baseline = baseline_vectorizer.transform(X_test)"
   ]
  },
  {
   "cell_type": "markdown",
   "metadata": {},
   "source": [
    "#### 2.1. Random Forest"
   ]
  },
  {
   "cell_type": "code",
   "execution_count": 711,
   "metadata": {},
   "outputs": [
    {
     "name": "stdout",
     "output_type": "stream",
     "text": [
      "X_train_baseline: (207888, 928496)\n",
      "X_test_baseline: (36687, 928496)\n"
     ]
    }
   ],
   "source": [
    "# Imprimimos tamaño\n",
    "print('X_train_baseline:', X_train_baseline.shape)\n",
    "print('X_test_baseline:', X_test_baseline.shape)"
   ]
  },
  {
   "cell_type": "code",
   "execution_count": 232,
   "metadata": {},
   "outputs": [
    {
     "data": {
      "text/plain": [
       "RandomForestClassifier(n_jobs=-1)"
      ]
     },
     "execution_count": 232,
     "metadata": {},
     "output_type": "execute_result"
    }
   ],
   "source": [
    "# Creamos objeto y entrenamos\n",
    "\n",
    "random_forest_cv = RandomForestClassifier(n_estimators = 100,\n",
    "                                          n_jobs = -1)\n",
    "random_forest_cv.fit(X_train_baseline, y_train)\n",
    "\n"
   ]
  },
  {
   "cell_type": "code",
   "execution_count": 233,
   "metadata": {},
   "outputs": [
    {
     "data": {
      "text/plain": [
       "0.7255345627333408"
      ]
     },
     "execution_count": 233,
     "metadata": {},
     "output_type": "execute_result"
    }
   ],
   "source": [
    "# Evaluamos\n",
    "random_forest_cv.score(X_test_baseline, y_test)"
   ]
  },
  {
   "cell_type": "code",
   "execution_count": 234,
   "metadata": {},
   "outputs": [
    {
     "name": "stdout",
     "output_type": "stream",
     "text": [
      "              precision    recall  f1-score   support\n",
      "\n",
      "          -1       0.83      0.66      0.73      5322\n",
      "           0       0.60      0.83      0.70      6141\n",
      "           1       0.85      0.68      0.76      6215\n",
      "\n",
      "    accuracy                           0.73     17678\n",
      "   macro avg       0.76      0.72      0.73     17678\n",
      "weighted avg       0.76      0.73      0.73     17678\n",
      "\n"
     ]
    }
   ],
   "source": [
    "# Predecimos\n",
    "y_pred_rf_cv = random_forest_cv.predict(X_test_baseline)\n",
    "from sklearn.metrics import classification_report\n",
    "print(classification_report(y_test, y_pred_rf_cv))"
   ]
  },
  {
   "cell_type": "code",
   "execution_count": 235,
   "metadata": {},
   "outputs": [
    {
     "data": {
      "text/plain": [
       "0.7254779952483312"
      ]
     },
     "execution_count": 235,
     "metadata": {},
     "output_type": "execute_result"
    }
   ],
   "source": [
    "# Sacamos el accuracy\n",
    "accuracy_rf_cv = accuracy_score(y_test, y_pred_rf_cv)\n",
    "accuracy_rf_cv"
   ]
  },
  {
   "cell_type": "code",
   "execution_count": 236,
   "metadata": {},
   "outputs": [
    {
     "data": {
      "image/png": "[encoded data removed]",
      "text/plain": [
       "<Figure size 432x288 with 1 Axes>"
      ]
     },
     "metadata": {
      "needs_background": "light"
     },
     "output_type": "display_data"
    }
   ],
   "source": [
    "#display_cm(y_test, y_pred_rf_cv)\n",
    "from sklearn.metrics import confusion_matrix\n",
    "\n",
    "y_pred_rf_cv = random_forest_cv.predict(X_test_baseline)\n",
    "sns.heatmap(confusion_matrix(y_test, y_pred_rf_cv, normalize = 'true'),\n",
    "            annot=True, fmt='g', cmap = 'Blues', cbar = False);\n",
    "\n",
    "plt.title('Real vs pred')\n",
    "plt.xlabel('Predicted values')\n",
    "plt.ylabel('Real values');\n",
    "    \n",
    "plt.show()"
   ]
  },
  {
   "cell_type": "markdown",
   "metadata": {},
   "source": [
    "#### 2.2. Logistic Regression"
   ]
  },
  {
   "cell_type": "code",
   "execution_count": 760,
   "metadata": {},
   "outputs": [
    {
     "name": "stdout",
     "output_type": "stream",
     "text": [
      "Best score: 0.7387343050917469\n",
      "Best params: {'C': 0.25, 'class_weight': 'balanced', 'penalty': 'l2', 'solver': 'lbfgs'}\n",
      "Wall time: 56min 18s\n"
     ]
    }
   ],
   "source": [
    "%%time\n",
    "from sklearn.linear_model import LogisticRegression\n",
    "\n",
    "# Creamos modelo\n",
    "lr_cv_params = dict(C = [0.25, 0.5, 0.75],\n",
    "                    penalty = ['l1', 'l2'],\n",
    "                    class_weight = [None, 'balanced'],\n",
    "                    solver = ['newton-cg', 'sag', 'lbfgs'])\n",
    "\n",
    "lr_cv_grid = GridSearchCV(LogisticRegression(max_iter = 300),\n",
    "                     lr_cv_params,\n",
    "                     cv = 5,\n",
    "                     n_jobs = -1,\n",
    "                     scoring = 'accuracy').fit(X_train_baseline,\n",
    "                                               y_train)\n",
    "print('Best score:', lr_cv_grid.best_score_)\n",
    "print('Best params:', lr_cv_grid.best_params_)"
   ]
  },
  {
   "cell_type": "code",
   "execution_count": 767,
   "metadata": {},
   "outputs": [],
   "source": [
    "# Guardamos modelo\n",
    "import pickle\n",
    "\n",
    "model_lr = open('model_lr.model', 'wb')\n",
    "pickle.dump(lr_cv_grid, model_lr)\n",
    "model_lr.close()"
   ]
  },
  {
   "cell_type": "code",
   "execution_count": 761,
   "metadata": {},
   "outputs": [
    {
     "data": {
      "text/plain": [
       "0.7404257638945676"
      ]
     },
     "execution_count": 761,
     "metadata": {},
     "output_type": "execute_result"
    }
   ],
   "source": [
    "# Predecimos\n",
    "from sklearn.metrics import accuracy_score\n",
    "\n",
    "y_pred_log_reg_cv = lr_cv_grid.predict(X_test_baseline)\n",
    "accuracy_log_reg_cv = accuracy_score(y_test, y_pred_log_reg_cv)\n",
    "accuracy_log_reg_cv"
   ]
  },
  {
   "cell_type": "code",
   "execution_count": 762,
   "metadata": {},
   "outputs": [
    {
     "data": {
      "text/plain": [
       "array([[2.22293751e-03, 7.98245200e-02, 9.17952542e-01],\n",
       "       [9.94606014e-01, 4.64142953e-03, 7.52556868e-04],\n",
       "       [5.25566734e-01, 4.25923894e-01, 4.85093719e-02],\n",
       "       ...,\n",
       "       [1.86432549e-02, 3.04396399e-02, 9.50917105e-01],\n",
       "       [1.56918288e-02, 1.09398407e-01, 8.74909764e-01],\n",
       "       [6.04792416e-03, 9.76290914e-01, 1.76611621e-02]])"
      ]
     },
     "execution_count": 762,
     "metadata": {},
     "output_type": "execute_result"
    }
   ],
   "source": [
    "y_pred_log_reg_cv_proba = lr_cv_grid.predict_proba(X_test_baseline)\n",
    "y_pred_log_reg_cv_proba"
   ]
  },
  {
   "cell_type": "code",
   "execution_count": 758,
   "metadata": {},
   "outputs": [],
   "source": [
    "from __future__ import print_function\n",
    "from ipywidgets import interact, interactive, fixed, interact_manual\n",
    "import ipywidgets as widgets\n",
    "\n",
    "def get_label(probas, i=0.55):\n",
    "    if np.argmax(probas)==0:\n",
    "        return -1\n",
    "    elif np.argmax(probas)==2:\n",
    "        return 1\n",
    "    elif np.argmax(probas)==1 and probas[1]<i:\n",
    "        if probas[2] > probas[0]:\n",
    "            return 1\n",
    "        else:\n",
    "            return -1\n",
    "    else:\n",
    "        return 0\n",
    "\n",
    "y_new = np.array(list(map(lambda x: get_label(x), y_pred_log_reg_cv_proba)))\n",
    "\n",
    "def interact_proba(i):\n",
    "    plt.clf()\n",
    "    \n",
    "    y_new = np.array(list(map(lambda x: get_label(x, i), y_pred_log_reg_cv_proba)))\n",
    "    \n",
    "    # Evaluamos modelo\n",
    "    sns.heatmap(confusion_matrix(y_test, y_new, normalize = 'true'),\n",
    "                annot=True, fmt='g', cmap = 'Blues', cbar = False);\n",
    "\n",
    "    plt.title(\"\"\"Accuracy para cada clase en función\n",
    "    del threshold controlado por el parámetro i\"\"\")\n",
    "    plt.xlabel('Predicted values')\n",
    "    plt.ylabel('Real values');\n",
    "\n",
    "    plt.show()"
   ]
  },
  {
   "cell_type": "code",
   "execution_count": 763,
   "metadata": {},
   "outputs": [
    {
     "data": {
      "application/vnd.jupyter.widget-view+json": {
       "model_id": "34f995ee7c424b84bc3be873458786b6",
       "version_major": 2,
       "version_minor": 0
      },
      "text/plain": [
       "interactive(children=(FloatSlider(value=0.5, description='i', max=1.0, step=0.01), Output()), _dom_classes=('w…"
      ]
     },
     "metadata": {},
     "output_type": "display_data"
    }
   ],
   "source": [
    "interact(interact_proba, i=(0.0,1.0,0.01));"
   ]
  },
  {
   "cell_type": "code",
   "execution_count": 774,
   "metadata": {},
   "outputs": [
    {
     "data": {
      "image/png": "[encoded data removed]",
      "text/plain": [
       "<Figure size 432x288 with 1 Axes>"
      ]
     },
     "metadata": {
      "needs_background": "light"
     },
     "output_type": "display_data"
    }
   ],
   "source": [
    "# Evaluamos modelo\n",
    "sns.heatmap(confusion_matrix(y_test, y_pred_log_reg_cv, normalize = 'true'),\n",
    "            annot=True, fmt='g', cmap = 'Blues', cbar = False);\n",
    "\n",
    "plt.title('Real vs pred')\n",
    "plt.xlabel('Predicted values')\n",
    "plt.ylabel('Real values');\n",
    "    \n",
    "plt.show()"
   ]
  },
  {
   "cell_type": "markdown",
   "metadata": {},
   "source": [
    "#### 2.3. Linear SVC"
   ]
  },
  {
   "cell_type": "code",
   "execution_count": 189,
   "metadata": {},
   "outputs": [
    {
     "data": {
      "text/plain": [
       "GridSearchCV(cv=5,\n",
       "             estimator=Pipeline(steps=[('scaler',\n",
       "                                        StandardScaler(with_mean=False)),\n",
       "                                       ('svc', LinearSVC())]),\n",
       "             n_jobs=-1, param_grid={'svc__C': [0.01, 0.1, 0.25, 0.5, 1]},\n",
       "             scoring='accuracy')"
      ]
     },
     "execution_count": 189,
     "metadata": {},
     "output_type": "execute_result"
    }
   ],
   "source": [
    "from sklearn.svm import LinearSVC\n",
    "from sklearn.pipeline import Pipeline\n",
    "from sklearn.preprocessing import StandardScaler\n",
    "\n",
    "pipe_lin_svc = Pipeline([\n",
    "    ('scaler', StandardScaler(with_mean=False)),\n",
    "    ('svc', LinearSVC())\n",
    "])\n",
    "pipe_lin_svc_params = dict(svc__C = [0.01, 0.1, 0.25, 0.5, 1])\n",
    "\n",
    "lin_svc_cv = GridSearchCV(pipe_lin_svc,\n",
    "                          pipe_lin_svc_params,\n",
    "                          cv = 5,\n",
    "                          n_jobs = -1,\n",
    "                          scoring = 'accuracy')\n",
    "lin_svc_cv.fit(X_train_baseline, y_train)\n"
   ]
  },
  {
   "cell_type": "code",
   "execution_count": 190,
   "metadata": {},
   "outputs": [
    {
     "data": {
      "text/plain": [
       "{'svc__C': 0.01}"
      ]
     },
     "execution_count": 190,
     "metadata": {},
     "output_type": "execute_result"
    }
   ],
   "source": [
    "# Best params\n",
    "lin_svc_cv.best_params_"
   ]
  },
  {
   "cell_type": "code",
   "execution_count": 193,
   "metadata": {},
   "outputs": [
    {
     "data": {
      "text/plain": [
       "0.6733793415544745"
      ]
     },
     "execution_count": 193,
     "metadata": {},
     "output_type": "execute_result"
    }
   ],
   "source": [
    "# Predecimos\n",
    "\n",
    "y_pred_lin_svc_cv = lin_svc_cv.predict(X_test_baseline)\n",
    "accuracy_lin_svc_cv = accuracy_score(y_test, y_pred_lin_svc_cv)\n",
    "accuracy_lin_svc_cv"
   ]
  },
  {
   "cell_type": "code",
   "execution_count": 192,
   "metadata": {},
   "outputs": [
    {
     "name": "stdout",
     "output_type": "stream",
     "text": [
      "              precision    recall  f1-score   support\n",
      "\n",
      "          -1       0.82      0.62      0.70      5322\n",
      "           0       0.56      0.78      0.65      6141\n",
      "           1       0.76      0.62      0.68      6215\n",
      "\n",
      "    accuracy                           0.67     17678\n",
      "   macro avg       0.71      0.67      0.68     17678\n",
      "weighted avg       0.71      0.67      0.68     17678\n",
      "\n"
     ]
    }
   ],
   "source": [
    "# Sacamos matriz de correlación\n",
    "from sklearn.metrics import classification_report\n",
    "print(classification_report(y_test, y_pred_lin_svc_cv))"
   ]
  },
  {
   "cell_type": "markdown",
   "metadata": {},
   "source": [
    "### 3. TF-IDF Models"
   ]
  },
  {
   "cell_type": "code",
   "execution_count": 237,
   "metadata": {},
   "outputs": [],
   "source": [
    "from sklearn.feature_extraction.text import TfidfVectorizer\n",
    "\n",
    "# Creamos X,y\n",
    "\n",
    "X = df_lem['content']\n",
    "y = df_lem.replace({'sentiment': {'N': -1, 'NEU': 0, 'P': 1}})['sentiment']\n",
    "\n",
    "# Creamos train/test\n",
    "from sklearn.model_selection import train_test_split\n",
    "X_train, X_test, y_train, y_test = train_test_split(X, y,\n",
    "                                                    random_state = 42,\n",
    "                                                    test_size = 0.15)\n",
    "\n",
    "# Vectorizamos\n",
    "tfidf = TfidfVectorizer()\n",
    "tfidf.fit(X_train)\n",
    "X_train_tfidf = tfidf.transform(X_train)\n",
    "X_test_tfidf = tfidf.transform(X_test)"
   ]
  },
  {
   "cell_type": "markdown",
   "metadata": {},
   "source": [
    "#### 3.1. Random Forest"
   ]
  },
  {
   "cell_type": "code",
   "execution_count": 238,
   "metadata": {},
   "outputs": [
    {
     "data": {
      "text/plain": [
       "RandomForestClassifier(n_jobs=-1)"
      ]
     },
     "execution_count": 238,
     "metadata": {},
     "output_type": "execute_result"
    }
   ],
   "source": [
    "from sklearn.ensemble import RandomForestClassifier\n",
    "from sklearn.model_selection import GridSearchCV\n",
    "\n",
    "# Creamos objeto y entrenamos\n",
    "rand_forest_tfidf = RandomForestClassifier(n_estimators = 100,\n",
    "                                           n_jobs = -1)\n",
    "rand_forest_tfidf.fit(X_train_tfidf, y_train)"
   ]
  },
  {
   "cell_type": "code",
   "execution_count": 239,
   "metadata": {},
   "outputs": [
    {
     "data": {
      "text/plain": [
       "0.7029702970297029"
      ]
     },
     "execution_count": 239,
     "metadata": {},
     "output_type": "execute_result"
    }
   ],
   "source": [
    "# Evaluamos\n",
    "accuracy_rand_forest_tfidf = rand_forest_tfidf.score(X_test_tfidf, y_test)\n",
    "accuracy_rand_forest_tfidf"
   ]
  },
  {
   "cell_type": "code",
   "execution_count": 240,
   "metadata": {},
   "outputs": [
    {
     "name": "stdout",
     "output_type": "stream",
     "text": [
      "              precision    recall  f1-score   support\n",
      "\n",
      "          -1       0.75      0.69      0.72      5323\n",
      "           0       0.62      0.71      0.66      6195\n",
      "           1       0.76      0.71      0.73      6157\n",
      "\n",
      "    accuracy                           0.70     17675\n",
      "   macro avg       0.71      0.70      0.71     17675\n",
      "weighted avg       0.71      0.70      0.70     17675\n",
      "\n"
     ]
    }
   ],
   "source": [
    "# Predecimos\n",
    "y_pred_rf_tfidf = rand_forest_tfidf.predict(X_test_tfidf)\n",
    "print(classification_report(y_test, y_pred_rf_tfidf))"
   ]
  },
  {
   "cell_type": "code",
   "execution_count": 241,
   "metadata": {},
   "outputs": [
    {
     "data": {
      "image/png": "[encoded data removed]",
      "text/plain": [
       "<Figure size 432x288 with 1 Axes>"
      ]
     },
     "metadata": {
      "needs_background": "light"
     },
     "output_type": "display_data"
    }
   ],
   "source": [
    "# Evaluamos modelo\n",
    "sns.heatmap(confusion_matrix(y_test, y_pred_rf_tfidf, normalize = 'true'),\n",
    "            annot=True, fmt='g', cmap = 'Blues', cbar = False);\n",
    "\n",
    "plt.title('Real vs pred')\n",
    "plt.xlabel('Predicted values')\n",
    "plt.ylabel('Real values');\n",
    "    \n",
    "plt.show()"
   ]
  },
  {
   "cell_type": "markdown",
   "metadata": {},
   "source": [
    "#### 3.2. Logistic Regression"
   ]
  },
  {
   "cell_type": "code",
   "execution_count": 243,
   "metadata": {},
   "outputs": [
    {
     "name": "stdout",
     "output_type": "stream",
     "text": [
      "Best score: 0.7072695927542341\n",
      "Best params: {'C': 1}\n"
     ]
    }
   ],
   "source": [
    "# Entrenamos reg. log\n",
    "from sklearn.linear_model import LogisticRegression\n",
    "\n",
    "lr_tfidf_params = dict(\n",
    "    C = [0.5, 1, 1.5, 2]\n",
    ")\n",
    "lr_tfidf = GridSearchCV(LogisticRegression(),\n",
    "                        lr_tfidf_params,\n",
    "                        cv = 5,\n",
    "                        scoring = 'accuracy',\n",
    "                        n_jobs = -1).fit(X_train_tfidf, y_train)\n",
    "\n",
    "print('Best score:', lr_tfidf.best_score_)\n",
    "print('Best params:', lr_tfidf.best_params_)"
   ]
  },
  {
   "cell_type": "code",
   "execution_count": 244,
   "metadata": {},
   "outputs": [
    {
     "data": {
      "text/plain": [
       "0.711966053748232"
      ]
     },
     "execution_count": 244,
     "metadata": {},
     "output_type": "execute_result"
    }
   ],
   "source": [
    "# Predecimos\n",
    "y_pred_lr_tfidf = lr_tfidf.predict(X_test_tfidf)\n",
    "accuracy_lr_tfidf = accuracy_score(y_test, y_pred_lr_tfidf)\n",
    "accuracy_lr_tfidf"
   ]
  },
  {
   "cell_type": "code",
   "execution_count": 245,
   "metadata": {},
   "outputs": [
    {
     "data": {
      "image/png": "[encoded data removed]",
      "text/plain": [
       "<Figure size 432x288 with 1 Axes>"
      ]
     },
     "metadata": {
      "needs_background": "light"
     },
     "output_type": "display_data"
    }
   ],
   "source": [
    "# Evaluamos modelo\n",
    "sns.heatmap(confusion_matrix(y_test, y_pred_lr_tfidf, normalize = 'true'),\n",
    "            annot=True, fmt='g', cmap = 'Blues', cbar = False);\n",
    "\n",
    "plt.title('Real vs pred')\n",
    "plt.xlabel('Predicted values')\n",
    "plt.ylabel('Real values');\n",
    "    \n",
    "plt.show()"
   ]
  },
  {
   "cell_type": "markdown",
   "metadata": {},
   "source": [
    "#### 3.3. Linear SVC"
   ]
  },
  {
   "cell_type": "code",
   "execution_count": 247,
   "metadata": {},
   "outputs": [
    {
     "data": {
      "text/plain": [
       "GridSearchCV(cv=5, estimator=LinearSVC(), n_jobs=-1,\n",
       "             param_grid={'C': [0.01, 0.1, 0.25, 0.5, 1]}, scoring='accuracy')"
      ]
     },
     "execution_count": 247,
     "metadata": {},
     "output_type": "execute_result"
    }
   ],
   "source": [
    "from sklearn.svm import LinearSVC\n",
    "from sklearn.pipeline import Pipeline\n",
    "from sklearn.preprocessing import StandardScaler\n",
    "\n",
    "\n",
    "lin_svc_tfidf_params = dict(C = [0.01, 0.1, 0.25, 0.5, 1])\n",
    "\n",
    "lin_svc_tfidf = GridSearchCV(LinearSVC(),\n",
    "                          lin_svc_tfidf_params,\n",
    "                          cv = 5,\n",
    "                          n_jobs = -1,\n",
    "                          scoring = 'accuracy')\n",
    "lin_svc_tfidf.fit(X_train_tfidf, y_train)\n"
   ]
  },
  {
   "cell_type": "code",
   "execution_count": 248,
   "metadata": {},
   "outputs": [
    {
     "data": {
      "text/plain": [
       "0.7146817538896747"
      ]
     },
     "execution_count": 248,
     "metadata": {},
     "output_type": "execute_result"
    }
   ],
   "source": [
    "# Predecimos\n",
    "\n",
    "y_pred_lin_svc_tfidf = lin_svc_tfidf.predict(X_test_tfidf)\n",
    "accuracy_lin_svc_tfidf = accuracy_score(y_test, y_pred_lin_svc_tfidf)\n",
    "accuracy_lin_svc_tfidf"
   ]
  },
  {
   "cell_type": "code",
   "execution_count": 249,
   "metadata": {},
   "outputs": [
    {
     "name": "stdout",
     "output_type": "stream",
     "text": [
      "              precision    recall  f1-score   support\n",
      "\n",
      "          -1       0.73      0.75      0.74      5323\n",
      "           0       0.66      0.67      0.66      6195\n",
      "           1       0.76      0.73      0.75      6157\n",
      "\n",
      "    accuracy                           0.71     17675\n",
      "   macro avg       0.72      0.72      0.72     17675\n",
      "weighted avg       0.72      0.71      0.71     17675\n",
      "\n"
     ]
    }
   ],
   "source": [
    "# Sacamos matriz de correlación\n",
    "print(classification_report(y_test, y_pred_lin_svc_tfidf))"
   ]
  },
  {
   "cell_type": "markdown",
   "metadata": {},
   "source": [
    "## 4. Escogiendo el mejor modelo"
   ]
  },
  {
   "cell_type": "code",
   "execution_count": 250,
   "metadata": {},
   "outputs": [
    {
     "data": {
      "text/html": [
       "<div>\n",
       "<style scoped>\n",
       "    .dataframe tbody tr th:only-of-type {\n",
       "        vertical-align: middle;\n",
       "    }\n",
       "\n",
       "    .dataframe tbody tr th {\n",
       "        vertical-align: top;\n",
       "    }\n",
       "\n",
       "    .dataframe thead th {\n",
       "        text-align: right;\n",
       "    }\n",
       "</style>\n",
       "<table border=\"1\" class=\"dataframe\">\n",
       "  <thead>\n",
       "    <tr style=\"text-align: right;\">\n",
       "      <th></th>\n",
       "      <th>Val score</th>\n",
       "    </tr>\n",
       "    <tr>\n",
       "      <th>Model</th>\n",
       "      <th></th>\n",
       "    </tr>\n",
       "  </thead>\n",
       "  <tbody>\n",
       "    <tr>\n",
       "      <th>NN GRU layers</th>\n",
       "      <td>0.7355</td>\n",
       "    </tr>\n",
       "    <tr>\n",
       "      <th>NN LSTM layers</th>\n",
       "      <td>0.7487</td>\n",
       "    </tr>\n",
       "    <tr>\n",
       "      <th>RNN Bidirectional</th>\n",
       "      <td>0.7512</td>\n",
       "    </tr>\n",
       "    <tr>\n",
       "      <th>RNN Conv1d</th>\n",
       "      <td>0.3474</td>\n",
       "    </tr>\n",
       "    <tr>\n",
       "      <th>RandForest CountVectorizer</th>\n",
       "      <td>0.7255</td>\n",
       "    </tr>\n",
       "    <tr>\n",
       "      <th>LinReg CountVectorizer</th>\n",
       "      <td>0.7647</td>\n",
       "    </tr>\n",
       "    <tr>\n",
       "      <th>Linear SVC CountVectorizer</th>\n",
       "      <td>0.6734</td>\n",
       "    </tr>\n",
       "    <tr>\n",
       "      <th>RandForest TFIDF</th>\n",
       "      <td>0.703</td>\n",
       "    </tr>\n",
       "    <tr>\n",
       "      <th>LinReg TFIDF</th>\n",
       "      <td>0.712</td>\n",
       "    </tr>\n",
       "    <tr>\n",
       "      <th>Linear SVC TFIDF</th>\n",
       "      <td>0.7147</td>\n",
       "    </tr>\n",
       "  </tbody>\n",
       "</table>\n",
       "</div>"
      ],
      "text/plain": [
       "                           Val score\n",
       "Model                               \n",
       "NN GRU layers                 0.7355\n",
       "NN LSTM layers                0.7487\n",
       "RNN Bidirectional             0.7512\n",
       "RNN Conv1d                    0.3474\n",
       "RandForest CountVectorizer    0.7255\n",
       "LinReg CountVectorizer        0.7647\n",
       "Linear SVC CountVectorizer    0.6734\n",
       "RandForest TFIDF               0.703\n",
       "LinReg TFIDF                   0.712\n",
       "Linear SVC TFIDF              0.7147"
      ]
     },
     "execution_count": 250,
     "metadata": {},
     "output_type": "execute_result"
    }
   ],
   "source": [
    "# Tabla con accuracy de todos ellos\n",
    "accuracy_list = [accuracy_dl_gru[1],\n",
    "                 accuracy_dl_lstm[1],\n",
    "                 accuracy_dl_bi[1],\n",
    "                 accuracy_dl_conv1d[1],\n",
    "                 accuracy_rf_cv,\n",
    "                 accuracy_log_reg_cv,\n",
    "                 accuracy_lin_svc_cv,\n",
    "                 accuracy_rand_forest_tfidf,\n",
    "                 accuracy_lr_tfidf,\n",
    "                 accuracy_lin_svc_tfidf]\n",
    "\n",
    "columns = ['NN GRU layers', 'NN LSTM layers', 'RNN Bidirectional', 'RNN Conv1d', 'RandForest CountVectorizer',\n",
    "           'LinReg CountVectorizer', 'Linear SVC CountVectorizer', 'RandForest TFIDF', 'LinReg TFIDF',\n",
    "           'Linear SVC TFIDF']\n",
    "df_scores = pd.DataFrame(np.c_[columns, round(pd.Series(accuracy_list), 4)], columns = ['Model', 'Val score']).set_index('Model')\n",
    "df_scores"
   ]
  },
  {
   "cell_type": "markdown",
   "metadata": {},
   "source": [
    "Elegimos el modelo de RNN Bidireccional y la Regresión logística con CountVectorizer."
   ]
  },
  {
   "cell_type": "code",
   "execution_count": 318,
   "metadata": {
    "collapsed": true,
    "jupyter": {
     "outputs_hidden": true
    }
   },
   "outputs": [
    {
     "data": {
      "text/plain": [
       "{'10': 0.06871822918117072,\n",
       " '10 asir': 0.13603192901528707,\n",
       " '10 certificar': -0.0007135600757801335,\n",
       " '10 edición': -0.011658592225935172,\n",
       " '10 evitar': -0.0553107205683092,\n",
       " '10 intentar': -0.0007047701437925178,\n",
       " '10 legislatura': -0.00887778835154839,\n",
       " '10 mejor': -0.01224875032134761,\n",
       " '10 parlamentario': -0.03440287862417718,\n",
       " '10 pensamiento': -0.012144229863225131,\n",
       " '10 premiar': 0.06874759034,\n",
       " '1000': 0.0328945391556391,\n",
       " '1000 atacar': 0.0328945391556391,\n",
       " '11': 0.13688077226197404,\n",
       " '11 yo': 0.13688077226197404,\n",
       " '12': -0.0010932379379696572,\n",
       " '12 feliz': -0.0010932379379696572,\n",
       " '30': -0.013342612527782505,\n",
       " '30 director': -0.013342612527782505,\n",
       " '_ainely': -0.039268930266760683,\n",
       " '_ainely no': -0.039268930266760683,\n",
       " '_alexuanteik': 0.0028142233918196234,\n",
       " '_alexuanteik menc': 0.0028142233918196234,\n",
       " '_ambarmartinez': 0.001015231547705421,\n",
       " '_ambarmartinez margarita': 0.001015231547705421,\n",
       " '_danielmartin': -0.017799146413896263,\n",
       " '_danielmartin día': -0.017799146413896263,\n",
       " '_imsg': 0.0055075747015468236,\n",
       " '_imsg feliz': 0.0055075747015468236,\n",
       " '_juankar': -0.02183021898297104,\n",
       " '_juankar zp': -0.02183021898297104,\n",
       " '_lolu': -0.022718788425407376,\n",
       " '_lolu menc': -0.022718788425407376,\n",
       " '_rubalcaba': -0.014069337271691868,\n",
       " '_rubalcaba verdad': -0.014069337271691868,\n",
       " '_ツ_': -0.004135204170801259,\n",
       " 'ab': 0.0765643435265945,\n",
       " 'ab donar': -0.007001024255428453,\n",
       " 'ab hospital': 0.20157656020126813,\n",
       " 'ab link': -0.045555893124930504,\n",
       " 'ab luego': 0.03283552716951463,\n",
       " 'ab menc': -0.03635061089943265,\n",
       " 'abad': -0.0030563505867926837,\n",
       " 'abad nevada': -0.0030563505867926837,\n",
       " 'abadal': -0.008924721687518221,\n",
       " 'abadal charme': -0.004365377436214906,\n",
       " 'abadal pla': -0.004559344251303375,\n",
       " 'abadiano': 0.0342850984112217,\n",
       " 'abadiano elorrio': 0.0342850984112217,\n",
       " 'abadiñovizcayazulo': 0.06395650960914424,\n",
       " 'abadiñovizcayazulo eta': 0.06395650960914424,\n",
       " 'abadonan': 0.06053160277429957,\n",
       " 'abadonan banco': 0.06053160277429957,\n",
       " 'abadía': -0.04338889096202957,\n",
       " 'abadía cluny': -0.01135862269604021,\n",
       " 'abadía logroñes': -0.032030268265989655,\n",
       " 'abajar': -0.06991160183722371,\n",
       " 'abajar aquí': -0.019216552389894035,\n",
       " 'abajar beneficio': -0.11146837837024196,\n",
       " 'abajar comer': -0.04991212178838736,\n",
       " 'abajar crisis': 0.06868651965823347,\n",
       " 'abajar dcha': 0.15865069897226297,\n",
       " 'abajar decir': -0.07862490634109226,\n",
       " 'abajar derecho': -0.21838296158958193,\n",
       " 'abajar dia': 0.001897662958213176,\n",
       " 'abajar emoji_neg': 0.0010515272516876959,\n",
       " 'abajar estimar': -0.0038890973436208876,\n",
       " 'abajar gt': 0.03614085057636756,\n",
       " 'abajar hablar': -0.026078019996706996,\n",
       " 'abajar hash': -0.005338516844973765,\n",
       " 'abajar link': -0.022404537790954162,\n",
       " 'abajar maravilloso': 0.08100926634734476,\n",
       " 'abajar menc': -0.04681883624816496,\n",
       " 'abajar millón': 0.05295354169705206,\n",
       " 'abajar muy': -0.010896318061037158,\n",
       " 'abajar ocupar': 0.0977592477344319,\n",
       " 'abajar pa': -0.008829045724283707,\n",
       " 'abajar peor': -0.06901313297656277,\n",
       " 'abajar posesion': -0.004362620988552775,\n",
       " 'abajar rebajar': 0.003454110959240963,\n",
       " 'abajar rojo': -0.031720835573387784,\n",
       " 'abajar seguir': 0.040592880553340226,\n",
       " 'abajar tlc': 0.10486133402775061,\n",
       " 'abajar verdad': -0.1099938066182415,\n",
       " 'abajar volver': -0.007926039385769421,\n",
       " 'abajofirmantes': -0.02245781538571757,\n",
       " 'abajofirmantes alguno': -0.02245781538571757,\n",
       " 'aballero': -0.008196608930952823,\n",
       " 'aballero holo': -0.008196608930952823,\n",
       " 'abanderar': -0.005197439913546763,\n",
       " 'abanderar jj': -0.005197439913546763,\n",
       " 'abandon': 0.0038130713049377945,\n",
       " 'abandon emoji_neg': 0.0038130713049377945,\n",
       " 'abandonaisimo': -0.007714104750113164,\n",
       " 'abandonamiento': 0.00099447301757706,\n",
       " 'abandonamiento masivo': 0.00099447301757706,\n",
       " 'abandonao': -0.03635061089943265,\n",
       " 'abandonao vez': -0.03635061089943265,\n",
       " 'abandonar': 1.204303283004209,\n",
       " 'abandonar afganistán': 0.010159974941587782,\n",
       " 'abandonar almudena': 0.15811875547613835,\n",
       " 'abandonar assad': 0.12258630571630277,\n",
       " 'abandonar austeridad': -0.07527447401379703,\n",
       " 'abandonar ayuntamiento': -0.06776064130853625,\n",
       " 'abandonar bachillerato': -0.04810447958148286,\n",
       " 'abandonar barco': 0.10606178176100652,\n",
       " 'abandonar barrio': 0.009289444593558323,\n",
       " 'abandonar bien': -0.007323384302638377,\n",
       " 'abandonar bulevar': 0.132727131734291,\n",
       " 'abandonar burbuja': 0.07105914500650835,\n",
       " 'abandonar buscar': 0.001197080837962414,\n",
       " 'abandonar caer': 0.022625380947875737,\n",
       " 'abandonar callar': 0.010447471771295864,\n",
       " 'abandonar cargar': -0.002057407632747573,\n",
       " 'abandonar carrera': 0.030458306191927718,\n",
       " 'abandonar carro': 0.16953236816484663,\n",
       " 'abandonar centralidad': -0.08465642970728,\n",
       " 'abandonar chantajear': -0.12059391889216381,\n",
       " 'abandonar ciclismo': -0.08895108590023569,\n",
       " 'abandonar colaboracion': 0.008893901707682726,\n",
       " 'abandonar combatir': -0.04136896949354659,\n",
       " 'abandonar competición': -0.07675691519767343,\n",
       " 'abandonar congreso': -0.012929211708412448,\n",
       " 'abandonar conseguir': 0.08677415227549444,\n",
       " 'abandonar cospedal': -0.06795521495330986,\n",
       " 'abandonar decisión': 0.029636027401887977,\n",
       " 'abandonar desierto': -0.02184729325503658,\n",
       " 'abandonar dormir': 0.0009583257081629948,\n",
       " 'abandonar emoji_neg': -0.1053970467763984,\n",
       " 'abandonar emoji_pos': -0.009597510402564806,\n",
       " 'abandonar empresa': 0.021875581097180796,\n",
       " 'abandonar espacio': 0.07943471507135796,\n",
       " 'abandonar espantar': -0.1481515654702177,\n",
       " 'abandonar euro': 0.022211374158981476,\n",
       " 'abandonar europa': 0.04618662257281965,\n",
       " 'abandonar europeismo': 0.028611632715450523,\n",
       " 'abandonar eurozona': -0.06567130715989579,\n",
       " 'abandonar fase': -0.003969326539952105,\n",
       " 'abandonar formar': 0.020917328760805366,\n",
       " 'abandonar funcion': 0.00831972512013876,\n",
       " 'abandonar gobernar': 0.01538931881328058,\n",
       " 'abandonar goldman': 0.16122373586110458,\n",
       " 'abandonar guadix': 0.04626934069227398,\n",
       " 'abandonar hacedme': 0.06343918208819325,\n",
       " 'abandonar hash': -0.0914945359655984,\n",
       " 'abandonar hemiciclo': -0.03786835697094036,\n",
       " 'abandonar hijo': 0.0890803216684095,\n",
       " 'abandonar hipótesis': 0.11836120014892824,\n",
       " 'abandonar ideal': -0.12556757984520672,\n",
       " 'abandonar igual': 0.0774805356522113,\n",
       " 'abandonar ir': 0.07270273887630962,\n",
       " 'abandonar irregularidad': 0.034716578905991016,\n",
       " 'abandonar jugar': -0.019064911422763172,\n",
       " 'abandonar link': 0.08701562336334247,\n",
       " 'abandonar llamar': -0.1402043303056388,\n",
       " 'abandonar marinaleda': -0.18638000385744438,\n",
       " 'abandonar mayoría': -0.017172578949356313,\n",
       " 'abandonar movilización': 0.017460716686357517,\n",
       " 'abandonar muelle': -0.026688979996963826,\n",
       " 'abandonar no': 0.0007927860142976431,\n",
       " 'abandonar obk': -0.030717890892837763,\n",
       " 'abandonar padre': -0.01253559613490151,\n",
       " 'abandonar país': -0.07399722926615894,\n",
       " 'abandonar poder': 0.03789613309624145,\n",
       " 'abandonar político': 0.04068607080675498,\n",
       " 'abandonar poner': 0.09919206797514893,\n",
       " 'abandonar presidencia': 0.12312382511722876,\n",
       " 'abandonar principio': -0.1305127168974049,\n",
       " 'abandonar recortar': 0.03532382619065601,\n",
       " 'abandonar reivindicación': 0.11085830979876907,\n",
       " 'abandonar resignación': 0.06487325895068827,\n",
       " 'abandonar retar': -0.12773575659582728,\n",
       " 'abandonar rodar': 0.11621009523594712,\n",
       " 'abandonar rtve': -0.13319200348463422,\n",
       " 'abandonar salar': -0.05240549288996992,\n",
       " 'abandonar semana': 0.0020743645401311156,\n",
       " 'abandonar suerte': 0.01921132134350393,\n",
       " 'abandonar sylar': 0.001055805269704922,\n",
       " 'abandonar sólo': 0.043531369902913376,\n",
       " 'abandonar talante': 0.04905721434925807,\n",
       " 'abandonar taller': 0.008497762898278109,\n",
       " 'abandonar teatro': 0.06230981816584323,\n",
       " 'abandonar tierra': 0.050839475845718296,\n",
       " 'abandonar todo': -0.05320157645567692,\n",
       " 'abandonar tw': 0.11028008894533008,\n",
       " 'abandonar twitter': 0.0010080949675276844,\n",
       " 'abandonar valencia': -0.051171489090706054,\n",
       " 'abandonar veintena': -0.05861609610494567,\n",
       " 'abandonar vez': 0.0015598564407579942,\n",
       " 'abandonar walmart': -0.005504014166665067,\n",
       " 'abandonar wyoming': 0.11491891425620517,\n",
       " 'abandonar zapatero': 0.055370484750573226,\n",
       " 'abandonatta': -0.01278702747307815,\n",
       " 'abandonatta emoji_pos': -0.01278702747307815,\n",
       " 'abandono': -0.10846570528463373,\n",
       " 'abandono escolar': -0.10846570528463373,\n",
       " 'abandonou': 0.00995707388484714,\n",
       " 'abandonou firmar': 0.00995707388484714,\n",
       " 'abandonás': 0.018502730558023657,\n",
       " 'abandonás emoji_neg': 0.018502730558023657,\n",
       " 'abanicar': -0.011773856686959796,\n",
       " 'abanicar opción': -0.011773856686959796,\n",
       " 'abans': -0.01614493653877713,\n",
       " 'abans dormir': -0.015634914588087103,\n",
       " 'abans riu': -0.0005100219506899759,\n",
       " 'abar': 0.07407954766760556,\n",
       " 'abar amar': 0.021074312161971386,\n",
       " 'abar clemente': 0.15606963831847506,\n",
       " 'abar esperar': 0.0024823807976104917,\n",
       " 'abar hash': -0.0012265484183649972,\n",
       " 'abar letra': -0.0247960557919177,\n",
       " 'abar menc': -0.0032263621478938608,\n",
       " 'abar permiso': 0.10608584770561842,\n",
       " 'abar recorrer': -0.05464306720450839,\n",
       " 'abar si': -0.019591880614610136,\n",
       " 'abar somosqué': -0.030955407102548717,\n",
       " 'abar vb': -0.049612338076609724,\n",
       " 'abar vestir': -0.001311402595811147,\n",
       " 'abaratamiento': 0.32330689256571277,\n",
       " 'abaratamiento despedir': 0.32330689256571277,\n",
       " 'abaratar': 0.0030168699239916125,\n",
       " 'abaratar agilizar': 0.10442875056492358,\n",
       " 'abaratar contratación': -0.1436716956861781,\n",
       " 'abaratar contrataión': -0.05546764205219282,\n",
       " 'abaratar despedir': 0.1301513928009522,\n",
       " 'abaratar despidoes': 0.04159178597450057,\n",
       " 'abaratar hipotecar': -0.027525721438585594,\n",
       " 'abaratar marzo': -0.029057214490991384,\n",
       " 'abaratar tarifar': -0.04225079163732551,\n",
       " 'abaratar treinta': 0.00904141138867333,\n",
       " 'abaratar vivienda': -0.1833627432381554,\n",
       " 'abarcar': 0.12036998653096538,\n",
       " 'abarcar huso': -0.09244663550705029,\n",
       " 'abarcar link': -0.05968680503202151,\n",
       " 'abarcar mucho': 0.16908181615304466,\n",
       " 'abarcar punto': 0.1034216109169924,\n",
       " 'abarceloh': -0.0028870093437881736,\n",
       " 'abarceloh gran': -0.0028870093437881736,\n",
       " 'abarrotar': -0.14159701802930405,\n",
       " 'abarrotar alcalde': -0.035697949587633816,\n",
       " 'abarrotar circular': -0.0015506894523550766,\n",
       " 'abarrotar gente': -0.0076343878308434135,\n",
       " 'abarrotar junto': -0.044769296453879996,\n",
       " 'abarrotar minuto': -0.004189372949668418,\n",
       " 'abarrotar plaza': -0.024924152667617498,\n",
       " 'abarrotar salón': -0.0112336057766588,\n",
       " 'abarrotar víveres': -0.011597563310646977,\n",
       " 'abascal': -0.020528966791487385,\n",
       " 'abascal después': -0.009582297881279915,\n",
       " 'abascal hash': -0.007487998422204947,\n",
       " 'abascal recuperar': -0.003458670488002773,\n",
       " 'abastar': 0.07573783660706171,\n",
       " 'abastar contestar': -0.022536555972146946,\n",
       " 'abastar twitteando': 0.09827439257920882,\n",
       " 'abastecer': -0.03052628789630809,\n",
       " 'abastecer primero': -0.03052628789630809,\n",
       " 'abastecimiento': 0.06431427430293749,\n",
       " 'abastecimiento raqqa': -0.004525703920653161,\n",
       " 'abastecimiento shabú': 0.06883997822359098,\n",
       " 'abastos': 0.11560130951472841,\n",
       " 'abastos claro': 0.15100568159813849,\n",
       " 'abastos hora': -0.03540437208341018,\n",
       " 'abatir': 0.21141933698012602,\n",
       " 'abatir declaración': 0.09835690545363505,\n",
       " 'abatir ánimo': 0.11306243152649151,\n",
       " 'abautista': -0.0026168571652625265,\n",
       " 'abautista pues': -0.0026168571652625265,\n",
       " 'abba': -0.01008182124072902,\n",
       " 'abba and': -0.01008182124072902,\n",
       " 'abbey': -0.04465935540972829,\n",
       " 'abbey christmas': -0.014770765588430077,\n",
       " 'abbey link': -0.022249374053967014,\n",
       " 'abbey no': -0.005228522701029906,\n",
       " 'abbey ziva': -0.002410693066301057,\n",
       " 'abbott': -0.03278757762717679,\n",
       " 'abbott españa': -0.03278757762717679,\n",
       " 'abbrasions': -0.008104966861887407,\n",
       " 'abbrasions gerry': -0.008104966861887407,\n",
       " 'abby': -0.00029975251579153256,\n",
       " 'abby amar': -0.00029975251579153256,\n",
       " 'abc': 0.20581043428335474,\n",
       " 'abc abc': -0.013120380153525558,\n",
       " 'abc bicentenario': -0.03174813701510527,\n",
       " 'abc candidato': -0.03427107511697743,\n",
       " 'abc crisis': 0.11681583970853403,\n",
       " 'abc cómo': -0.007790679662657245,\n",
       " 'abc dar': -0.0807500187316918,\n",
       " 'abc decir': -0.06590301784820536,\n",
       " 'abc despedir': 0.08062833109468409,\n",
       " 'abc desvelar': 0.032840428252046916,\n",
       " 'abc dibujar': -0.005200399191368974,\n",
       " 'abc discursar': -0.0059172345577005354,\n",
       " 'abc espantá': -0.028105117656168674,\n",
       " 'abc gobernar': 0.03732820457920916,\n",
       " 'abc hash': 0.200868727689024,\n",
       " 'abc hoy': -0.006897666896683198,\n",
       " 'abc ignacio': -0.010594342015237016,\n",
       " 'abc instituto': -0.015179141880164476,\n",
       " 'abc jerez': -0.03417377154841445,\n",
       " 'abc kyoskoymas': -0.017985366651909085,\n",
       " 'abc legal': 0.02813036213834108,\n",
       " 'abc libertar': -0.05230308268744541,\n",
       " 'abc link': -0.2330679678300754,\n",
       " 'abc llegar': -0.0023251888800245816,\n",
       " 'abc luto': -0.008183580528709981,\n",
       " 'abc macro': -0.018653606806073697,\n",
       " 'abc manifestación': -0.04695873013129078,\n",
       " 'abc mañanasi': 0.04781200359063507,\n",
       " 'abc mentira': 0.05800318385397421,\n",
       " 'abc ministro': -0.08474412860963827,\n",
       " 'abc mitin': -0.004094186078795781,\n",
       " 'abc nacer': -0.08484066756207752,\n",
       " 'abc nacional': -0.004315010940001536,\n",
       " 'abc ni': -0.035924232122020054,\n",
       " 'abc nuevo': 0.03526788958540067,\n",
       " 'abc nunca': -0.1198759975967399,\n",
       " 'abc pag': -0.076481978786445,\n",
       " 'abc park': -0.06704175146818776,\n",
       " 'abc país': 0.020362650056912925,\n",
       " 'abc pedir': -0.014282090572661792,\n",
       " 'abc periodico': -0.009367476929876512,\n",
       " 'abc plataforma': -0.028553491357410116,\n",
       " 'abc portar': -0.001645985263881858,\n",
       " 'abc problema': 0.1679304369616854,\n",
       " 'abc psoe': 0.011857210550281253,\n",
       " 'abc publicar': -0.06644142742957038,\n",
       " 'abc punto': -0.15287079812235665,\n",
       " 'abc querer': -0.07868451793712193,\n",
       " 'abc quizá': -0.04800547472978713,\n",
       " 'abc quotha': -0.11040349696817413,\n",
       " 'abc razon': -0.010605453632782832,\n",
       " 'abc razón': 0.1864425920853493,\n",
       " 'abc referir': 0.1625952163360299,\n",
       " 'abc reformar': -0.03573937361846385,\n",
       " 'abc rencuentro': -0.025198467715702687,\n",
       " 'abc restar': -0.025600356031421915,\n",
       " 'abc salir': -0.007169523963261166,\n",
       " 'abc segundar': 0.1609689176136322,\n",
       " 'abc segundo': 0.32099958408080803,\n",
       " 'abc semana': -0.01822101925458881,\n",
       " 'abc ser': -0.018212813610258848,\n",
       " 'abc serrano': -0.05594968538702525,\n",
       " 'abc sevilla': -0.012587167349806503,\n",
       " 'abc siempre': 0.18682150168152686,\n",
       " 'abc situación': -0.007010500742553253,\n",
       " 'abc tb': 0.08043878231778066,\n",
       " 'abc titular': -0.019385592786925258,\n",
       " 'abc tranquilo': -0.0564761100003585,\n",
       " 'abc txhusito': -0.003325408661387061,\n",
       " 'abc_es': -0.04995119095395893,\n",
       " 'abc_es fernández': -0.04995119095395893,\n",
       " 'abcdesevilla': 0.395822163661347,\n",
       " 'abcdesevilla publicar': -0.011237684683864185,\n",
       " 'abcdesevilla rajoy': 0.08739730123402009,\n",
       " 'abcdesevilla segundo': 0.296645351678998,\n",
       " 'abcdesevilla último': 0.023017195432193466,\n",
       " 'abcesos': -0.031904154661709316,\n",
       " 'abcesos pus': -0.031904154661709316,\n",
       " 'abcpunto': -0.01265312800148714,\n",
       " 'abcpunto radiar': -0.01265312800148714,\n",
       " 'abctoma': -0.02295213782307324,\n",
       " 'abctoma patinazo': -0.02295213782307324,\n",
       " 'abdelilah': 0.10611998332266663,\n",
       " 'abdelilah benkiran': 0.10611998332266663,\n",
       " 'abdelmalek': -0.0125361946689049,\n",
       " 'abdelmalek sellal': -0.0125361946689049,\n",
       " 'abdicar': -0.0006344306094367542,\n",
       " 'abdicar emoji_pos': -0.0006344306094367542,\n",
       " 'abdiel': -0.015085019690467279,\n",
       " 'abdiel tan': -0.015085019690467279,\n",
       " 'abdomen': 0.27584713850753534,\n",
       " 'abdomen perfecto': 0.27584713850753534,\n",
       " 'abdominal': 0.1579603247486846,\n",
       " 'abdominal au': -0.019689293854848442,\n",
       " 'abdominal complaint': -0.00329349056361436,\n",
       " 'abdominal link': 0.18421607815384308,\n",
       " 'abdominal luego': 0.003172287869249489,\n",
       " 'abdon': -0.03504341708427866,\n",
       " 'abdon negro': -0.03504341708427866,\n",
       " 'abdulaziz': 0.13254273519449375,\n",
       " 'abdulaziz destruir': 0.13254273519449375,\n",
       " 'abdullah': -0.002181002262764874,\n",
       " 'abdullah mohammed': -0.002181002262764874,\n",
       " 'abecedario': -0.015411090533551388,\n",
       " 'abecedario agregar': -0.015411090533551388,\n",
       " 'abecedario normal': -0.015411090533551388,\n",
       " 'abecitos': 0.000944088904512402,\n",
       " 'abecitos saber': 0.000944088904512402,\n",
       " 'abedul': 0.07134164567077816,\n",
       " 'abedul gigante': 0.07134164567077816,\n",
       " 'abeja': -0.016583309236116714,\n",
       " 'abeja link': -0.016583309236116714,\n",
       " 'abejorro': -0.06850123794300766,\n",
       " 'abejorro culpar': -0.06382860252992334,\n",
       " 'abejorro página': -0.004672635413084516,\n",
       " 'abel': 0.059077886886398465,\n",
       " 'abel antón': -0.05739387066707954,\n",
       " 'abel caballero': -0.08391204453978116,\n",
       " 'abel jaja': -0.030164171514846048,\n",
       " 'abel no': -0.0026277969926060615,\n",
       " 'abel pintos': -0.0112130641535903,\n",
       " 'abel resfriar': 0.24461380171519004,\n",
       " 'abel tratar': -0.00022496696088789052,\n",
       " 'abelares': -0.028852092959178535,\n",
       " 'abelares canario': -0.028852092959178535,\n",
       " 'abelespana': -0.019498374848391918,\n",
       " 'abelespana cierto': -0.019498374848391918,\n",
       " 'abello': 0.0109090477635245,\n",
       " 'abello oquitin': 0.0109090477635245,\n",
       " 'abelló': 0.013359532653830978,\n",
       " 'abelló tramar': 0.013359532653830978,\n",
       " 'abendea': -0.009402688544165372,\n",
       " 'abendea presidir': -0.009402688544165372,\n",
       " 'abengoa': -0.013265244406628006,\n",
       " 'abengoa analizar': -0.01142908728299875,\n",
       " 'abengoa hash': -0.0018361571236292476,\n",
       " 'aber': -0.0025893325622396834,\n",
       " 'aber llegar': -0.0025893325622396834,\n",
       " 'abercrombie': -0.032644089813351956,\n",
       " 'abercrombie asir': -0.032644089813351956,\n",
       " 'aberrante': 0.08083474879336974,\n",
       " 'aberrante hash': -0.012742378804931405,\n",
       " 'aberrante imagen': 0.09357712759830167,\n",
       " 'aberri': 0.14917906806905545,\n",
       " 'aberri eguna': 0.17304539045263134,\n",
       " 'aberri link': -0.023866322383576256,\n",
       " 'aberron': 0.07230226983327993,\n",
       " 'aberron lectura': 0.07230226983327993,\n",
       " 'aberronchado': -0.015012632152400849,\n",
       " 'aberronchilmente': -0.012268084179190855,\n",
       " 'aberronchilmente link': -0.012268084179190855,\n",
       " 'aberroncho': -0.005175031982142416,\n",
       " 'aberroncho abrazar': -0.005175031982142416,\n",
       " 'abertis': -0.015786614943366185,\n",
       " 'abertis comprar': -0.015786614943366185,\n",
       " 'abertispues': 0.08519361482985263,\n",
       " 'abertispues pasar': 0.08519361482985263,\n",
       " 'abertzale': 0.5956846234017825,\n",
       " 'abertzale arrepentir': 0.0032303109032716763,\n",
       " 'abertzale banco': 0.030990420072304504,\n",
       " 'abertzale calle': 0.0743976153843216,\n",
       " 'abertzale desmarcar': 0.05215286434761551,\n",
       " 'abertzale elorrio': 0.03430672220723449,\n",
       " 'abertzale fuerte': 0.039513857166146485,\n",
       " 'abertzale indigno': 0.025983419063455995,\n",
       " 'abertzale kursal': 0.07782076210706854,\n",
       " 'abertzale lamentar': 0.056827243218386635,\n",
       " 'abertzale link': -0.23125594186105183,\n",
       " 'abertzale menc': 0.18198992782142043,\n",
       " 'abertzale mundo': 0.11091629610420767,\n",
       " 'abertzale navarro': 0.03830109804923596,\n",
       " 'abertzale pretender': 0.03979910878456191,\n",
       " 'abertzale primero': 0.015713650969977955,\n",
       " 'abertzale prometer': -0.12825401536818448,\n",
       " 'abertzale querer': -0.02230733995172105,\n",
       " 'abertzale reclamar': 0.06736335676329364,\n",
       " 'abertzale reconocer': 0.02150619802567797,\n",
       " 'abertzale seguir': 0.054119189689841744,\n",
       " 'abertzale según': 0.0783056908621011,\n",
       " 'abertzale señalar': 0.037137345070723485,\n",
       " 'abertzale siempre': -0.03204528887618812,\n",
       " 'abertzale sincerar': 0.027976099119926358,\n",
       " 'abertzale sorprender': 0.07525549788975268,\n",
       " 'abertzale utilizar': -0.11374148757144102,\n",
       " 'abertzale ver': -0.018809773225252246,\n",
       " 'abertzale vía': 0.09792500812723266,\n",
       " 'aberztale': -0.09875316874816567,\n",
       " 'aberztale segundar': -0.09875316874816567,\n",
       " 'abi': -0.03965271011670529,\n",
       " 'abi no': -0.0006100209557552461,\n",
       " 'abi saber': -0.039042689160950036,\n",
       " 'abia': -0.0421555479924869,\n",
       " 'abia moviles': -0.025843161190926302,\n",
       " 'abia ser': -0.016312386801560823,\n",
       " 'abidal': -0.08430197400724192,\n",
       " 'abidal aupar': -0.012508456922989332,\n",
       " 'abidal fabrice': -0.0014819104737626044,\n",
       " 'abidal partir': -0.009734399240118024,\n",
       " 'abidal pq': -0.017986017111062277,\n",
       " 'abidal salamanca': -0.013294468977039228,\n",
       " 'abidal someterse': -0.004738867158802756,\n",
       " 'abidal todo': -0.005445810140943654,\n",
       " 'abiertamente': 0.0690788437540227,\n",
       " 'abiertamente ellos': -0.13573980601062238,\n",
       " 'abiertamente izquieras': 0.13713846335125554,\n",
       " 'abiertamente pleno': 0.06768018641339114,\n",
       " 'abiertoconcurso': -0.016922768524374736,\n",
       " 'abiertoconcurso ideo': -0.016922768524374736,\n",
       " 'abiertola': 0.007273903143809952,\n",
       " 'abiertola reformar': 0.007273903143809952,\n",
       " 'abigail': -0.002719358527441784,\n",
       " 'abigail mejia': -0.0005711911525674101,\n",
       " 'abigail zaira': -0.0021481673748743584,\n",
       " 'abigarrar': -0.02745133774693691,\n",
       " 'abinader': -0.015544276204672167,\n",
       " 'abinader gobernar': -0.015544276204672167,\n",
       " 'abis': -0.04984220612505306,\n",
       " 'abis par': -0.04984220612505306,\n",
       " 'abismal': 0.23078113436440773,\n",
       " 'abismal abaratamiento': 0.010013264295174507,\n",
       " 'abismal conducta': 0.03134656369400036,\n",
       " 'abismal depender': 0.19765114387457688,\n",
       " 'abismar': -0.017891122685864284,\n",
       " 'abismar dimensionar': 0.056389805393157535,\n",
       " 'abismar do': 0.06035104740466343,\n",
       " 'abismar injusticia': 0.0015973696243299755,\n",
       " 'abismar politico': -0.07773551899886562,\n",
       " 'abismar populista': -0.028275999803280334,\n",
       " 'abismar recesión': -0.12397637940148531,\n",
       " 'abismar resolver': -0.047307481364669925,\n",
       " 'abismar solo': -0.0676130472665119,\n",
       " 'abismo': 0.31820753891013825,\n",
       " 'abismo mejor': 0.23348307239463573,\n",
       " 'abismo muy': 0.0847244665155049,\n",
       " 'abla': 0.020882335458559685,\n",
       " 'abla foster': -0.0006598144653045342,\n",
       " 'abla importancia': -0.02646605718207631,\n",
       " 'abla importar': 0.0111871017443165,\n",
       " 'abla recortar': 0.03682110536162404,\n",
       " 'ablaba': 0.0008139520719278187,\n",
       " 'ablaba si': 0.0008139520719278187,\n",
       " 'ablacion': -0.02781871066374314,\n",
       " 'ablación': 0.3763294119663203,\n",
       " 'ablación calcular': 0.05473602587476249,\n",
       " 'ablación genital': 0.042851282060173745,\n",
       " 'ablación grito': 0.1216734319695635,\n",
       " 'ablación hoy': -0.02781871066374314,\n",
       " 'ablación link': -0.01077645629634587,\n",
       " 'ablación pederastia': 0.07248465476708321,\n",
       " 'ablación prohibir': 0.12317918425482671,\n",
       " 'ablame': 0.12317918425482671,\n",
       " 'ablame creer': 0.12317918425482671,\n",
       " 'ablamos': -0.03735432778110729,\n",
       " 'ablamos arreglar': -0.00043632085248349127,\n",
       " 'ablamos emoji_pos': -0.0006198418147230357,\n",
       " 'ablamos isnstituciones': -0.03629816511390049,\n",
       " 'ablan': -0.22620848765894863,\n",
       " 'ablan mal': -0.026953876504070315,\n",
       " 'ablan victimar': -0.1992546111548759,\n",
       " 'ablandar': -0.1226900537527179,\n",
       " 'ablandar ir': -0.11644850531383058,\n",
       " 'ablandar rt': -0.006241548438887945,\n",
       " 'ablar': 0.007793013120755823,\n",
       " 'ablar abuelo': -0.00043957263861301945,\n",
       " 'ablar amigo': -0.00043957263861301945,\n",
       " 'ablar desbelarnos': 0.0033585895924702256,\n",
       " 'ablar mililagros': 0.004873996166898678,\n",
       " 'ablarian': -0.026953876504070315,\n",
       " 'ablarian muxo': -0.026953876504070315,\n",
       " 'ablará': -0.080217765878992,\n",
       " 'ablará esperar': -0.080217765878992,\n",
       " 'ablaze': -0.010614653919534485,\n",
       " 'ablaze grek': -0.010614653919534485,\n",
       " 'ablito': 0.07100235153769278,\n",
       " 'ablito emoji_pos': 0.07100235153769278,\n",
       " 'ablo': 0.01889582698848896,\n",
       " 'ablo no': 0.01889582698848896,\n",
       " 'ablo pibe': 0.01889582698848896,\n",
       " 'abnegaciónla': -0.05992896127288823,\n",
       " 'abnegaciónla iniciativo': -0.05992896127288823,\n",
       " 'abobar': -0.051362945881876586,\n",
       " 'abobar plantear': -0.051362945881876586,\n",
       " 'abocar': -0.03796946669563241,\n",
       " 'abocar elección': -0.03796946669563241,\n",
       " 'abogacía': -0.10905570318000267,\n",
       " 'abogacía catedrático': -0.007833115390491786,\n",
       " 'abogacía cre': -0.09984754716178769,\n",
       " 'abogacía premiar': -0.0013750406277230052,\n",
       " 'abogadoportvz': 0.04261662041126614,\n",
       " 'abogadoportvz no': 0.04261662041126614,\n",
       " 'abogadoprocurador': -0.07277021473250474,\n",
       " 'abogadoprocurador ni': -0.07277021473250474,\n",
       " 'abogar': 0.35343450288529427,\n",
       " 'abogar acercamiento': -0.12005551102805644,\n",
       " 'abogar acusar': -0.09418352516158018,\n",
       " 'abogar atochar': -0.14185998166185443,\n",
       " 'abogar avisar': 0.03796807325027996,\n",
       " 'abogar católico': -0.02608159160812619,\n",
       " 'abogar chino': -0.09954634406857885,\n",
       " 'abogar correar': 0.056987008209333626,\n",
       " 'abogar corrupto': 0.03730896663728,\n",
       " 'abogar crespo': -0.006089034471720533,\n",
       " 'abogar cádiz': -0.06402071929310948,\n",
       " 'abogar dar': 0.0696399067717295,\n",
       " 'abogar decir': 0.11548595116833564,\n",
       " 'abogar defensor': -0.14862628565479516,\n",
       " 'abogar denunciar': 0.04175773331654256,\n",
       " 'abogar derecho': 0.07629072702741536,\n",
       " 'abogar diálogo': -0.04201927961322266,\n",
       " 'abogar dorribo': -0.09934178139354514,\n",
       " 'abogar elevar': -0.03557033167782201,\n",
       " 'abogar emoji_pos': -0.00024350965313397625,\n",
       " 'abogar error': -0.05846293576475423,\n",
       " 'abogar español': -0.08951500714878506,\n",
       " 'abogar eta': 0.033305599712124184,\n",
       " 'abogar europeísta': -0.026162239504748157,\n",
       " 'abogar exdiputado': -0.010940577153436062,\n",
       " 'abogar garzon': 0.009705732540937005,\n",
       " 'abogar general': -0.018139084646916683,\n",
       " 'abogar gracia': -0.0005336069943943012,\n",
       " 'abogar gravísimo': 0.005683486933714662,\n",
       " 'abogar gürtel': 0.1511402387761355,\n",
       " 'abogar hablar': -0.16368857403080245,\n",
       " 'abogar hacer': -0.010488588922606469,\n",
       " 'abogar hash': -0.061262405418791126,\n",
       " 'abogar hoy': -0.07487123484694025,\n",
       " 'abogar indignar': 0.06941932691856834,\n",
       " 'abogar iñaki': -0.11560591727948362,\n",
       " 'abogar legalista': -0.005058068521498182,\n",
       " 'abogar litro': 0.02363455845417402,\n",
       " 'abogar llave': -0.02996608933671692,\n",
       " 'abogar llevar': 0.09336403633403877,\n",
       " 'abogar madrid': 0.01483254481249938,\n",
       " 'abogar mano': 0.127806524893228,\n",
       " 'abogar mejorar': -0.007023917121416888,\n",
       " 'abogar menc': 0.028437472665371083,\n",
       " 'abogar menos': -0.07284769582727782,\n",
       " 'abogar miedo': 0.0451685719652132,\n",
       " 'abogar millón': 0.06777962884481975,\n",
       " 'abogar médico': -0.059506547125347545,\n",
       " 'abogar no': -0.15709358158199213,\n",
       " 'abogar nuevo': -0.036992402113230315,\n",
       " 'abogar oficiar': 0.09759426325007386,\n",
       " 'abogar pamplonés': -0.04939722432626593,\n",
       " 'abogar poder': -0.05289896587728401,\n",
       " 'abogar poner': 0.07795562491130943,\n",
       " 'abogar presentar': -0.05927454800487917,\n",
       " 'abogar preso': 0.017910644450244366,\n",
       " 'abogar prisión': 0.06250892595596097,\n",
       " 'abogar procurador': -0.06413498582800797,\n",
       " 'abogar prohibir': 0.16611498491948995,\n",
       " 'abogar rajoy': 0.15722096744940858,\n",
       " 'abogar reducir': 0.08296463352943634,\n",
       " 'abogar reforzar': -0.017686781892381313,\n",
       " 'abogar repudiar': 0.11018770808864753,\n",
       " 'abogar sangrón': -0.00047066432706238974,\n",
       " 'abogar turnar': 0.03532382619065601,\n",
       " 'abogar urdangarin': 0.41579143139474084,\n",
       " 'abogar urdangarín': -0.009161135317542932,\n",
       " 'abogar vía': -0.012616389935572523,\n",
       " 'abolicion': -0.05622679228340796,\n",
       " 'abolicion link': -0.05622679228340796,\n",
       " 'abolición': -0.06709802266049388,\n",
       " 'abolición dinero': -0.045334656782460465,\n",
       " 'abolición esclavitud': 0.032115416678394834,\n",
       " 'abolición prostitución': -0.01173062933586455,\n",
       " 'abolir': -0.01190522616939536,\n",
       " 'abolir constitución': 0.054534079409064726,\n",
       " 'abolir matrimoniar': -0.033108989736400044,\n",
       " 'abolir tratar': -0.03333031584205986,\n",
       " 'abolishing': 0.11767895870691543,\n",
       " 'abolishing censorship': 0.11767895870691543,\n",
       " 'abomb': -0.04379505757935048,\n",
       " 'abomb test': -0.04379505757935048,\n",
       " 'abonar': -0.006748522503548356,\n",
       " 'abonar amnistiar': 0.08372503754324617,\n",
       " 'abonar amo': -0.007924867450692975,\n",
       " 'abonar cuatro': 0.10829452855829791,\n",
       " 'abonar em': -0.0016197824775169966,\n",
       " 'abonar este': -0.009155202770516272,\n",
       " 'abonar facturar': 0.028437472665371083,\n",
       " 'abonar hacendar': 0.01590141466536384,\n",
       " 'abonar info': -0.008012966277629744,\n",
       " 'abonar iva': -0.12033523395065635,\n",
       " 'abonar jajaja': -0.0038890973436208876,\n",
       " 'abonar mas': -0.0051555838314950265,\n",
       " 'abonar mañana': -0.0034090319805228325,\n",
       " 'abonar millón': -0.11732568260183035,\n",
       " 'abonar muy': -0.0008743845986162641,\n",
       " 'abonar orbyt': 0.09570515271325493,\n",
       " 'abonar orbytem': -0.008475415699165316,\n",
       " 'abonar orgánico': -0.03461239510196951,\n",
       " 'abonar polémico': -0.005589099606873172,\n",
       " 'abonar recordar': -0.009155202770516272,\n",
       " 'abonar soñar': -0.06019959924747232,\n",
       " 'abonar terminar': 0.012671775025940156,\n",
       " 'abonar terreno': -0.026444060805954427,\n",
       " 'abonar transportar': 0.0778274156099326,\n",
       " 'abonar órbyt': -0.0003870005350934628,\n",
       " 'abonarme': 0.1583743480531953,\n",
       " 'abonarme orbyt': -0.00027635091906713774,\n",
       " 'abonarse': 0.09755105404687842,\n",
       " 'abonarse orbyt': 0.09755105404687842,\n",
       " 'aborarhi': -0.003877858396029784,\n",
       " 'aborarhi gustar': -0.003877858396029784,\n",
       " 'abordaje': 0.2102010339245283,\n",
       " 'abordar': -0.1630888461372005,\n",
       " 'abordar asunto': -0.05041836164643783,\n",
       " 'abordar año': 0.07726375480195882,\n",
       " 'abordar bipartidismo': -0.022691943803519497,\n",
       " 'abordar consejo': 0.05585567328936611,\n",
       " 'abordar crisis': 0.0066376004055632406,\n",
       " 'abordar cáncer': -0.02499112025970281,\n",
       " 'abordar dañar': 0.14427691763044628,\n",
       " 'abordar discreción': 0.022104255896099552,\n",
       " 'abordar economía': -0.0219804519027681,\n",
       " 'abordar esencial': -0.08857220208520523,\n",
       " 'abordar estrategia': -0.0462958551903505,\n",
       " 'abordar final': -0.02161143871144124,\n",
       " 'abordar ilegalización': -0.029153217709851645,\n",
       " 'abordar importante': -0.013523615866138154,\n",
       " 'abordar link': -0.006274131857943421,\n",
       " 'abordar manera': -0.0642829282002751,\n",
       " 'abordar menc': -0.10385174229344904,\n",
       " 'abordar ni': -0.07436914389723889,\n",
       " 'abordar preguntar': -0.0686885737472121,\n",
       " 'abordar primero': -0.006340321426349927,\n",
       " 'abordar proyecto': -0.005455836415998328,\n",
       " 'abordar psoe': 0.03980108471268498,\n",
       " 'abordar rajoy': -0.022723180496151643,\n",
       " 'abordar reformar': -0.01217093305132086,\n",
       " 'abordar si': 0.20384003739166978,\n",
       " 'abordar temer': -0.011311048018064627,\n",
       " 'abordarla': -0.0334577755208954,\n",
       " 'abordarte': -0.025587844817705253,\n",
       " 'abordarte consecuencia': -0.025587844817705253,\n",
       " 'aborrecer': 0.04246710834155576,\n",
       " 'aborrecer ideo': 0.06757964508954831,\n",
       " 'aborrecer patrimonializan': -0.02530762572089671,\n",
       " 'aborrecer tu': 0.0007194296841715958,\n",
       " 'aborrecer uribin': -0.0005243407112678769,\n",
       " 'abort': -0.012693778109684138,\n",
       " 'abort mission': -0.012693778109684138,\n",
       " 'abortar': 0.260817997856924,\n",
       " 'abortar ahora': -0.016817471736447185,\n",
       " 'abortar anunciar': -0.059673296677889745,\n",
       " 'abortar apelar': 0.03911412888413729,\n",
       " 'abortar artículo': 0.11613318603342705,\n",
       " 'abortar aunq': -0.08569907220818543,\n",
       " 'abortar año': 0.021810542984115736,\n",
       " 'abortar bandera': -0.07903963920609709,\n",
       " 'abortar cadena': 0.017590429324032226,\n",
       " 'abortar coser': 0.07281615446917623,\n",
       " 'abortar dato': -0.04512428647768644,\n",
       " 'abortar debatir': 0.08930997350233354,\n",
       " 'abortar decisión': -0.11835357085299086,\n",
       " 'abortar defender': 0.19402698906796909,\n",
       " 'abortar derecho': -0.03854732980013348,\n",
       " 'abortar diputar': -0.007649862798419942,\n",
       " 'abortar educación': -0.012669574420045005,\n",
       " 'abortar esperar': 0.07226724446336415,\n",
       " 'abortar exigir': 0.03608520388848496,\n",
       " 'abortar fernando': 0.05843463669390056,\n",
       " 'abortar gallardon': -0.06025642708185028,\n",
       " 'abortar gallardón': -0.046617239340708834,\n",
       " 'abortar gestión': 0.008262084746174266,\n",
       " 'abortar gobernar': -0.10042900042438759,\n",
       " 'abortar hablar': -0.03528347187578858,\n",
       " 'abortar hash': 0.22429886257371914,\n",
       " 'abortar homosex': -0.05915052080016487,\n",
       " 'abortar investigación': 0.008949209713100906,\n",
       " 'abortar inyección': -0.09670173797081913,\n",
       " 'abortar ley': 0.0151700886271174,\n",
       " 'abortar leyenda': 0.013429996748266405,\n",
       " 'abortar liberar': 0.02713240019812684,\n",
       " 'abortar librar': 0.03583137552201633,\n",
       " 'abortar link': 0.1468666335933979,\n",
       " 'abortar menor': 0.040732707677900784,\n",
       " 'abortar misa': -0.1488543995845539,\n",
       " 'abortar monumento': 0.14263649308523768,\n",
       " 'abortar moral': 0.03870439311096258,\n",
       " 'abortar mujer': 0.07073164167475378,\n",
       " 'abortar nadie': 0.008959592632409521,\n",
       " 'abortar no': 0.17343753263119896,\n",
       " 'abortar parecer': -0.044147479796265134,\n",
       " 'abortar permiso': 0.04724230314132663,\n",
       " 'abortar pp': -0.03345303860835693,\n",
       " 'abortar pq': 0.0487028907034401,\n",
       " 'abortar primero': -0.04196837877436692,\n",
       " 'abortar prisión': -0.06463824562877007,\n",
       " 'abortar progresista': -0.0506537622432907,\n",
       " 'abortar prohibir': -0.03342307940350827,\n",
       " 'abortar psoe': 0.017436903589466788,\n",
       " 'abortar puesto': -0.07549791307847997,\n",
       " 'abortar rajoy': -0.09575242062959784,\n",
       " 'abortar reconocer': -0.050136735621153755,\n",
       " 'abortar reformar': 0.02553020186924775,\n",
       " 'abortar selectivo': 0.01837300830898801,\n",
       " 'abortar serio': 0.0466260746110373,\n",
       " 'abortar si': 0.005620183650811148,\n",
       " 'abortar sociología': -0.12247880588100286,\n",
       " 'abortar vigilar': 0.06881103067758534,\n",
       " 'abortar vivir': 0.02713240019812684,\n",
       " 'abortar volver': 0.11718392128947955,\n",
       " 'abortar vosotros': 0.04497193270408117,\n",
       " 'abortar yo': 0.09592073650315393,\n",
       " 'abortar él': 0.08595912112687276,\n",
       " 'abortar último': 0.10323220758278719,\n",
       " 'abortista': 0.12587084882863314,\n",
       " 'abortista asturias': 0.14737842184372804,\n",
       " 'abortista libertario': 0.06777839202188157,\n",
       " 'abortista unir': -0.08928596503697575,\n",
       " 'abortistass': 0.01995180990454657,\n",
       " 'aborto': 0.26720176348279867,\n",
       " 'aborto contestar': -0.03215727093883104,\n",
       " 'aborto link': 0.09551814945997258,\n",
       " 'aborto selectivo': 0.04932767720873285,\n",
       " 'aborto si': 0.007857181051334898,\n",
       " 'aborto subir': 0.0696671233164642,\n",
       " 'aborto tras': -0.06720131648405077,\n",
       " 'aborto ué': 0.14419021986917224,\n",
       " 'about': 0.13572528932044806,\n",
       " 'about eurbn': -0.01410418485498519,\n",
       " 'about it': -0.011208405410934482,\n",
       " 'about spain': 0.048197163639181195,\n",
       " 'about syria': 0.12119451201409549,\n",
       " 'about tan': -0.0003737619472791674,\n",
       " 'about to': -0.007980034119631331,\n",
       " 'abracho': -0.02183873753925599,\n",
       " 'abracho link': -0.02183873753925599,\n",
       " 'abraham': 0.21786333592343265,\n",
       " 'abraham emoji_pos': -0.00025718703234620593,\n",
       " 'abraham entrenador': -0.012884114958129382,\n",
       " 'abraham esperar': -0.000944795807381552,\n",
       " 'abraham estan': -0.01252897368581268,\n",
       " 'abraham guarro': -0.009786053045008153,\n",
       " 'abraham haim': -0.011415779170782762,\n",
       " 'abraham lincoln': 0.1584060871829227,\n",
       " 'abraham lindar': 0.29492020483767845,\n",
       " 'abraham link': -0.027926106664841507,\n",
       " 'abraham matear': 0.005910358246567677,\n",
       " 'abraham menc': -0.01479788998587832,\n",
       " 'abraham preso': -0.10625158057495514,\n",
       " 'abraham protagonista': -0.02093998688490143,\n",
       " 'abrahamer': 0.05138230943866621,\n",
       " 'abrahamer link': -0.00040298090956602194,\n",
       " 'abrahamer ni': 0.051785290348232094,\n",
       " 'abrahamers_unidas': -0.003028955128195972,\n",
       " 'abrahamers_unidas lt': -0.003028955128195972,\n",
       " 'abrahamlabrada': 0.09036342887906107,\n",
       " 'abrahamlabrada link': 0.09036342887906107,\n",
       " 'abraiante': -0.024125147310112654,\n",
       " 'abraiante areoso': -0.024125147310112654,\n",
       " 'abramovitch': 0.03091130104528608,\n",
       " 'abramovitch denunciar': 0.03091130104528608,\n",
       " 'abrams': -0.017252432470347318,\n",
       " 'abrams or': -0.017252432470347318,\n",
       " 'abraracúrcix': -0.07905113371498097,\n",
       " 'abraracúrcix aldea': -0.07905113371498097,\n",
       " 'abrasar': 0.003497237557259617,\n",
       " 'abrasar emoji_neg': 0.004128565377965375,\n",
       " 'abrasar hacer': -0.0004550816104627458,\n",
       " 'abrasar tierno': -0.00017624621024303104,\n",
       " 'abrasarla': 0.018454979760022056,\n",
       " 'abrasarla amp': 0.01670839175678019,\n",
       " 'abrasarla emoji_neg': 0.0017465880032418802,\n",
       " 'abrasivo': 0.0265985810354226,\n",
       " 'abrasivo preguntar': 0.0265985810354226,\n",
       " 'abraxos': -0.025809873673011113,\n",
       " 'abraxos compañero': -0.025809873673011113,\n",
       " 'abraz': -0.05363589135468944,\n",
       " 'abraz rt': -0.037811284180800486,\n",
       " 'abrazable': 0.002290528098642752,\n",
       " 'abrazable apapachable': 0.002290528098642752,\n",
       " 'abrazables': 0.0014941588014586072,\n",
       " 'abrazaco': 0.08158313912204931,\n",
       " 'abrazaco distar': 0.031639703301920334,\n",
       " 'abrazaco rubalcaba': 0.11742533412675842,\n",
       " 'abrazacos': -0.016137426170202647,\n",
       " 'abrazacossss': -0.005941084330514997,\n",
       " 'abrazacosssss': -0.0035986070713814014,\n",
       " 'abrazadita': 0.0006412443341471512,\n",
       " 'abrazadita injusticia': 0.0006412443341471512,\n",
       " 'abrazadosfrente': -0.03586734653542873,\n",
       " 'abrazadosfrente cáncer': -0.03586734653542873,\n",
       " 'abrazame': 0.00327406307314348,\n",
       " 'abrazame belén': 0.00437208055490718,\n",
       " 'abrazame emoji_pos': -0.000301676560125523,\n",
       " 'abrazame jugar': -0.0007963409216381587,\n",
       " 'abrazandome': 0.0005974764668637387,\n",
       " 'abrazandome dormir': 0.0005974764668637387,\n",
       " 'abrazar': -0.3959355326927774,\n",
       " 'abrazar aberroncho': -0.005175031982142416,\n",
       " 'abrazar adelantar': -0.0010256070907666726,\n",
       " 'abrazar afectar': -0.04153877706383598,\n",
       " 'abrazar agarrar': 0.0006146207878472354,\n",
       " 'abrazar ah': -0.0036887218807395194,\n",
       " 'abrazar alberto': -0.0005371801365846144,\n",
       " 'abrazar allense': -0.0002180881033374783,\n",
       " 'abrazar allá': -0.010591378763063876,\n",
       " 'abrazar almohada': 0.0025305372679660606,\n",
       " 'abrazar ambos': -0.0025596441009546546,\n",
       " 'abrazar amigar': -0.026892269894562483,\n",
       " 'abrazar amigo': -0.036522689427015864,\n",
       " 'abrazar amor': -0.0026919918479322213,\n",
       " 'abrazar animar': -0.004317615543292942,\n",
       " 'abrazar aquí': -0.0009104616253585629,\n",
       " 'abrazar argentina': -0.004893506808498876,\n",
       " 'abrazar arjoniano': -0.00019749529045047553,\n",
       " 'abrazar asesinar': -0.06648811387578236,\n",
       " 'abrazar asi': 0.03380306887896011,\n",
       " 'abrazar asir': -0.022081994278474324,\n",
       " 'abrazar atril': -0.04916336800507698,\n",
       " 'abrazar aun': -0.0002470575201272167,\n",
       " 'abrazar ayer': -0.00021371401226185133,\n",
       " 'abrazar barna': -0.00038562246786737084,\n",
       " 'abrazar bb': -0.0003450818679643758,\n",
       " 'abrazar bendición': -0.0024658558687535546,\n",
       " 'abrazar besar': -0.0012702619201244844,\n",
       " 'abrazar beso': -0.0005611909787442039,\n",
       " 'abrazar besote': 0.1763318620795135,\n",
       " 'abrazar besándose': 0.1229175454507488,\n",
       " 'abrazar bienvenido': -0.00030630830279496226,\n",
       " 'abrazar brad': 0.024868466366026628,\n",
       " 'abrazar bucaramanga': -0.001513908867613821,\n",
       " 'abrazar bueno': -0.02408626500235087,\n",
       " 'abrazar buss': -0.08254938077489182,\n",
       " 'abrazar cable': -0.003450054468688389,\n",
       " 'abrazar caja': 0.000993834315977146,\n",
       " 'abrazar cama': -0.00029283094994374904,\n",
       " 'abrazar camarada': -0.00017673237210001855,\n",
       " 'abrazar canario': -0.0001935402137088295,\n",
       " 'abrazar cariño': -0.000541048382590993,\n",
       " 'abrazar cd': -0.0019602139380597754,\n",
       " 'abrazar chacón': -0.04411907803557677,\n",
       " 'abrazar chico': 0.009122016131651119,\n",
       " 'abrazar chillao': -0.005551350105853793,\n",
       " 'abrazar colega': 0.10249081520094637,\n",
       " 'abrazar compañero': -0.2104196375057142,\n",
       " 'abrazar compis': -0.0034099949938937732,\n",
       " 'abrazar coni': 0.12764742736887794,\n",
       " 'abrazar contestar': -0.0028633588984204802,\n",
       " 'abrazar corazon': -0.02424382165704588,\n",
       " 'abrazar coseno': -0.031451074746219505,\n",
       " 'abrazar costa': -0.0005156956209027994,\n",
       " 'abrazar crack': -0.0023214732077927367,\n",
       " 'abrazar crackgracias': -0.0003437022562851884,\n",
       " 'abrazar cuidate': -0.00029855504208535814,\n",
       " 'abrazar cumpleaños': -0.00024363488529346249,\n",
       " 'abrazar curios': -0.003058726771022213,\n",
       " 'abrazar cuídate': -0.054378380020628336,\n",
       " 'abrazar daniel': -0.0002671109201624428,\n",
       " 'abrazar dar': -0.00030375308538985955,\n",
       " 'abrazar david': -0.0044678773161774665,\n",
       " 'abrazar decir': 0.001823668994934945,\n",
       " 'abrazar desconectar': -0.016129367829441695,\n",
       " 'abrazar desd': -0.0007196871175471181,\n",
       " 'abrazar despedirse': 0.0016327006675366752,\n",
       " 'abrazar después': 0.001760354058357072,\n",
       " 'abrazar dios': -0.0009062608045845483,\n",
       " 'abrazar director': -0.01927119104223188,\n",
       " 'abrazar do': -0.007812690746269044,\n",
       " 'abrazar dormir': 0.0021513547273388535,\n",
       " 'abrazar dtb': -0.00021485580571924714,\n",
       " 'abrazar dulcemente': -0.04595212388516208,\n",
       " 'abrazar eh': -0.0003875616069508972,\n",
       " 'abrazar emoji_na': -0.0032723862377062028,\n",
       " 'abrazar emoji_neg': 0.022741849180498427,\n",
       " 'abrazar emoji_pos': 0.489182690772657,\n",
       " 'abrazar enorme': 0.025415963339484208,\n",
       " 'abrazar enorrrrme': -0.03197991938325109,\n",
       " 'abrazar especial': -0.0028962404115156076,\n",
       " 'abrazar esperanzar': -0.021740922475712913,\n",
       " 'abrazar esteban': -0.007215331975243691,\n",
       " 'abrazar estès': -0.00020197149643363648,\n",
       " 'abrazar ex': 0.18251964871452916,\n",
       " 'abrazar excelente': -0.0629579100626225,\n",
       " 'abrazar exclusas': -0.018481787846778536,\n",
       " 'abrazar familia': 0.2511229642982906,\n",
       " 'abrazar feliz': -0.0059773350742646095,\n",
       " 'abrazar formosa': -0.00019465750520910742,\n",
       " 'abrazar forta': -0.00019445715160087583,\n",
       " 'abrazar francina': -0.0011860955695317593,\n",
       " 'abrazar fraterno': -0.005652708545266455,\n",
       " 'abrazar fuerte': -0.03537178746735236,\n",
       " 'abrazar fuerteabrazos': -0.0007031012377065101,\n",
       " 'abrazar gente': -0.010501033814953353,\n",
       " 'abrazar gigante': -0.0006215487432026111,\n",
       " 'abrazar gol': -0.0006836967568667557,\n",
       " 'abrazar gorka': -0.06746377387383261,\n",
       " 'abrazar gracia': -0.030112312295241958,\n",
       " 'abrazar gran': -0.004923014343413787,\n",
       " 'abrazar grande': 0.03535015251350203,\n",
       " 'abrazar grandespecialmente': -0.0020621123305922516,\n",
       " 'abrazar grupal': 0.023467537320545403,\n",
       " 'abrazar habeis': -0.0010380388144390945,\n",
       " 'abrazar hacer': -0.002147349314288614,\n",
       " 'abrazar hash': -0.05630489999185816,\n",
       " 'abrazar hermanar': -0.001546037273759229,\n",
       " 'abrazar hermano': -0.005676305297504309,\n",
       " 'abrazar hermoso': -0.0004531079309625916,\n",
       " 'abrazar homosexual': -0.005905275830667676,\n",
       " 'abrazar hoy': 0.154575795933254,\n",
       " 'abrazar héctor': -0.0006587209673228133,\n",
       " 'abrazar inmenso': -0.002748481395826679,\n",
       " 'abrazar ir': -0.01675160465037837,\n",
       " 'abrazar jaja': -0.0011559163783045221,\n",
       " 'abrazar jueves': -0.015105143873768746,\n",
       " 'abrazar julio': -0.0015137255380149749,\n",
       " 'abrazar landiano': -0.01715871510528418,\n",
       " 'abrazar link': -0.03400104482119833,\n",
       " 'abrazar llorar': -0.00025324887869352807,\n",
       " 'abrazar lou': -0.00023137457062702996,\n",
       " 'abrazar louis': 0.005092048591235069,\n",
       " 'abrazar lt': -0.00027842274414834213,\n",
       " 'abrazar luchar': -0.008617929314441424,\n",
       " 'abrazar luego': -0.02317891330117755,\n",
       " 'abrazar madre': -0.05419255609020129,\n",
       " 'abrazar madrid': -0.000570405531018779,\n",
       " 'abrazar maestro': -0.0012700454940704148,\n",
       " ...}"
      ]
     },
     "execution_count": 318,
     "metadata": {},
     "output_type": "execute_result"
    }
   ],
   "source": [
    "feature_to_coef"
   ]
  },
  {
   "cell_type": "code",
   "execution_count": 321,
   "metadata": {},
   "outputs": [
    {
     "name": "stdout",
     "output_type": "stream",
     "text": [
      "('emoji_neg', 4.497252722081106)\n",
      "('déficit', 2.0392665121495828)\n",
      "('triste', 1.8634885448424165)\n",
      "('peor', 1.8458940649578657)\n",
      "('mentira', 1.6447883530714629)\n",
      "('eta', 1.5289000926760747)\n",
      "('denunciar', 1.517746969863973)\n",
      "('malo', 1.5087614996951775)\n",
      "('muerto', 1.4930003386102562)\n",
      "('atacar', 1.4642271219557927)\n",
      "################################\n",
      "('emoji_pos', -2.444537239235689)\n",
      "('no perder', -1.4024234375462785)\n",
      "('enhorabuena', -1.1355495617281453)\n",
      "('homenaje', -1.125102113093568)\n",
      "('no dormir', -1.0921525107389254)\n",
      "('página', -1.0709261027076389)\n",
      "('feliz', -1.0292421792503832)\n",
      "('beso', -1.0230462745946853)\n",
      "('encantar', -0.9805996014639831)\n",
      "('gracia', -0.9776196398407389)\n"
     ]
    }
   ],
   "source": [
    "# Montamos un diccionario con palabra -> coeficiente\n",
    "feature_to_coef = {\n",
    "    word: coef for word, coef in zip(\n",
    "        baseline_vectorizer.get_feature_names(), lr_cv_grid.best_estimator_.coef_[0]\n",
    "    )\n",
    "}\n",
    "\n",
    "# Coge las features que más aportan a los positivos y negativos\n",
    "\n",
    "for best_positive in sorted(feature_to_coef.items(),\n",
    "                            key=lambda x: x[1],\n",
    "                            reverse=True)[:10]:\n",
    "    print(best_positive)\n",
    "    \n",
    "print('################################')\n",
    "\n",
    "for best_negative in sorted(feature_to_coef.items(),\n",
    "                            key=lambda x: x[1])[:10]:\n",
    "    print(best_negative)"
   ]
  },
  {
   "cell_type": "code",
   "execution_count": 809,
   "metadata": {},
   "outputs": [
    {
     "data": {
      "text/html": [
       "\n",
       "    <style>\n",
       "    table.eli5-weights tr:hover {\n",
       "        filter: brightness(85%);\n",
       "    }\n",
       "</style>\n",
       "\n",
       "\n",
       "\n",
       "    \n",
       "\n",
       "    \n",
       "\n",
       "    \n",
       "\n",
       "    \n",
       "\n",
       "    \n",
       "\n",
       "    \n",
       "\n",
       "\n",
       "    \n",
       "\n",
       "    \n",
       "\n",
       "    \n",
       "\n",
       "    \n",
       "        \n",
       "\n",
       "    \n",
       "\n",
       "        \n",
       "            \n",
       "                \n",
       "                \n",
       "    \n",
       "        <p style=\"margin-bottom: 0.5em; margin-top: 0em\">\n",
       "            <b>\n",
       "    \n",
       "        y=-1\n",
       "    \n",
       "</b>\n",
       "\n",
       "top features\n",
       "        </p>\n",
       "    \n",
       "    <table class=\"eli5-weights\"\n",
       "           style=\"border-collapse: collapse; border: none; margin-top: 0em; table-layout: auto; margin-bottom: 2em;\">\n",
       "        <thead>\n",
       "        <tr style=\"border: none;\">\n",
       "            \n",
       "                <th style=\"padding: 0 1em 0 0.5em; text-align: right; border: none;\" title=\"Feature weights. Note that weights do not account for feature value scales, so if feature values have different scales, features with highest weights might not be the most important.\">\n",
       "                    Weight<sup>?</sup>\n",
       "                </th>\n",
       "            \n",
       "            <th style=\"padding: 0 0.5em 0 0.5em; text-align: left; border: none;\">Feature</th>\n",
       "            \n",
       "        </tr>\n",
       "        </thead>\n",
       "        <tbody>\n",
       "        \n",
       "            <tr style=\"background-color: hsl(120, 100.00%, 80.00%); border: none;\">\n",
       "    <td style=\"padding: 0 1em 0 0.5em; text-align: right; border: none;\">\n",
       "        +3.135\n",
       "    </td>\n",
       "    <td style=\"padding: 0 0.5em 0 0.5em; text-align: left; border: none;\">\n",
       "        emoji_neg\n",
       "    </td>\n",
       "    \n",
       "</tr>\n",
       "        \n",
       "            <tr style=\"background-color: hsl(120, 100.00%, 85.41%); border: none;\">\n",
       "    <td style=\"padding: 0 1em 0 0.5em; text-align: right; border: none;\">\n",
       "        +1.997\n",
       "    </td>\n",
       "    <td style=\"padding: 0 0.5em 0 0.5em; text-align: left; border: none;\">\n",
       "        horrible\n",
       "    </td>\n",
       "    \n",
       "</tr>\n",
       "        \n",
       "            <tr style=\"background-color: hsl(120, 100.00%, 86.62%); border: none;\">\n",
       "    <td style=\"padding: 0 1em 0 0.5em; text-align: right; border: none;\">\n",
       "        +1.766\n",
       "    </td>\n",
       "    <td style=\"padding: 0 0.5em 0 0.5em; text-align: left; border: none;\">\n",
       "        miserable\n",
       "    </td>\n",
       "    \n",
       "</tr>\n",
       "        \n",
       "            <tr style=\"background-color: hsl(120, 100.00%, 86.75%); border: none;\">\n",
       "    <td style=\"padding: 0 1em 0 0.5em; text-align: right; border: none;\">\n",
       "        +1.741\n",
       "    </td>\n",
       "    <td style=\"padding: 0 0.5em 0 0.5em; text-align: left; border: none;\">\n",
       "        déficit\n",
       "    </td>\n",
       "    \n",
       "</tr>\n",
       "        \n",
       "            <tr style=\"background-color: hsl(120, 100.00%, 86.91%); border: none;\">\n",
       "    <td style=\"padding: 0 1em 0 0.5em; text-align: right; border: none;\">\n",
       "        +1.710\n",
       "    </td>\n",
       "    <td style=\"padding: 0 0.5em 0 0.5em; text-align: left; border: none;\">\n",
       "        ridículo\n",
       "    </td>\n",
       "    \n",
       "</tr>\n",
       "        \n",
       "            <tr style=\"background-color: hsl(120, 100.00%, 87.17%); border: none;\">\n",
       "    <td style=\"padding: 0 1em 0 0.5em; text-align: right; border: none;\">\n",
       "        +1.663\n",
       "    </td>\n",
       "    <td style=\"padding: 0 0.5em 0 0.5em; text-align: left; border: none;\">\n",
       "        vergüenza\n",
       "    </td>\n",
       "    \n",
       "</tr>\n",
       "        \n",
       "            <tr style=\"background-color: hsl(120, 100.00%, 87.24%); border: none;\">\n",
       "    <td style=\"padding: 0 1em 0 0.5em; text-align: right; border: none;\">\n",
       "        +1.649\n",
       "    </td>\n",
       "    <td style=\"padding: 0 0.5em 0 0.5em; text-align: left; border: none;\">\n",
       "        lamentable\n",
       "    </td>\n",
       "    \n",
       "</tr>\n",
       "        \n",
       "            <tr style=\"background-color: hsl(120, 100.00%, 87.48%); border: none;\">\n",
       "    <td style=\"padding: 0 1em 0 0.5em; text-align: right; border: none;\">\n",
       "        +1.605\n",
       "    </td>\n",
       "    <td style=\"padding: 0 0.5em 0 0.5em; text-align: left; border: none;\">\n",
       "        cola fuerte\n",
       "    </td>\n",
       "    \n",
       "</tr>\n",
       "        \n",
       "            <tr style=\"background-color: hsl(120, 100.00%, 87.71%); border: none;\">\n",
       "    <td style=\"padding: 0 1em 0 0.5em; text-align: right; border: none;\">\n",
       "        +1.563\n",
       "    </td>\n",
       "    <td style=\"padding: 0 0.5em 0 0.5em; text-align: left; border: none;\">\n",
       "        terrible\n",
       "    </td>\n",
       "    \n",
       "</tr>\n",
       "        \n",
       "            <tr style=\"background-color: hsl(120, 100.00%, 87.93%); border: none;\">\n",
       "    <td style=\"padding: 0 1em 0 0.5em; text-align: right; border: none;\">\n",
       "        +1.525\n",
       "    </td>\n",
       "    <td style=\"padding: 0 0.5em 0 0.5em; text-align: left; border: none;\">\n",
       "        inútil\n",
       "    </td>\n",
       "    \n",
       "</tr>\n",
       "        \n",
       "            <tr style=\"background-color: hsl(120, 100.00%, 88.16%); border: none;\">\n",
       "    <td style=\"padding: 0 1em 0 0.5em; text-align: right; border: none;\">\n",
       "        +1.483\n",
       "    </td>\n",
       "    <td style=\"padding: 0 0.5em 0 0.5em; text-align: left; border: none;\">\n",
       "        triste\n",
       "    </td>\n",
       "    \n",
       "</tr>\n",
       "        \n",
       "            <tr style=\"background-color: hsl(120, 100.00%, 88.20%); border: none;\">\n",
       "    <td style=\"padding: 0 1em 0 0.5em; text-align: right; border: none;\">\n",
       "        +1.476\n",
       "    </td>\n",
       "    <td style=\"padding: 0 0.5em 0 0.5em; text-align: left; border: none;\">\n",
       "        muerto\n",
       "    </td>\n",
       "    \n",
       "</tr>\n",
       "        \n",
       "            <tr style=\"background-color: hsl(120, 100.00%, 88.38%); border: none;\">\n",
       "    <td style=\"padding: 0 1em 0 0.5em; text-align: right; border: none;\">\n",
       "        +1.443\n",
       "    </td>\n",
       "    <td style=\"padding: 0 0.5em 0 0.5em; text-align: left; border: none;\">\n",
       "        no recomer\n",
       "    </td>\n",
       "    \n",
       "</tr>\n",
       "        \n",
       "            <tr style=\"background-color: hsl(120, 100.00%, 88.47%); border: none;\">\n",
       "    <td style=\"padding: 0 1em 0 0.5em; text-align: right; border: none;\">\n",
       "        +1.428\n",
       "    </td>\n",
       "    <td style=\"padding: 0 0.5em 0 0.5em; text-align: left; border: none;\">\n",
       "        suspender\n",
       "    </td>\n",
       "    \n",
       "</tr>\n",
       "        \n",
       "            <tr style=\"background-color: hsl(120, 100.00%, 88.51%); border: none;\">\n",
       "    <td style=\"padding: 0 1em 0 0.5em; text-align: right; border: none;\">\n",
       "        +1.421\n",
       "    </td>\n",
       "    <td style=\"padding: 0 0.5em 0 0.5em; text-align: left; border: none;\">\n",
       "        no cumplir\n",
       "    </td>\n",
       "    \n",
       "</tr>\n",
       "        \n",
       "        \n",
       "            <tr style=\"background-color: hsl(120, 100.00%, 88.51%); border: none;\">\n",
       "                <td colspan=\"2\" style=\"padding: 0 0.5em 0 0.5em; text-align: center; border: none; white-space: nowrap;\">\n",
       "                    <i>&hellip; 339396 more positive &hellip;</i>\n",
       "                </td>\n",
       "            </tr>\n",
       "        \n",
       "\n",
       "        \n",
       "            <tr style=\"background-color: hsl(0, 100.00%, 88.44%); border: none;\">\n",
       "                <td colspan=\"2\" style=\"padding: 0 0.5em 0 0.5em; text-align: center; border: none; white-space: nowrap;\">\n",
       "                    <i>&hellip; 589081 more negative &hellip;</i>\n",
       "                </td>\n",
       "            </tr>\n",
       "        \n",
       "        \n",
       "            <tr style=\"background-color: hsl(0, 100.00%, 88.44%); border: none;\">\n",
       "    <td style=\"padding: 0 1em 0 0.5em; text-align: right; border: none;\">\n",
       "        -1.433\n",
       "    </td>\n",
       "    <td style=\"padding: 0 0.5em 0 0.5em; text-align: left; border: none;\">\n",
       "        nadar mal\n",
       "    </td>\n",
       "    \n",
       "</tr>\n",
       "        \n",
       "            <tr style=\"background-color: hsl(0, 100.00%, 88.41%); border: none;\">\n",
       "    <td style=\"padding: 0 1em 0 0.5em; text-align: right; border: none;\">\n",
       "        -1.439\n",
       "    </td>\n",
       "    <td style=\"padding: 0 0.5em 0 0.5em; text-align: left; border: none;\">\n",
       "        lado mal\n",
       "    </td>\n",
       "    \n",
       "</tr>\n",
       "        \n",
       "            <tr style=\"background-color: hsl(0, 100.00%, 88.10%); border: none;\">\n",
       "    <td style=\"padding: 0 1em 0 0.5em; text-align: right; border: none;\">\n",
       "        -1.492\n",
       "    </td>\n",
       "    <td style=\"padding: 0 0.5em 0 0.5em; text-align: left; border: none;\">\n",
       "        no perder\n",
       "    </td>\n",
       "    \n",
       "</tr>\n",
       "        \n",
       "            <tr style=\"background-color: hsl(0, 100.00%, 87.81%); border: none;\">\n",
       "    <td style=\"padding: 0 1em 0 0.5em; text-align: right; border: none;\">\n",
       "        -1.545\n",
       "    </td>\n",
       "    <td style=\"padding: 0 0.5em 0 0.5em; text-align: left; border: none;\">\n",
       "        emoji_pos\n",
       "    </td>\n",
       "    \n",
       "</tr>\n",
       "        \n",
       "            <tr style=\"background-color: hsl(0, 100.00%, 86.92%); border: none;\">\n",
       "    <td style=\"padding: 0 1em 0 0.5em; text-align: right; border: none;\">\n",
       "        -1.709\n",
       "    </td>\n",
       "    <td style=\"padding: 0 0.5em 0 0.5em; text-align: left; border: none;\">\n",
       "        emoji_neg emoji_neg\n",
       "    </td>\n",
       "    \n",
       "</tr>\n",
       "        \n",
       "\n",
       "        </tbody>\n",
       "    </table>\n",
       "\n",
       "            \n",
       "        \n",
       "\n",
       "        \n",
       "\n",
       "\n",
       "\n",
       "    \n",
       "\n",
       "        \n",
       "            \n",
       "                \n",
       "                \n",
       "    \n",
       "        <p style=\"margin-bottom: 0.5em; margin-top: 0em\">\n",
       "            <b>\n",
       "    \n",
       "        y=0\n",
       "    \n",
       "</b>\n",
       "\n",
       "top features\n",
       "        </p>\n",
       "    \n",
       "    <table class=\"eli5-weights\"\n",
       "           style=\"border-collapse: collapse; border: none; margin-top: 0em; table-layout: auto; margin-bottom: 2em;\">\n",
       "        <thead>\n",
       "        <tr style=\"border: none;\">\n",
       "            \n",
       "                <th style=\"padding: 0 1em 0 0.5em; text-align: right; border: none;\" title=\"Feature weights. Note that weights do not account for feature value scales, so if feature values have different scales, features with highest weights might not be the most important.\">\n",
       "                    Weight<sup>?</sup>\n",
       "                </th>\n",
       "            \n",
       "            <th style=\"padding: 0 0.5em 0 0.5em; text-align: left; border: none;\">Feature</th>\n",
       "            \n",
       "        </tr>\n",
       "        </thead>\n",
       "        <tbody>\n",
       "        \n",
       "            <tr style=\"background-color: hsl(120, 100.00%, 87.10%); border: none;\">\n",
       "    <td style=\"padding: 0 1em 0 0.5em; text-align: right; border: none;\">\n",
       "        +1.676\n",
       "    </td>\n",
       "    <td style=\"padding: 0 0.5em 0 0.5em; text-align: left; border: none;\">\n",
       "        página\n",
       "    </td>\n",
       "    \n",
       "</tr>\n",
       "        \n",
       "            <tr style=\"background-color: hsl(120, 100.00%, 88.63%); border: none;\">\n",
       "    <td style=\"padding: 0 1em 0 0.5em; text-align: right; border: none;\">\n",
       "        +1.400\n",
       "    </td>\n",
       "    <td style=\"padding: 0 0.5em 0 0.5em; text-align: left; border: none;\">\n",
       "        link link\n",
       "    </td>\n",
       "    \n",
       "</tr>\n",
       "        \n",
       "            <tr style=\"background-color: hsl(120, 100.00%, 90.11%); border: none;\">\n",
       "    <td style=\"padding: 0 1em 0 0.5em; text-align: right; border: none;\">\n",
       "        +1.147\n",
       "    </td>\n",
       "    <td style=\"padding: 0 0.5em 0 0.5em; text-align: left; border: none;\">\n",
       "        pc\n",
       "    </td>\n",
       "    \n",
       "</tr>\n",
       "        \n",
       "            <tr style=\"background-color: hsl(120, 100.00%, 90.36%); border: none;\">\n",
       "    <td style=\"padding: 0 1em 0 0.5em; text-align: right; border: none;\">\n",
       "        +1.105\n",
       "    </td>\n",
       "    <td style=\"padding: 0 0.5em 0 0.5em; text-align: left; border: none;\">\n",
       "        seguridad apple\n",
       "    </td>\n",
       "    \n",
       "</tr>\n",
       "        \n",
       "            <tr style=\"background-color: hsl(120, 100.00%, 90.69%); border: none;\">\n",
       "    <td style=\"padding: 0 1em 0 0.5em; text-align: right; border: none;\">\n",
       "        +1.052\n",
       "    </td>\n",
       "    <td style=\"padding: 0 0.5em 0 0.5em; text-align: left; border: none;\">\n",
       "        normalizar\n",
       "    </td>\n",
       "    \n",
       "</tr>\n",
       "        \n",
       "            <tr style=\"background-color: hsl(120, 100.00%, 90.75%); border: none;\">\n",
       "    <td style=\"padding: 0 1em 0 0.5em; text-align: right; border: none;\">\n",
       "        +1.042\n",
       "    </td>\n",
       "    <td style=\"padding: 0 0.5em 0 0.5em; text-align: left; border: none;\">\n",
       "        uam\n",
       "    </td>\n",
       "    \n",
       "</tr>\n",
       "        \n",
       "            <tr style=\"background-color: hsl(120, 100.00%, 91.30%); border: none;\">\n",
       "    <td style=\"padding: 0 1em 0 0.5em; text-align: right; border: none;\">\n",
       "        +0.955\n",
       "    </td>\n",
       "    <td style=\"padding: 0 0.5em 0 0.5em; text-align: left; border: none;\">\n",
       "        galleta\n",
       "    </td>\n",
       "    \n",
       "</tr>\n",
       "        \n",
       "            <tr style=\"background-color: hsl(120, 100.00%, 91.33%); border: none;\">\n",
       "    <td style=\"padding: 0 1em 0 0.5em; text-align: right; border: none;\">\n",
       "        +0.950\n",
       "    </td>\n",
       "    <td style=\"padding: 0 0.5em 0 0.5em; text-align: left; border: none;\">\n",
       "        tres estrellar\n",
       "    </td>\n",
       "    \n",
       "</tr>\n",
       "        \n",
       "            <tr style=\"background-color: hsl(120, 100.00%, 91.40%); border: none;\">\n",
       "    <td style=\"padding: 0 1em 0 0.5em; text-align: right; border: none;\">\n",
       "        +0.939\n",
       "    </td>\n",
       "    <td style=\"padding: 0 0.5em 0 0.5em; text-align: left; border: none;\">\n",
       "        menc normal\n",
       "    </td>\n",
       "    \n",
       "</tr>\n",
       "        \n",
       "            <tr style=\"background-color: hsl(120, 100.00%, 91.60%); border: none;\">\n",
       "    <td style=\"padding: 0 1em 0 0.5em; text-align: right; border: none;\">\n",
       "        +0.908\n",
       "    </td>\n",
       "    <td style=\"padding: 0 0.5em 0 0.5em; text-align: left; border: none;\">\n",
       "        emoji_pos emoji_neg\n",
       "    </td>\n",
       "    \n",
       "</tr>\n",
       "        \n",
       "            <tr style=\"background-color: hsl(120, 100.00%, 91.68%); border: none;\">\n",
       "    <td style=\"padding: 0 1em 0 0.5em; text-align: right; border: none;\">\n",
       "        +0.896\n",
       "    </td>\n",
       "    <td style=\"padding: 0 0.5em 0 0.5em; text-align: left; border: none;\">\n",
       "        gameplay\n",
       "    </td>\n",
       "    \n",
       "</tr>\n",
       "        \n",
       "            <tr style=\"background-color: hsl(120, 100.00%, 91.84%); border: none;\">\n",
       "    <td style=\"padding: 0 1em 0 0.5em; text-align: right; border: none;\">\n",
       "        +0.871\n",
       "    </td>\n",
       "    <td style=\"padding: 0 0.5em 0 0.5em; text-align: left; border: none;\">\n",
       "        gt link\n",
       "    </td>\n",
       "    \n",
       "</tr>\n",
       "        \n",
       "            <tr style=\"background-color: hsl(120, 100.00%, 91.88%); border: none;\">\n",
       "    <td style=\"padding: 0 1em 0 0.5em; text-align: right; border: none;\">\n",
       "        +0.865\n",
       "    </td>\n",
       "    <td style=\"padding: 0 0.5em 0 0.5em; text-align: left; border: none;\">\n",
       "        emoji_neg emoji_pos\n",
       "    </td>\n",
       "    \n",
       "</tr>\n",
       "        \n",
       "            <tr style=\"background-color: hsl(120, 100.00%, 91.89%); border: none;\">\n",
       "    <td style=\"padding: 0 1em 0 0.5em; text-align: right; border: none;\">\n",
       "        +0.864\n",
       "    </td>\n",
       "    <td style=\"padding: 0 0.5em 0 0.5em; text-align: left; border: none;\">\n",
       "        pablocasado\n",
       "    </td>\n",
       "    \n",
       "</tr>\n",
       "        \n",
       "        \n",
       "            <tr style=\"background-color: hsl(120, 100.00%, 91.89%); border: none;\">\n",
       "                <td colspan=\"2\" style=\"padding: 0 0.5em 0 0.5em; text-align: center; border: none; white-space: nowrap;\">\n",
       "                    <i>&hellip; 330458 more positive &hellip;</i>\n",
       "                </td>\n",
       "            </tr>\n",
       "        \n",
       "\n",
       "        \n",
       "            <tr style=\"background-color: hsl(0, 100.00%, 91.94%); border: none;\">\n",
       "                <td colspan=\"2\" style=\"padding: 0 0.5em 0 0.5em; text-align: center; border: none; white-space: nowrap;\">\n",
       "                    <i>&hellip; 598019 more negative &hellip;</i>\n",
       "                </td>\n",
       "            </tr>\n",
       "        \n",
       "        \n",
       "            <tr style=\"background-color: hsl(0, 100.00%, 91.94%); border: none;\">\n",
       "    <td style=\"padding: 0 1em 0 0.5em; text-align: right; border: none;\">\n",
       "        -0.856\n",
       "    </td>\n",
       "    <td style=\"padding: 0 0.5em 0 0.5em; text-align: left; border: none;\">\n",
       "        top\n",
       "    </td>\n",
       "    \n",
       "</tr>\n",
       "        \n",
       "            <tr style=\"background-color: hsl(0, 100.00%, 91.92%); border: none;\">\n",
       "    <td style=\"padding: 0 1em 0 0.5em; text-align: right; border: none;\">\n",
       "        -0.858\n",
       "    </td>\n",
       "    <td style=\"padding: 0 0.5em 0 0.5em; text-align: left; border: none;\">\n",
       "        escándalo\n",
       "    </td>\n",
       "    \n",
       "</tr>\n",
       "        \n",
       "            <tr style=\"background-color: hsl(0, 100.00%, 91.89%); border: none;\">\n",
       "    <td style=\"padding: 0 1em 0 0.5em; text-align: right; border: none;\">\n",
       "        -0.863\n",
       "    </td>\n",
       "    <td style=\"padding: 0 0.5em 0 0.5em; text-align: left; border: none;\">\n",
       "        increíble\n",
       "    </td>\n",
       "    \n",
       "</tr>\n",
       "        \n",
       "            <tr style=\"background-color: hsl(0, 100.00%, 91.75%); border: none;\">\n",
       "    <td style=\"padding: 0 1em 0 0.5em; text-align: right; border: none;\">\n",
       "        -0.885\n",
       "    </td>\n",
       "    <td style=\"padding: 0 0.5em 0 0.5em; text-align: left; border: none;\">\n",
       "        miserable\n",
       "    </td>\n",
       "    \n",
       "</tr>\n",
       "        \n",
       "            <tr style=\"background-color: hsl(0, 100.00%, 91.38%); border: none;\">\n",
       "    <td style=\"padding: 0 1em 0 0.5em; text-align: right; border: none;\">\n",
       "        -0.943\n",
       "    </td>\n",
       "    <td style=\"padding: 0 0.5em 0 0.5em; text-align: left; border: none;\">\n",
       "        emoji_pos\n",
       "    </td>\n",
       "    \n",
       "</tr>\n",
       "        \n",
       "            <tr style=\"background-color: hsl(0, 100.00%, 88.52%); border: none;\">\n",
       "    <td style=\"padding: 0 1em 0 0.5em; text-align: right; border: none;\">\n",
       "        -1.419\n",
       "    </td>\n",
       "    <td style=\"padding: 0 0.5em 0 0.5em; text-align: left; border: none;\">\n",
       "        emoji_neg\n",
       "    </td>\n",
       "    \n",
       "</tr>\n",
       "        \n",
       "\n",
       "        </tbody>\n",
       "    </table>\n",
       "\n",
       "            \n",
       "        \n",
       "\n",
       "        \n",
       "\n",
       "\n",
       "\n",
       "    \n",
       "\n",
       "        \n",
       "            \n",
       "                \n",
       "                \n",
       "    \n",
       "        <p style=\"margin-bottom: 0.5em; margin-top: 0em\">\n",
       "            <b>\n",
       "    \n",
       "        y=1\n",
       "    \n",
       "</b>\n",
       "\n",
       "top features\n",
       "        </p>\n",
       "    \n",
       "    <table class=\"eli5-weights\"\n",
       "           style=\"border-collapse: collapse; border: none; margin-top: 0em; table-layout: auto; margin-bottom: 2em;\">\n",
       "        <thead>\n",
       "        <tr style=\"border: none;\">\n",
       "            \n",
       "                <th style=\"padding: 0 1em 0 0.5em; text-align: right; border: none;\" title=\"Feature weights. Note that weights do not account for feature value scales, so if feature values have different scales, features with highest weights might not be the most important.\">\n",
       "                    Weight<sup>?</sup>\n",
       "                </th>\n",
       "            \n",
       "            <th style=\"padding: 0 0.5em 0 0.5em; text-align: left; border: none;\">Feature</th>\n",
       "            \n",
       "        </tr>\n",
       "        </thead>\n",
       "        <tbody>\n",
       "        \n",
       "            <tr style=\"background-color: hsl(120, 100.00%, 82.99%); border: none;\">\n",
       "    <td style=\"padding: 0 1em 0 0.5em; text-align: right; border: none;\">\n",
       "        +2.488\n",
       "    </td>\n",
       "    <td style=\"padding: 0 0.5em 0 0.5em; text-align: left; border: none;\">\n",
       "        emoji_pos\n",
       "    </td>\n",
       "    \n",
       "</tr>\n",
       "        \n",
       "            <tr style=\"background-color: hsl(120, 100.00%, 85.41%); border: none;\">\n",
       "    <td style=\"padding: 0 1em 0 0.5em; text-align: right; border: none;\">\n",
       "        +1.998\n",
       "    </td>\n",
       "    <td style=\"padding: 0 0.5em 0 0.5em; text-align: left; border: none;\">\n",
       "        lado mal\n",
       "    </td>\n",
       "    \n",
       "</tr>\n",
       "        \n",
       "            <tr style=\"background-color: hsl(120, 100.00%, 86.09%); border: none;\">\n",
       "    <td style=\"padding: 0 1em 0 0.5em; text-align: right; border: none;\">\n",
       "        +1.866\n",
       "    </td>\n",
       "    <td style=\"padding: 0 0.5em 0 0.5em; text-align: left; border: none;\">\n",
       "        encantar\n",
       "    </td>\n",
       "    \n",
       "</tr>\n",
       "        \n",
       "            <tr style=\"background-color: hsl(120, 100.00%, 86.46%); border: none;\">\n",
       "    <td style=\"padding: 0 1em 0 0.5em; text-align: right; border: none;\">\n",
       "        +1.796\n",
       "    </td>\n",
       "    <td style=\"padding: 0 0.5em 0 0.5em; text-align: left; border: none;\">\n",
       "        hermoso\n",
       "    </td>\n",
       "    \n",
       "</tr>\n",
       "        \n",
       "            <tr style=\"background-color: hsl(120, 100.00%, 86.55%); border: none;\">\n",
       "    <td style=\"padding: 0 1em 0 0.5em; text-align: right; border: none;\">\n",
       "        +1.778\n",
       "    </td>\n",
       "    <td style=\"padding: 0 0.5em 0 0.5em; text-align: left; border: none;\">\n",
       "        excelente\n",
       "    </td>\n",
       "    \n",
       "</tr>\n",
       "        \n",
       "            <tr style=\"background-color: hsl(120, 100.00%, 86.64%); border: none;\">\n",
       "    <td style=\"padding: 0 1em 0 0.5em; text-align: right; border: none;\">\n",
       "        +1.761\n",
       "    </td>\n",
       "    <td style=\"padding: 0 0.5em 0 0.5em; text-align: left; border: none;\">\n",
       "        maravillar\n",
       "    </td>\n",
       "    \n",
       "</tr>\n",
       "        \n",
       "            <tr style=\"background-color: hsl(120, 100.00%, 86.65%); border: none;\">\n",
       "    <td style=\"padding: 0 1em 0 0.5em; text-align: right; border: none;\">\n",
       "        +1.759\n",
       "    </td>\n",
       "    <td style=\"padding: 0 0.5em 0 0.5em; text-align: left; border: none;\">\n",
       "        increíble\n",
       "    </td>\n",
       "    \n",
       "</tr>\n",
       "        \n",
       "            <tr style=\"background-color: hsl(120, 100.00%, 86.74%); border: none;\">\n",
       "    <td style=\"padding: 0 1em 0 0.5em; text-align: right; border: none;\">\n",
       "        +1.743\n",
       "    </td>\n",
       "    <td style=\"padding: 0 0.5em 0 0.5em; text-align: left; border: none;\">\n",
       "        maravilloso\n",
       "    </td>\n",
       "    \n",
       "</tr>\n",
       "        \n",
       "            <tr style=\"background-color: hsl(120, 100.00%, 87.35%); border: none;\">\n",
       "    <td style=\"padding: 0 1em 0 0.5em; text-align: right; border: none;\">\n",
       "        +1.629\n",
       "    </td>\n",
       "    <td style=\"padding: 0 0.5em 0 0.5em; text-align: left; border: none;\">\n",
       "        impresionante\n",
       "    </td>\n",
       "    \n",
       "</tr>\n",
       "        \n",
       "            <tr style=\"background-color: hsl(120, 100.00%, 87.37%); border: none;\">\n",
       "    <td style=\"padding: 0 1em 0 0.5em; text-align: right; border: none;\">\n",
       "        +1.626\n",
       "    </td>\n",
       "    <td style=\"padding: 0 0.5em 0 0.5em; text-align: left; border: none;\">\n",
       "        precioso\n",
       "    </td>\n",
       "    \n",
       "</tr>\n",
       "        \n",
       "            <tr style=\"background-color: hsl(120, 100.00%, 87.42%); border: none;\">\n",
       "    <td style=\"padding: 0 1em 0 0.5em; text-align: right; border: none;\">\n",
       "        +1.616\n",
       "    </td>\n",
       "    <td style=\"padding: 0 0.5em 0 0.5em; text-align: left; border: none;\">\n",
       "        espectacular\n",
       "    </td>\n",
       "    \n",
       "</tr>\n",
       "        \n",
       "            <tr style=\"background-color: hsl(120, 100.00%, 87.45%); border: none;\">\n",
       "    <td style=\"padding: 0 1em 0 0.5em; text-align: right; border: none;\">\n",
       "        +1.611\n",
       "    </td>\n",
       "    <td style=\"padding: 0 0.5em 0 0.5em; text-align: left; border: none;\">\n",
       "        top\n",
       "    </td>\n",
       "    \n",
       "</tr>\n",
       "        \n",
       "            <tr style=\"background-color: hsl(120, 100.00%, 87.62%); border: none;\">\n",
       "    <td style=\"padding: 0 1em 0 0.5em; text-align: right; border: none;\">\n",
       "        +1.580\n",
       "    </td>\n",
       "    <td style=\"padding: 0 0.5em 0 0.5em; text-align: left; border: none;\">\n",
       "        perfecto\n",
       "    </td>\n",
       "    \n",
       "</tr>\n",
       "        \n",
       "            <tr style=\"background-color: hsl(120, 100.00%, 87.74%); border: none;\">\n",
       "    <td style=\"padding: 0 1em 0 0.5em; text-align: right; border: none;\">\n",
       "        +1.558\n",
       "    </td>\n",
       "    <td style=\"padding: 0 0.5em 0 0.5em; text-align: left; border: none;\">\n",
       "        felicidad\n",
       "    </td>\n",
       "    \n",
       "</tr>\n",
       "        \n",
       "            <tr style=\"background-color: hsl(120, 100.00%, 87.84%); border: none;\">\n",
       "    <td style=\"padding: 0 1em 0 0.5em; text-align: right; border: none;\">\n",
       "        +1.539\n",
       "    </td>\n",
       "    <td style=\"padding: 0 0.5em 0 0.5em; text-align: left; border: none;\">\n",
       "        enhorabuena\n",
       "    </td>\n",
       "    \n",
       "</tr>\n",
       "        \n",
       "            <tr style=\"background-color: hsl(120, 100.00%, 87.91%); border: none;\">\n",
       "    <td style=\"padding: 0 1em 0 0.5em; text-align: right; border: none;\">\n",
       "        +1.527\n",
       "    </td>\n",
       "    <td style=\"padding: 0 0.5em 0 0.5em; text-align: left; border: none;\">\n",
       "        estupendo\n",
       "    </td>\n",
       "    \n",
       "</tr>\n",
       "        \n",
       "            <tr style=\"background-color: hsl(120, 100.00%, 88.12%); border: none;\">\n",
       "    <td style=\"padding: 0 1em 0 0.5em; text-align: right; border: none;\">\n",
       "        +1.489\n",
       "    </td>\n",
       "    <td style=\"padding: 0 0.5em 0 0.5em; text-align: left; border: none;\">\n",
       "        homenaje\n",
       "    </td>\n",
       "    \n",
       "</tr>\n",
       "        \n",
       "            <tr style=\"background-color: hsl(120, 100.00%, 88.30%); border: none;\">\n",
       "    <td style=\"padding: 0 1em 0 0.5em; text-align: right; border: none;\">\n",
       "        +1.458\n",
       "    </td>\n",
       "    <td style=\"padding: 0 0.5em 0 0.5em; text-align: left; border: none;\">\n",
       "        gran\n",
       "    </td>\n",
       "    \n",
       "</tr>\n",
       "        \n",
       "            <tr style=\"background-color: hsl(120, 100.00%, 88.35%); border: none;\">\n",
       "    <td style=\"padding: 0 1em 0 0.5em; text-align: right; border: none;\">\n",
       "        +1.449\n",
       "    </td>\n",
       "    <td style=\"padding: 0 0.5em 0 0.5em; text-align: left; border: none;\">\n",
       "        orgulloso\n",
       "    </td>\n",
       "    \n",
       "</tr>\n",
       "        \n",
       "        \n",
       "            <tr style=\"background-color: hsl(120, 100.00%, 88.35%); border: none;\">\n",
       "                <td colspan=\"2\" style=\"padding: 0 0.5em 0 0.5em; text-align: center; border: none; white-space: nowrap;\">\n",
       "                    <i>&hellip; 310194 more positive &hellip;</i>\n",
       "                </td>\n",
       "            </tr>\n",
       "        \n",
       "\n",
       "        \n",
       "            <tr style=\"background-color: hsl(0, 100.00%, 86.88%); border: none;\">\n",
       "                <td colspan=\"2\" style=\"padding: 0 0.5em 0 0.5em; text-align: center; border: none; white-space: nowrap;\">\n",
       "                    <i>&hellip; 618283 more negative &hellip;</i>\n",
       "                </td>\n",
       "            </tr>\n",
       "        \n",
       "        \n",
       "            <tr style=\"background-color: hsl(0, 100.00%, 86.88%); border: none;\">\n",
       "    <td style=\"padding: 0 1em 0 0.5em; text-align: right; border: none;\">\n",
       "        -1.716\n",
       "    </td>\n",
       "    <td style=\"padding: 0 0.5em 0 0.5em; text-align: left; border: none;\">\n",
       "        emoji_neg\n",
       "    </td>\n",
       "    \n",
       "</tr>\n",
       "        \n",
       "\n",
       "        </tbody>\n",
       "    </table>\n",
       "\n",
       "            \n",
       "        \n",
       "\n",
       "        \n",
       "\n",
       "\n",
       "\n",
       "    \n",
       "\n",
       "    \n",
       "\n",
       "    \n",
       "\n",
       "    \n",
       "\n",
       "\n",
       "    \n",
       "\n",
       "    \n",
       "\n",
       "    \n",
       "\n",
       "    \n",
       "\n",
       "    \n",
       "\n",
       "    \n",
       "\n",
       "\n",
       "    \n",
       "\n",
       "    \n",
       "\n",
       "    \n",
       "\n",
       "    \n",
       "\n",
       "    \n",
       "\n",
       "    \n",
       "\n",
       "\n",
       "\n"
      ],
      "text/plain": [
       "<IPython.core.display.HTML object>"
      ]
     },
     "execution_count": 809,
     "metadata": {},
     "output_type": "execute_result"
    }
   ],
   "source": [
    "# Usamos eli5 para sacar las features más predictoras. MÉTODO 2\n",
    "import eli5\n",
    "from eli5 import explain_weights, explain_prediction\n",
    "\n",
    "\n",
    "eli5.show_weights(lr_cv_grid.best_estimator_,\n",
    "                  vec = baseline_vectorizer,\n",
    "                  target_names = df['sentiment'],\n",
    "                  horizontal_layout=False)"
   ]
  },
  {
   "cell_type": "markdown",
   "metadata": {},
   "source": [
    "## 5. Predecimos con el modelo escogido"
   ]
  },
  {
   "cell_type": "markdown",
   "metadata": {},
   "source": [
    "### 5.1. Logistic Regression CountVectorizer"
   ]
  },
  {
   "cell_type": "code",
   "execution_count": 800,
   "metadata": {},
   "outputs": [],
   "source": [
    "def get_label_predict(probas, i=0.5):\n",
    "    if np.argmax(probas)==0:\n",
    "        return 0\n",
    "    elif np.argmax(probas)==2:\n",
    "        return 4\n",
    "    elif np.argmax(probas)==1 and probas[1]<i:\n",
    "        if probas[2] > probas[0]:\n",
    "            return 3\n",
    "        else:\n",
    "            return 1\n",
    "    else:\n",
    "        return 2"
   ]
  },
  {
   "cell_type": "code",
   "execution_count": 801,
   "metadata": {},
   "outputs": [],
   "source": [
    "def pred_tweet(text):\n",
    "    text = transform_tweets(text)\n",
    "    \n",
    "    sentiment = ['Negativo', 'Neutro-negativo', 'Neutro', 'Neutro-positivo','Positivo']\n",
    "    X_pred = baseline_vectorizer.transform([text])\n",
    "    \n",
    "    print(lr_cv_grid.predict_proba(X_pred))\n",
    "    print('Tweet sentiment:', sentiment[get_label_predict(lr_cv_grid.predict_proba(X_pred)[0])])"
   ]
  },
  {
   "cell_type": "code",
   "execution_count": 709,
   "metadata": {},
   "outputs": [],
   "source": [
    "def pred_tweet_value(text):\n",
    "    text = transform_tweets(text)\n",
    "    \n",
    "    sentiment = [-1, 0, 1]\n",
    "    X_pred = baseline_vectorizer.transform([text])\n",
    "    \n",
    "    print(lr_cv_grid.predict_proba(X_pred))\n",
    "    print('Tweet sentiment:', sentiment[np.argmax(lr_cv_grid.predict_proba(X_pred))])"
   ]
  },
  {
   "cell_type": "code",
   "execution_count": 798,
   "metadata": {},
   "outputs": [
    {
     "name": "stdout",
     "output_type": "stream",
     "text": [
      "[[0.75810286 0.21478552 0.02711162]]\n",
      "Tweet sentiment: -1\n"
     ]
    }
   ],
   "source": [
    "pred_tweet_value('Yo hago caso a expertos de verdad y no voy a ser una puta rata de laboratorio. #YoNoMeVacuno')"
   ]
  },
  {
   "cell_type": "code",
   "execution_count": 802,
   "metadata": {},
   "outputs": [
    {
     "name": "stdout",
     "output_type": "stream",
     "text": [
      "[[0.44602454 0.46342271 0.09055275]]\n",
      "Tweet sentiment: Neutro-negativo\n"
     ]
    }
   ],
   "source": [
    "pred_tweet('Losantos contrata a la farmacéutica Pfizer \\\n",
    "para que descubra una vacuna contra el comunismo')"
   ]
  },
  {
   "cell_type": "code",
   "execution_count": 778,
   "metadata": {},
   "outputs": [
    {
     "name": "stdout",
     "output_type": "stream",
     "text": [
      "[[0.88547547 0.10412442 0.01040011]]\n",
      "Tweet sentiment: Negativo\n"
     ]
    }
   ],
   "source": [
    "pred_tweet('Están yendo descaradamente a por Joao. Y no es que no saque amarilla, es que no pita ni falta.')"
   ]
  },
  {
   "cell_type": "code",
   "execution_count": 803,
   "metadata": {},
   "outputs": [
    {
     "name": "stdout",
     "output_type": "stream",
     "text": [
      "[[0.68076501 0.2525008  0.06673419]]\n",
      "Tweet sentiment: Negativo\n"
     ]
    }
   ],
   "source": [
    "pred_tweet(\"\"\"Que el 90% de los mensajes que se están dando de cara \\\n",
    "a las navidades están hechos pensando en familias nucleares estándar es algo que me fascina.\n",
    "El no te juntes con nadie puede ser un poquito duro si vives solo, por ejemplo, y no es precisamente el caso de poca gente.\"\"\")"
   ]
  },
  {
   "cell_type": "code",
   "execution_count": 907,
   "metadata": {},
   "outputs": [
    {
     "name": "stdout",
     "output_type": "stream",
     "text": [
      "[[0.11734019 0.48665117 0.39600864]]\n",
      "Tweet sentiment: Neutro-positivo\n"
     ]
    }
   ],
   "source": [
    "pred_tweet('¡Enhorabuena! Trabajazo de @susanasolisp como \\\n",
    "negociadora del @Europarl_ES de los fondos estructurales. \\\n",
    "Explicación en el hilo.')"
   ]
  },
  {
   "cell_type": "code",
   "execution_count": 805,
   "metadata": {},
   "outputs": [
    {
     "name": "stdout",
     "output_type": "stream",
     "text": [
      "[[0.78265636 0.16689198 0.05045165]]\n",
      "Tweet sentiment: Negativo\n"
     ]
    }
   ],
   "source": [
    "text = \"\"\"\n",
    "Me duele mucho la cabeza y no tengo comida. Help\n",
    "\"\"\"\n",
    "\n",
    "text = transform_tweets(text)\n",
    "\n",
    "sentiment = ['Negativo', 'Neutro', 'Positivo']\n",
    "X_pred = baseline_vectorizer.transform([text])\n",
    "\n",
    "print(lr_cv_grid.predict_proba(X_pred))\n",
    "print('Tweet sentiment:', sentiment[np.argmax(lr_cv_grid.predict(X_pred))])"
   ]
  },
  {
   "cell_type": "code",
   "execution_count": 806,
   "metadata": {},
   "outputs": [
    {
     "name": "stdout",
     "output_type": "stream",
     "text": [
      "[[0.1205059  0.67390284 0.20559126]]\n",
      "Tweet sentiment: Neutro\n"
     ]
    }
   ],
   "source": [
    "pred_tweet('El reembolso a los pasajeros de @pullmantur comenzará antes de que finalice el año.')"
   ]
  },
  {
   "cell_type": "code",
   "execution_count": 807,
   "metadata": {},
   "outputs": [
    {
     "name": "stdout",
     "output_type": "stream",
     "text": [
      "[[0.01001369 0.09107153 0.89891478]]\n",
      "Tweet sentiment: Positivo\n"
     ]
    }
   ],
   "source": [
    "pred_tweet(\"\"\"\n",
    "Hoy toca viaje con @Pullmantur, ha sido un fin de semana fantástico. La única pega es que el almuerzo era escaso\n",
    "\"\"\")"
   ]
  },
  {
   "cell_type": "code",
   "execution_count": 811,
   "metadata": {},
   "outputs": [
    {
     "name": "stdout",
     "output_type": "stream",
     "text": [
      "[[0.59439933 0.29967154 0.10592913]]\n",
      "Tweet sentiment: Negativo\n"
     ]
    }
   ],
   "source": [
    "pred_tweet(\"\"\"\n",
    "Incertidumbre en la plantilla de #Pullmantur por el #ERE y los reembolsos a agencias https://el1.es/eTaq\n",
    "Ya hablamos de los problemas de la empresa en #malditoERE hace unas semanas: https://el1.es/5vXd y de sus problemas derivados del #COVID19\n",
    "\"\"\")"
   ]
  },
  {
   "cell_type": "markdown",
   "metadata": {},
   "source": [
    "### 5.2. RNN Bidireccional"
   ]
  },
  {
   "cell_type": "code",
   "execution_count": 908,
   "metadata": {},
   "outputs": [
    {
     "name": "stdout",
     "output_type": "stream",
     "text": [
      "Model: \"sequential_1\"\n",
      "_________________________________________________________________\n",
      "Layer (type)                 Output Shape              Param #   \n",
      "=================================================================\n",
      "embedding_1 (Embedding)      (None, 25, 40)            3769520   \n",
      "_________________________________________________________________\n",
      "bidirectional (Bidirectional (None, 40)                9760      \n",
      "_________________________________________________________________\n",
      "dense_1 (Dense)              (None, 3)                 123       \n",
      "=================================================================\n",
      "Total params: 3,779,403\n",
      "Trainable params: 3,779,403\n",
      "Non-trainable params: 0\n",
      "_________________________________________________________________\n"
     ]
    }
   ],
   "source": [
    "# Cargamos modelo \n",
    "path_model = 'best_model3.hdf5'\n",
    "\n",
    "best_model = load_model(path_model)\n",
    "\n",
    "best_model.summary()"
   ]
  },
  {
   "cell_type": "code",
   "execution_count": 912,
   "metadata": {},
   "outputs": [
    {
     "data": {
      "text/plain": [
       "'enhorabuena trabajazo {menc} negociador {menc} fondo estructural explicación hilar'"
      ]
     },
     "execution_count": 912,
     "metadata": {},
     "output_type": "execute_result"
    }
   ],
   "source": [
    "text = '¡Enhorabuena! Trabajazo de @susanasolisp como \\\n",
    "negociadora del @Europarl_ES de los fondos estructurales. \\\n",
    "Explicación en el hilo.'\n",
    "\n",
    "X_pred = transform_tweets(text)\n",
    "X_pred"
   ]
  },
  {
   "cell_type": "code",
   "execution_count": 914,
   "metadata": {},
   "outputs": [],
   "source": [
    "def pred_tweet_dl(tweet):\n",
    "    X_pred = transform_tweets(text)\n",
    "    sentiment = ['Negativo', 'Neutro', 'Positivo']\n",
    "    sequence = tokenizer.texts_to_sequences([X_pred])\n",
    "    X_pred = keras.preprocessing.sequence.pad_sequences(sequence, maxlen=INPUT_LENGTH)\n",
    "    print(best_model.predict(X_pred))\n",
    "    print('Tweet sentiment:', sentiment[np.argmax(best_model.predict(X_pred))])"
   ]
  },
  {
   "cell_type": "code",
   "execution_count": 913,
   "metadata": {},
   "outputs": [
    {
     "name": "stdout",
     "output_type": "stream",
     "text": [
      "[[0.08789508 0.2509113  0.6611936 ]]\n",
      "Tweet sentiment: Positivo\n"
     ]
    }
   ],
   "source": [
    "sentiment = ['Negativo', 'Neutro', 'Positivo']\n",
    "sequence = tokenizer.texts_to_sequences([X_pred])\n",
    "X_pred = keras.preprocessing.sequence.pad_sequences(sequence, maxlen=INPUT_LENGTH)\n",
    "print(best_model.predict(X_pred))\n",
    "print('Tweet sentiment:', sentiment[np.argmax(best_model.predict(X_pred))])"
   ]
  },
  {
   "cell_type": "markdown",
   "metadata": {},
   "source": [
    "### Pruebas entre ambos modelos"
   ]
  },
  {
   "cell_type": "code",
   "execution_count": 915,
   "metadata": {},
   "outputs": [
    {
     "name": "stdout",
     "output_type": "stream",
     "text": [
      "[[0.08789508 0.2509113  0.6611936 ]]\n",
      "Tweet sentiment: Positivo\n",
      "Red neuronal: None\n",
      "[[0.11734019 0.48665117 0.39600864]]\n",
      "Tweet sentiment: Neutro-positivo\n",
      "Regresión: None\n"
     ]
    }
   ],
   "source": [
    "text = '¡Enhorabuena! Trabajazo de @susanasolisp como \\\n",
    "negociadora del @Europarl_ES de los fondos estructurales. \\\n",
    "Explicación en el hilo.'\n",
    "\n",
    "print('Red neuronal:', pred_tweet_dl(text))\n",
    "print('Regresión:', pred_tweet(text))"
   ]
  },
  {
   "cell_type": "code",
   "execution_count": 916,
   "metadata": {},
   "outputs": [
    {
     "name": "stdout",
     "output_type": "stream",
     "text": [
      "[[0.03448131 0.16325404 0.8022647 ]]\n",
      "Tweet sentiment: Positivo\n",
      "Red neuronal: None\n",
      "[[0.01001369 0.09107153 0.89891478]]\n",
      "Tweet sentiment: Positivo\n",
      "Regresión: None\n"
     ]
    }
   ],
   "source": [
    "text = \"\"\"\n",
    "Hoy toca viaje con @Pullmantur, ha sido un fin de semana fantástico. La única pega es que el almuerzo era escaso\n",
    "\"\"\"\n",
    "\n",
    "print('Red neuronal:', pred_tweet_dl(text))\n",
    "print('Regresión:', pred_tweet(text))"
   ]
  },
  {
   "cell_type": "code",
   "execution_count": 917,
   "metadata": {},
   "outputs": [
    {
     "name": "stdout",
     "output_type": "stream",
     "text": [
      "[[0.7329121  0.23431127 0.03277657]]\n",
      "Tweet sentiment: Negativo\n",
      "Red neuronal: None\n",
      "[[0.44602454 0.46342271 0.09055275]]\n",
      "Tweet sentiment: Neutro-negativo\n",
      "Regresión: None\n"
     ]
    }
   ],
   "source": [
    "text = 'Losantos contrata a la farmacéutica Pfizer \\\n",
    "para que descubra una vacuna contra el comunismo'\n",
    "\n",
    "print('Red neuronal:', pred_tweet_dl(text))\n",
    "print('Regresión:', pred_tweet(text))"
   ]
  },
  {
   "cell_type": "code",
   "execution_count": 923,
   "metadata": {},
   "outputs": [
    {
     "name": "stdout",
     "output_type": "stream",
     "text": [
      "[[0.8603711  0.11563531 0.02399353]]\n",
      "Tweet sentiment: Negativo\n",
      "Red neuronal: None\n",
      "[[0.6374017  0.35089234 0.01170596]]\n",
      "Tweet sentiment: Negativo\n",
      "Regresión: None\n"
     ]
    }
   ],
   "source": [
    "text = \"Yo también he trabajado duro para poder pagarme un crucero que no he podido disfrutar y que tampoco me han devuelto el dinero que me costó. Es decir sin crucero y sin dinero.\"\n",
    "\n",
    "print('Red neuronal:', pred_tweet_dl(text))\n",
    "print('Regresión:', pred_tweet(text))"
   ]
  },
  {
   "cell_type": "markdown",
   "metadata": {},
   "source": [
    "**Evaluamos**"
   ]
  },
  {
   "cell_type": "code",
   "execution_count": 762,
   "metadata": {
    "collapsed": true,
    "jupyter": {
     "outputs_hidden": true
    }
   },
   "outputs": [
    {
     "data": {
      "text/plain": [
       "array([[2.22293751e-03, 7.98245200e-02, 9.17952542e-01],\n",
       "       [9.94606014e-01, 4.64142953e-03, 7.52556868e-04],\n",
       "       [5.25566734e-01, 4.25923894e-01, 4.85093719e-02],\n",
       "       ...,\n",
       "       [1.86432549e-02, 3.04396399e-02, 9.50917105e-01],\n",
       "       [1.56918288e-02, 1.09398407e-01, 8.74909764e-01],\n",
       "       [6.04792416e-03, 9.76290914e-01, 1.76611621e-02]])"
      ]
     },
     "execution_count": 762,
     "metadata": {},
     "output_type": "execute_result"
    }
   ],
   "source": [
    "y_pred_log_reg_cv_proba = lr_cv_grid.predict_proba(X_test_baseline)\n",
    "y_pred_log_reg_cv_proba"
   ]
  },
  {
   "cell_type": "code",
   "execution_count": 758,
   "metadata": {},
   "outputs": [],
   "source": [
    "from __future__ import print_function\n",
    "from ipywidgets import interact, interactive, fixed, interact_manual\n",
    "import ipywidgets as widgets\n",
    "\n",
    "def get_label(probas, i=0.55):\n",
    "    if np.argmax(probas)==0:\n",
    "        return -1\n",
    "    elif np.argmax(probas)==2:\n",
    "        return 1\n",
    "    elif np.argmax(probas)==1 and probas[1]<i:\n",
    "        if probas[2] > probas[0]:\n",
    "            return 1\n",
    "        else:\n",
    "            return -1\n",
    "    else:\n",
    "        return 0\n",
    "\n",
    "y_new = np.array(list(map(lambda x: get_label(x), y_pred_log_reg_cv_proba)))\n",
    "\n",
    "def interact_proba(i):\n",
    "    plt.clf()\n",
    "    \n",
    "    y_new = np.array(list(map(lambda x: get_label(x, i), y_pred_log_reg_cv_proba)))\n",
    "    \n",
    "    # Evaluamos modelo\n",
    "    sns.heatmap(confusion_matrix(y_test, y_new, normalize = 'true'),\n",
    "                annot=True, fmt='g', cmap = 'Blues', cbar = False);\n",
    "\n",
    "    plt.title(\"\"\"Accuracy para cada clase en función\n",
    "    del threshold controlado por el parámetro i\"\"\")\n",
    "    plt.xlabel('Predicted values')\n",
    "    plt.ylabel('Real values');\n",
    "\n",
    "    plt.show()"
   ]
  },
  {
   "cell_type": "code",
   "execution_count": 763,
   "metadata": {},
   "outputs": [
    {
     "data": {
      "application/vnd.jupyter.widget-view+json": {
       "model_id": "34f995ee7c424b84bc3be873458786b6",
       "version_major": 2,
       "version_minor": 0
      },
      "text/plain": [
       "interactive(children=(FloatSlider(value=0.5, description='i', max=1.0, step=0.01), Output()), _dom_classes=('w…"
      ]
     },
     "metadata": {},
     "output_type": "display_data"
    }
   ],
   "source": [
    "interact(interact_proba, i=(0.0,1.0,0.01));"
   ]
  },
  {
   "cell_type": "markdown",
   "metadata": {},
   "source": [
    "**Red Neuronal**"
   ]
  },
  {
   "cell_type": "code",
   "execution_count": null,
   "metadata": {},
   "outputs": [
    {
     "name": "stdout",
     "output_type": "stream",
     "text": [
      "WARNING:tensorflow:From <ipython-input-924-48b4d6659d0e>:1: Sequential.predict_proba (from tensorflow.python.keras.engine.sequential) is deprecated and will be removed after 2021-01-01.\n",
      "Instructions for updating:\n",
      "Please use `model.predict()` instead.\n"
     ]
    },
    {
     "name": "stderr",
     "output_type": "stream",
     "text": [
      "8496 | WARNING | From <ipython-input-924-48b4d6659d0e>:1: Sequential.predict_proba (from tensorflow.python.keras.engine.sequential) is deprecated and will be removed after 2021-01-01.\n",
      "Instructions for updating:\n",
      "Please use `model.predict()` instead.\n"
     ]
    },
    {
     "name": "stdout",
     "output_type": "stream",
     "text": [
      "WARNING:tensorflow:Model was constructed with shape (None, 25) for input Tensor(\"embedding_1_input:0\", shape=(None, 25), dtype=float32), but it was called on an input with incompatible shape (None, 1).\n"
     ]
    },
    {
     "name": "stderr",
     "output_type": "stream",
     "text": [
      "8496 | WARNING | Model was constructed with shape (None, 25) for input Tensor(\"embedding_1_input:0\", shape=(None, 25), dtype=float32), but it was called on an input with incompatible shape (None, 1).\n"
     ]
    }
   ],
   "source": [
    "model3.predict_proba(X_test)"
   ]
  },
  {
   "cell_type": "code",
   "execution_count": 632,
   "metadata": {
    "collapsed": true,
    "jupyter": {
     "outputs_hidden": true
    }
   },
   "outputs": [
    {
     "name": "stdout",
     "output_type": "stream",
     "text": [
      "WARNING:tensorflow:AutoGraph could not transform <function Model.make_predict_function.<locals>.predict_function at 0x000002D159DD1048> and will run it as-is.\n",
      "Please report this to the TensorFlow team. When filing the bug, set the verbosity to 10 (on Linux, `export AUTOGRAPH_VERBOSITY=10`) and attach the full output.\n",
      "Cause: Bad argument number for Name: 4, expecting 3\n",
      "To silence this warning, decorate the function with @tf.autograph.experimental.do_not_convert\n"
     ]
    },
    {
     "name": "stderr",
     "output_type": "stream",
     "text": [
      "8496 | WARNING | AutoGraph could not transform <function Model.make_predict_function.<locals>.predict_function at 0x000002D159DD1048> and will run it as-is.\n",
      "Please report this to the TensorFlow team. When filing the bug, set the verbosity to 10 (on Linux, `export AUTOGRAPH_VERBOSITY=10`) and attach the full output.\n",
      "Cause: Bad argument number for Name: 4, expecting 3\n",
      "To silence this warning, decorate the function with @tf.autograph.experimental.do_not_convert\n"
     ]
    },
    {
     "name": "stdout",
     "output_type": "stream",
     "text": [
      "WARNING: AutoGraph could not transform <function Model.make_predict_function.<locals>.predict_function at 0x000002D159DD1048> and will run it as-is.\n",
      "Please report this to the TensorFlow team. When filing the bug, set the verbosity to 10 (on Linux, `export AUTOGRAPH_VERBOSITY=10`) and attach the full output.\n",
      "Cause: Bad argument number for Name: 4, expecting 3\n",
      "To silence this warning, decorate the function with @tf.autograph.experimental.do_not_convert\n",
      "              precision    recall  f1-score   support\n",
      "\n",
      "           0       0.77      0.78      0.77     11743\n",
      "           1       0.64      0.66      0.65     12426\n",
      "           2       0.79      0.75      0.77     12518\n",
      "\n",
      "    accuracy                           0.73     36687\n",
      "   macro avg       0.73      0.73      0.73     36687\n",
      "weighted avg       0.73      0.73      0.73     36687\n",
      "\n"
     ]
    }
   ],
   "source": [
    "# Sacamos classification report\n",
    "y_pred_3 = model3.predict(X_test)\n",
    "print(classification_report(np.argmax(y_test, axis=1), np.argmax(y_pred_3, axis=1)))"
   ]
  },
  {
   "cell_type": "code",
   "execution_count": 635,
   "metadata": {},
   "outputs": [
    {
     "data": {
      "image/png": "[encoded data removed]",
      "text/plain": [
       "<Figure size 432x288 with 1 Axes>"
      ]
     },
     "metadata": {
      "needs_background": "light"
     },
     "output_type": "display_data"
    }
   ],
   "source": [
    "display_cm(y_test, y_pred_3)"
   ]
  }
 ],
 "metadata": {
  "kernelspec": {
   "display_name": "Python 3",
   "language": "python",
   "name": "python3"
  },
  "language_info": {
   "codemirror_mode": {
    "name": "ipython",
    "version": 3
   },
   "file_extension": ".py",
   "mimetype": "text/x-python",
   "name": "python",
   "nbconvert_exporter": "python",
   "pygments_lexer": "ipython3",
   "version": "3.7.9"
  }
 },
 "nbformat": 4,
 "nbformat_minor": 4
}
